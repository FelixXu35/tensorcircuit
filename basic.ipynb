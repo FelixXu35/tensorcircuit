{
 "cells": [
  {
   "cell_type": "code",
   "execution_count": 1,
   "metadata": {},
   "outputs": [
    {
     "ename": "ModuleNotFoundError",
     "evalue": "No module named 'tensorflow'",
     "output_type": "error",
     "traceback": [
      "\u001b[0;31m---------------------------------------------------------------------------\u001b[0m",
      "\u001b[0;31mModuleNotFoundError\u001b[0m                       Traceback (most recent call last)",
      "Cell \u001b[0;32mIn[1], line 5\u001b[0m\n\u001b[1;32m      3\u001b[0m \u001b[39mimport\u001b[39;00m \u001b[39msys\u001b[39;00m\n\u001b[1;32m      4\u001b[0m \u001b[39mimport\u001b[39;00m \u001b[39mnumpy\u001b[39;00m \u001b[39mas\u001b[39;00m \u001b[39mnp\u001b[39;00m\n\u001b[0;32m----> 5\u001b[0m \u001b[39mimport\u001b[39;00m \u001b[39mtensorflow\u001b[39;00m \u001b[39mas\u001b[39;00m \u001b[39mtf\u001b[39;00m\n",
      "\u001b[0;31mModuleNotFoundError\u001b[0m: No module named 'tensorflow'"
     ]
    }
   ],
   "source": [
    "import tensorcircuit as tc\n",
    "import inspect\n",
    "import sys\n",
    "import numpy as np\n",
    "import tensorflow as tf"
   ]
  },
  {
   "cell_type": "code",
   "execution_count": 4,
   "metadata": {},
   "outputs": [],
   "source": [
    "def get_circuit(n):\n",
    "    c = tc.Circuit(n)\n",
    "    for i in range(n):\n",
    "        c.H(i)\n",
    "    c.CNOT(n-1, n-2)\n",
    "    return c"
   ]
  },
  {
   "cell_type": "code",
   "execution_count": 5,
   "metadata": {},
   "outputs": [
    {
     "data": {
      "text/html": [
       "<pre style=\"word-wrap: normal;white-space: pre;background: #fff0;line-height: 1.1;font-family: &quot;Courier New&quot;,Courier,monospace\">     ┌───┐     \n",
       "q_0: ┤ H ├─────\n",
       "     ├───┤     \n",
       "q_1: ┤ H ├─────\n",
       "     ├───┤     \n",
       "q_2: ┤ H ├─────\n",
       "     ├───┤┌───┐\n",
       "q_3: ┤ H ├┤ X ├\n",
       "     ├───┤└─┬─┘\n",
       "q_4: ┤ H ├──■──\n",
       "     └───┘     </pre>"
      ],
      "text/plain": [
       "     ┌───┐     \n",
       "q_0: ┤ H ├─────\n",
       "     ├───┤     \n",
       "q_1: ┤ H ├─────\n",
       "     ├───┤     \n",
       "q_2: ┤ H ├─────\n",
       "     ├───┤┌───┐\n",
       "q_3: ┤ H ├┤ X ├\n",
       "     ├───┤└─┬─┘\n",
       "q_4: ┤ H ├──■──\n",
       "     └───┘     "
      ]
     },
     "execution_count": 5,
     "metadata": {},
     "output_type": "execute_result"
    }
   ],
   "source": [
    "c = get_circuit(5)\n",
    "c.draw()"
   ]
  },
  {
   "cell_type": "code",
   "execution_count": 5,
   "metadata": {},
   "outputs": [
    {
     "ename": "TypeError",
     "evalue": "only size-1 arrays can be converted to Python scalars",
     "output_type": "error",
     "traceback": [
      "\u001b[0;31m---------------------------------------------------------------------------\u001b[0m",
      "\u001b[0;31mTypeError\u001b[0m                                 Traceback (most recent call last)",
      "Cell \u001b[0;32mIn[5], line 11\u001b[0m\n\u001b[1;32m      8\u001b[0m qc \u001b[39m=\u001b[39m QuantumCircuit(\u001b[39m1\u001b[39m)\n\u001b[1;32m     10\u001b[0m \u001b[39m# Initialize the circuit using the density matrix\u001b[39;00m\n\u001b[0;32m---> 11\u001b[0m qc\u001b[39m.\u001b[39;49minitialize(rho, [\u001b[39m0\u001b[39;49m])\n\u001b[1;32m     13\u001b[0m \u001b[39m# Measure the qubit\u001b[39;00m\n\u001b[1;32m     14\u001b[0m qc\u001b[39m.\u001b[39mmeasure_all()\n",
      "File \u001b[0;32m~/opt/anaconda3/envs/QC/lib/python3.10/site-packages/qiskit/extensions/quantum_initializer/initializer.py:191\u001b[0m, in \u001b[0;36minitialize\u001b[0;34m(self, params, qubits)\u001b[0m\n\u001b[1;32m    188\u001b[0m     qubits \u001b[39m=\u001b[39m [qubits]\n\u001b[1;32m    189\u001b[0m num_qubits \u001b[39m=\u001b[39m \u001b[39mlen\u001b[39m(qubits) \u001b[39mif\u001b[39;00m \u001b[39misinstance\u001b[39m(params, \u001b[39mint\u001b[39m) \u001b[39melse\u001b[39;00m \u001b[39mNone\u001b[39;00m\n\u001b[0;32m--> 191\u001b[0m \u001b[39mreturn\u001b[39;00m \u001b[39mself\u001b[39m\u001b[39m.\u001b[39mappend(Initialize(params, num_qubits), qubits)\n",
      "File \u001b[0;32m~/opt/anaconda3/envs/QC/lib/python3.10/site-packages/qiskit/extensions/quantum_initializer/initializer.py:57\u001b[0m, in \u001b[0;36mInitialize.__init__\u001b[0;34m(self, params, num_qubits)\u001b[0m\n\u001b[1;32m     36\u001b[0m \u001b[39mdef\u001b[39;00m \u001b[39m__init__\u001b[39m(\u001b[39mself\u001b[39m, params, num_qubits\u001b[39m=\u001b[39m\u001b[39mNone\u001b[39;00m):\n\u001b[1;32m     37\u001b[0m \u001b[39m    \u001b[39m\u001b[39mr\u001b[39m\u001b[39m\"\"\"Create new initialize composite.\u001b[39;00m\n\u001b[1;32m     38\u001b[0m \n\u001b[1;32m     39\u001b[0m \u001b[39m    Args:\u001b[39;00m\n\u001b[0;32m   (...)\u001b[0m\n\u001b[1;32m     55\u001b[0m \u001b[39m            and the remaining 3 qubits to be initialized to :math:`|0\\rangle`.\u001b[39;00m\n\u001b[1;32m     56\u001b[0m \u001b[39m    \"\"\"\u001b[39;00m\n\u001b[0;32m---> 57\u001b[0m     \u001b[39mself\u001b[39m\u001b[39m.\u001b[39m_stateprep \u001b[39m=\u001b[39m StatePreparation(params, num_qubits)\n\u001b[1;32m     59\u001b[0m     \u001b[39msuper\u001b[39m()\u001b[39m.\u001b[39m\u001b[39m__init__\u001b[39m(\u001b[39m\"\u001b[39m\u001b[39minitialize\u001b[39m\u001b[39m\"\u001b[39m, \u001b[39mself\u001b[39m\u001b[39m.\u001b[39m_stateprep\u001b[39m.\u001b[39mnum_qubits, \u001b[39m0\u001b[39m, \u001b[39mself\u001b[39m\u001b[39m.\u001b[39m_stateprep\u001b[39m.\u001b[39mparams)\n",
      "File \u001b[0;32m~/opt/anaconda3/envs/QC/lib/python3.10/site-packages/qiskit/circuit/library/data_preparation/state_preparation.py:99\u001b[0m, in \u001b[0;36mStatePreparation.__init__\u001b[0;34m(self, params, num_qubits, inverse, label)\u001b[0m\n\u001b[1;32m     96\u001b[0m \u001b[39mself\u001b[39m\u001b[39m.\u001b[39m_from_label \u001b[39m=\u001b[39m \u001b[39misinstance\u001b[39m(params, \u001b[39mstr\u001b[39m)\n\u001b[1;32m     97\u001b[0m \u001b[39mself\u001b[39m\u001b[39m.\u001b[39m_from_int \u001b[39m=\u001b[39m \u001b[39misinstance\u001b[39m(params, \u001b[39mint\u001b[39m)\n\u001b[0;32m---> 99\u001b[0m num_qubits \u001b[39m=\u001b[39m \u001b[39mself\u001b[39;49m\u001b[39m.\u001b[39;49m_get_num_qubits(num_qubits, params)\n\u001b[1;32m    101\u001b[0m params \u001b[39m=\u001b[39m [params] \u001b[39mif\u001b[39;00m \u001b[39misinstance\u001b[39m(params, \u001b[39mint\u001b[39m) \u001b[39melse\u001b[39;00m params\n\u001b[1;32m    103\u001b[0m \u001b[39msuper\u001b[39m()\u001b[39m.\u001b[39m\u001b[39m__init__\u001b[39m(\u001b[39mself\u001b[39m\u001b[39m.\u001b[39m_name, num_qubits, params, label\u001b[39m=\u001b[39m\u001b[39mself\u001b[39m\u001b[39m.\u001b[39m_label)\n",
      "File \u001b[0;32m~/opt/anaconda3/envs/QC/lib/python3.10/site-packages/qiskit/circuit/library/data_preparation/state_preparation.py:201\u001b[0m, in \u001b[0;36mStatePreparation._get_num_qubits\u001b[0;34m(self, num_qubits, params)\u001b[0m\n\u001b[1;32m    198\u001b[0m     \u001b[39mraise\u001b[39;00m QiskitError(\u001b[39m\"\u001b[39m\u001b[39mDesired statevector length not a positive power of 2.\u001b[39m\u001b[39m\"\u001b[39m)\n\u001b[1;32m    200\u001b[0m \u001b[39m# Check if probabilities (amplitudes squared) sum to 1\u001b[39;00m\n\u001b[0;32m--> 201\u001b[0m \u001b[39mif\u001b[39;00m \u001b[39mnot\u001b[39;00m math\u001b[39m.\u001b[39;49misclose(\u001b[39msum\u001b[39;49m(np\u001b[39m.\u001b[39;49mabsolute(params) \u001b[39m*\u001b[39;49m\u001b[39m*\u001b[39;49m \u001b[39m2\u001b[39;49m), \u001b[39m1.0\u001b[39;49m, abs_tol\u001b[39m=\u001b[39;49m_EPS):\n\u001b[1;32m    202\u001b[0m     \u001b[39mraise\u001b[39;00m QiskitError(\u001b[39m\"\u001b[39m\u001b[39mSum of amplitudes-squared does not equal one.\u001b[39m\u001b[39m\"\u001b[39m)\n\u001b[1;32m    204\u001b[0m num_qubits \u001b[39m=\u001b[39m \u001b[39mint\u001b[39m(num_qubits)\n",
      "\u001b[0;31mTypeError\u001b[0m: only size-1 arrays can be converted to Python scalars"
     ]
    }
   ],
   "source": [
    "from qiskit import QuantumCircuit, execute, Aer\n",
    "import numpy as np\n",
    "\n",
    "# Define the density matrix\n",
    "rho = np.array([[0.5, 0.5], [0.5, 0.5]])\n",
    "\n",
    "# Create a quantum circuit with 1 qubit\n",
    "qc = QuantumCircuit(1)\n",
    "\n",
    "# Initialize the circuit using the density matrix\n",
    "qc.initialize(rho, [0])\n",
    "\n",
    "# Measure the qubit\n",
    "qc.measure_all()"
   ]
  },
  {
   "cell_type": "code",
   "execution_count": 3,
   "metadata": {},
   "outputs": [
    {
     "name": "stdout",
     "output_type": "stream",
     "text": [
      "Epoch 1/50\n",
      "782/782 [==============================] - 71s 84ms/step - loss: 4.7206 - accuracy: 0.0731\n",
      "Epoch 2/50\n",
      "782/782 [==============================] - 63s 80ms/step - loss: 4.4019 - accuracy: 0.0986\n",
      "Epoch 3/50\n",
      "782/782 [==============================] - 62s 80ms/step - loss: 3.8577 - accuracy: 0.1425\n",
      "Epoch 4/50\n",
      "782/782 [==============================] - 62s 79ms/step - loss: 3.5428 - accuracy: 0.1898\n",
      "Epoch 5/50\n",
      "782/782 [==============================] - 62s 80ms/step - loss: 4.1066 - accuracy: 0.1150\n",
      "Epoch 6/50\n",
      "782/782 [==============================] - 62s 79ms/step - loss: 3.5761 - accuracy: 0.1736\n",
      "Epoch 7/50\n",
      "782/782 [==============================] - 62s 79ms/step - loss: 3.2676 - accuracy: 0.2241\n",
      "Epoch 8/50\n",
      "782/782 [==============================] - 61s 78ms/step - loss: 3.0945 - accuracy: 0.2527\n",
      "Epoch 9/50\n",
      "782/782 [==============================] - 60s 77ms/step - loss: 2.9260 - accuracy: 0.2842\n",
      "Epoch 10/50\n",
      "782/782 [==============================] - 60s 77ms/step - loss: 2.7831 - accuracy: 0.3116\n",
      "Epoch 11/50\n",
      "782/782 [==============================] - 60s 77ms/step - loss: 3.0005 - accuracy: 0.2868\n",
      "Epoch 12/50\n",
      "782/782 [==============================] - 60s 77ms/step - loss: 2.8402 - accuracy: 0.2978\n",
      "Epoch 13/50\n",
      "782/782 [==============================] - 60s 77ms/step - loss: 2.5401 - accuracy: 0.3518\n",
      "Epoch 14/50\n",
      "782/782 [==============================] - 59s 76ms/step - loss: 2.3532 - accuracy: 0.3887\n",
      "Epoch 15/50\n",
      "782/782 [==============================] - 59s 76ms/step - loss: 2.2017 - accuracy: 0.4194\n",
      "Epoch 16/50\n",
      "782/782 [==============================] - 60s 76ms/step - loss: 2.0026 - accuracy: 0.4609\n",
      "Epoch 17/50\n",
      "782/782 [==============================] - 59s 76ms/step - loss: 1.8789 - accuracy: 0.4895\n",
      "Epoch 18/50\n",
      "782/782 [==============================] - 59s 76ms/step - loss: 1.7841 - accuracy: 0.5098\n",
      "Epoch 19/50\n",
      "782/782 [==============================] - 59s 76ms/step - loss: 1.5877 - accuracy: 0.5590\n",
      "Epoch 20/50\n",
      "782/782 [==============================] - 59s 76ms/step - loss: 1.4635 - accuracy: 0.5885\n",
      "Epoch 21/50\n",
      "782/782 [==============================] - 59s 76ms/step - loss: 1.1205 - accuracy: 0.6772\n",
      "Epoch 22/50\n",
      "782/782 [==============================] - 60s 76ms/step - loss: 0.9760 - accuracy: 0.7169\n",
      "Epoch 23/50\n",
      "782/782 [==============================] - 60s 76ms/step - loss: 0.7564 - accuracy: 0.7769\n",
      "Epoch 24/50\n",
      "782/782 [==============================] - 60s 76ms/step - loss: 0.6958 - accuracy: 0.7920\n",
      "Epoch 25/50\n",
      "782/782 [==============================] - 60s 76ms/step - loss: 0.5616 - accuracy: 0.8321\n",
      "Epoch 26/50\n",
      "782/782 [==============================] - 60s 76ms/step - loss: 0.4662 - accuracy: 0.8631\n",
      "Epoch 27/50\n",
      "782/782 [==============================] - 60s 76ms/step - loss: 0.3879 - accuracy: 0.8838\n",
      "Epoch 28/50\n",
      "782/782 [==============================] - 60s 76ms/step - loss: 0.3756 - accuracy: 0.8876\n",
      "Epoch 29/50\n",
      "782/782 [==============================] - 60s 76ms/step - loss: 0.9592 - accuracy: 0.7230\n",
      "Epoch 30/50\n",
      "782/782 [==============================] - 60s 76ms/step - loss: 0.2446 - accuracy: 0.9320\n",
      "Epoch 31/50\n",
      "782/782 [==============================] - 60s 76ms/step - loss: 0.3131 - accuracy: 0.9066\n",
      "Epoch 32/50\n",
      "782/782 [==============================] - 60s 77ms/step - loss: 0.2317 - accuracy: 0.9311\n",
      "Epoch 33/50\n",
      "782/782 [==============================] - 60s 76ms/step - loss: 0.2054 - accuracy: 0.9378\n",
      "Epoch 34/50\n",
      "782/782 [==============================] - 60s 76ms/step - loss: 0.2352 - accuracy: 0.9279\n",
      "Epoch 35/50\n",
      "782/782 [==============================] - 60s 76ms/step - loss: 0.1931 - accuracy: 0.9417\n",
      "Epoch 36/50\n",
      "782/782 [==============================] - 60s 76ms/step - loss: 0.2981 - accuracy: 0.9099\n",
      "Epoch 37/50\n",
      "782/782 [==============================] - 63s 81ms/step - loss: 0.2540 - accuracy: 0.9223\n",
      "Epoch 38/50\n",
      "782/782 [==============================] - 63s 81ms/step - loss: 0.2146 - accuracy: 0.9357\n",
      "Epoch 39/50\n",
      "782/782 [==============================] - 64s 82ms/step - loss: 0.1883 - accuracy: 0.9429\n",
      "Epoch 40/50\n",
      "782/782 [==============================] - 63s 81ms/step - loss: 0.2651 - accuracy: 0.9189\n",
      "Epoch 41/50\n",
      "782/782 [==============================] - 62s 80ms/step - loss: 0.3510 - accuracy: 0.8966\n",
      "Epoch 42/50\n",
      "782/782 [==============================] - 61s 78ms/step - loss: 0.1024 - accuracy: 0.9700\n",
      "Epoch 43/50\n",
      "782/782 [==============================] - 62s 79ms/step - loss: 0.1162 - accuracy: 0.9641\n",
      "Epoch 44/50\n",
      "782/782 [==============================] - 60s 77ms/step - loss: 0.1500 - accuracy: 0.9541\n",
      "Epoch 45/50\n",
      "782/782 [==============================] - 60s 76ms/step - loss: 0.1388 - accuracy: 0.9558\n",
      "Epoch 46/50\n",
      "782/782 [==============================] - 60s 76ms/step - loss: 0.1570 - accuracy: 0.9508\n",
      "Epoch 47/50\n",
      "782/782 [==============================] - 60s 76ms/step - loss: 0.1218 - accuracy: 0.9614\n",
      "Epoch 48/50\n",
      "782/782 [==============================] - 60s 76ms/step - loss: 0.2104 - accuracy: 0.9343\n",
      "Epoch 49/50\n",
      "782/782 [==============================] - 60s 76ms/step - loss: 0.1842 - accuracy: 0.9449\n",
      "Epoch 50/50\n",
      "782/782 [==============================] - 60s 76ms/step - loss: 0.1798 - accuracy: 0.9439\n"
     ]
    },
    {
     "data": {
      "text/plain": [
       "<keras.callbacks.History at 0x29986eaa0>"
      ]
     },
     "execution_count": 3,
     "metadata": {},
     "output_type": "execute_result"
    }
   ],
   "source": [
    "import tensorflow as tf\n",
    "\n",
    "cifar = tf.keras.datasets.cifar100\n",
    "(x_train, y_train), (x_test, y_test) = cifar.load_data()\n",
    "model = tf.keras.applications.ResNet50(\n",
    "    include_top=True,\n",
    "    weights=None,\n",
    "    input_shape=(32, 32, 3),\n",
    "    classes=100,)\n",
    "\n",
    "loss_fn = tf.keras.losses.SparseCategoricalCrossentropy(from_logits=True)\n",
    "model.compile(optimizer=\"adam\", loss=loss_fn, metrics=[\"accuracy\"])\n",
    "model.fit(x_train, y_train, epochs=50, batch_size=64)"
   ]
  },
  {
   "cell_type": "code",
   "execution_count": 6,
   "metadata": {},
   "outputs": [
    {
     "name": "stdout",
     "output_type": "stream",
     "text": [
      "['i', 'x', 'y', 'z', 'h', 't', 's', 'td', 'sd', 'wroot', 'cnot', 'cz', 'swap', 'cy', 'ox', 'oy', 'oz', 'toffoli', 'fredkin']\n"
     ]
    }
   ],
   "source": [
    "print(tc.Circuit.sgates)"
   ]
  },
  {
   "cell_type": "code",
   "execution_count": null,
   "metadata": {},
   "outputs": [],
   "source": []
  }
 ],
 "metadata": {
  "kernelspec": {
   "display_name": "TensorCircuit",
   "language": "python",
   "name": "python3"
  },
  "language_info": {
   "codemirror_mode": {
    "name": "ipython",
    "version": 3
   },
   "file_extension": ".py",
   "mimetype": "text/x-python",
   "name": "python",
   "nbconvert_exporter": "python",
   "pygments_lexer": "ipython3",
   "version": "3.10.10"
  },
  "orig_nbformat": 4
 },
 "nbformat": 4,
 "nbformat_minor": 2
}
