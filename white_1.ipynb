{
 "cells": [
  {
   "cell_type": "code",
   "execution_count": 246,
   "metadata": {},
   "outputs": [],
   "source": [
    "import tensorcircuit as tc\n",
    "import numpy as np"
   ]
  },
  {
   "cell_type": "code",
   "execution_count": 251,
   "metadata": {},
   "outputs": [],
   "source": [
    "c = tc.Circuit(2)\n",
    "c.rx(0, theta=0.2)\n",
    "c.ry(1, theta=0.4)"
   ]
  },
  {
   "cell_type": "code",
   "execution_count": 256,
   "metadata": {},
   "outputs": [
    {
     "name": "stdout",
     "output_type": "stream",
     "text": [
      "[0.97517033+0.j 0.        +0.j]\n"
     ]
    },
    {
     "ename": "ValueError",
     "evalue": "The final node after contraction has more than one remaining edge. In this case `output_edge_order` has to be provided.",
     "output_type": "error",
     "traceback": [
      "\u001b[0;31m---------------------------------------------------------------------------\u001b[0m",
      "\u001b[0;31mValueError\u001b[0m                                Traceback (most recent call last)",
      "Cell \u001b[0;32mIn[256], line 2\u001b[0m\n\u001b[1;32m      1\u001b[0m \u001b[39mprint\u001b[39m(c\u001b[39m.\u001b[39mamplitude(\u001b[39m\"\u001b[39m\u001b[39m000\u001b[39m\u001b[39m\"\u001b[39m))\n\u001b[0;32m----> 2\u001b[0m \u001b[39mprint\u001b[39m(c\u001b[39m.\u001b[39;49mamplitude(\u001b[39m\"\u001b[39;49m\u001b[39m0000\u001b[39;49m\u001b[39m\"\u001b[39;49m))\n\u001b[1;32m      3\u001b[0m \u001b[39mprint\u001b[39m(c\u001b[39m.\u001b[39mamplitude(\u001b[39m\"\u001b[39m\u001b[39m0001\u001b[39m\u001b[39m\"\u001b[39m))\n",
      "File \u001b[0;32m~/opt/anaconda3/envs/QC/lib/python3.10/site-packages/tensorcircuit/basecircuit.py:504\u001b[0m, in \u001b[0;36mBaseCircuit.amplitude\u001b[0;34m(self, l)\u001b[0m\n\u001b[1;32m    502\u001b[0m \u001b[39mif\u001b[39;00m \u001b[39mself\u001b[39m\u001b[39m.\u001b[39mis_dm:\n\u001b[1;32m    503\u001b[0m     no\u001b[39m.\u001b[39mextend(msconj)\n\u001b[0;32m--> 504\u001b[0m \u001b[39mreturn\u001b[39;00m contractor(no)\u001b[39m.\u001b[39mtensor\n",
      "File \u001b[0;32m~/opt/anaconda3/envs/QC/lib/python3.10/site-packages/tensorcircuit/cons.py:655\u001b[0m, in \u001b[0;36mcustom\u001b[0;34m(nodes, optimizer, memory_limit, output_edge_order, ignore_edge_order, **kws)\u001b[0m\n\u001b[1;32m    653\u001b[0m     alg \u001b[39m=\u001b[39m optimizer\n\u001b[1;32m    654\u001b[0m debug_level \u001b[39m=\u001b[39m kws\u001b[39m.\u001b[39mget(\u001b[39m\"\u001b[39m\u001b[39mdebug_level\u001b[39m\u001b[39m\"\u001b[39m, \u001b[39m0\u001b[39m)\n\u001b[0;32m--> 655\u001b[0m \u001b[39mreturn\u001b[39;00m _base(\n\u001b[1;32m    656\u001b[0m     nodes,\n\u001b[1;32m    657\u001b[0m     alg,\n\u001b[1;32m    658\u001b[0m     output_edge_order,\n\u001b[1;32m    659\u001b[0m     ignore_edge_order,\n\u001b[1;32m    660\u001b[0m     total_size,\n\u001b[1;32m    661\u001b[0m     debug_level\u001b[39m=\u001b[39;49mdebug_level,\n\u001b[1;32m    662\u001b[0m )\n",
      "File \u001b[0;32m~/opt/anaconda3/envs/QC/lib/python3.10/site-packages/tensorcircuit/cons.py:561\u001b[0m, in \u001b[0;36m_base\u001b[0;34m(nodes, algorithm, output_edge_order, ignore_edge_order, total_size, debug_level)\u001b[0m\n\u001b[1;32m    559\u001b[0m     output_edge_order \u001b[39m=\u001b[39m \u001b[39mlist\u001b[39m(tn\u001b[39m.\u001b[39mget_subgraph_dangling(nodes))\n\u001b[1;32m    560\u001b[0m     \u001b[39mif\u001b[39;00m \u001b[39mlen\u001b[39m(output_edge_order) \u001b[39m>\u001b[39m \u001b[39m1\u001b[39m:\n\u001b[0;32m--> 561\u001b[0m         \u001b[39mraise\u001b[39;00m \u001b[39mValueError\u001b[39;00m(\n\u001b[1;32m    562\u001b[0m             \u001b[39m\"\u001b[39m\u001b[39mThe final node after contraction has more than \u001b[39m\u001b[39m\"\u001b[39m\n\u001b[1;32m    563\u001b[0m             \u001b[39m\"\u001b[39m\u001b[39mone remaining edge. In this case `output_edge_order` \u001b[39m\u001b[39m\"\u001b[39m\n\u001b[1;32m    564\u001b[0m             \u001b[39m\"\u001b[39m\u001b[39mhas to be provided.\u001b[39m\u001b[39m\"\u001b[39m\n\u001b[1;32m    565\u001b[0m         )\n\u001b[1;32m    567\u001b[0m \u001b[39mif\u001b[39;00m \u001b[39mset\u001b[39m(output_edge_order) \u001b[39m!=\u001b[39m tn\u001b[39m.\u001b[39mget_subgraph_dangling(nodes):\n\u001b[1;32m    568\u001b[0m     \u001b[39mraise\u001b[39;00m \u001b[39mValueError\u001b[39;00m(\n\u001b[1;32m    569\u001b[0m         \u001b[39m\"\u001b[39m\u001b[39moutput edges are not equal to the remaining \u001b[39m\u001b[39m\"\u001b[39m\n\u001b[1;32m    570\u001b[0m         \u001b[39m\"\u001b[39m\u001b[39mnon-contracted edges of the final node.\u001b[39m\u001b[39m\"\u001b[39m\n\u001b[1;32m    571\u001b[0m     )\n",
      "\u001b[0;31mValueError\u001b[0m: The final node after contraction has more than one remaining edge. In this case `output_edge_order` has to be provided."
     ]
    }
   ],
   "source": [
    "print(c.amplitude(\"000\"))\n",
    "print(c.amplitude(\"0000\"))\n",
    "print(c.amplitude(\"0001\"))"
   ]
  },
  {
   "cell_type": "code",
   "execution_count": 197,
   "metadata": {},
   "outputs": [
    {
     "name": "stdout",
     "output_type": "stream",
     "text": [
      "yes\n",
      "yes\n",
      "yes\n"
     ]
    }
   ],
   "source": [
    "sv = c.state()\n",
    "for i in range(100):\n",
    "    sp = c.sample()[0]\n",
    "    if sp[1] == 1:\n",
    "        print(\"yes\")"
   ]
  },
  {
   "cell_type": "code",
   "execution_count": 244,
   "metadata": {},
   "outputs": [
    {
     "data": {
      "text/plain": [
       "(array([0., 0.]), -1.0)"
      ]
     },
     "execution_count": 244,
     "metadata": {},
     "output_type": "execute_result"
    }
   ],
   "source": [
    "c.measure(1, 0)"
   ]
  }
 ],
 "metadata": {
  "kernelspec": {
   "display_name": "QC",
   "language": "python",
   "name": "python3"
  },
  "language_info": {
   "codemirror_mode": {
    "name": "ipython",
    "version": 3
   },
   "file_extension": ".py",
   "mimetype": "text/x-python",
   "name": "python",
   "nbconvert_exporter": "python",
   "pygments_lexer": "ipython3",
   "version": "3.10.10"
  },
  "orig_nbformat": 4
 },
 "nbformat": 4,
 "nbformat_minor": 2
}
