{
 "cells": [
  {
   "cell_type": "code",
   "execution_count": 10,
   "metadata": {},
   "outputs": [
    {
     "name": "stdout",
     "output_type": "stream",
     "text": [
      "4\n",
      "5\n"
     ]
    }
   ],
   "source": [
    "class Example_A:\n",
    "    class_var_1 = 4\n",
    "\n",
    "    def print_class_var(self):\n",
    "        print(Example_A.class_var_1)\n",
    "\n",
    "    def chang_class_var(self, value):\n",
    "        Example_A.class_var_1 = value\n",
    "\n",
    "B = Example_A()\n",
    "B.class_var_1 = 5\n",
    "C = Example_A()\n",
    "C.class_var_1\n",
    "B.print_class_var()\n",
    "Example_A.class_var_1 = 5\n",
    "B.print_class_var()"
   ]
  },
  {
   "cell_type": "code",
   "execution_count": 23,
   "metadata": {},
   "outputs": [
    {
     "name": "stdout",
     "output_type": "stream",
     "text": [
      "7\n",
      "9\n",
      "12\n",
      "15\n",
      "17\n"
     ]
    }
   ],
   "source": [
    "class class_D:\n",
    "    class_var = 5\n",
    "\n",
    "    @classmethod\n",
    "    def class_method(cls, a):\n",
    "        cls.class_var += a\n",
    "        print(cls.class_var)\n",
    "\n",
    "D = class_D()\n",
    "class_D.class_method(2)\n",
    "class_D.class_method(2)\n",
    "D.class_method(3)\n",
    "D.class_method(3)\n",
    "class_D.class_method(2)"
   ]
  },
  {
   "cell_type": "code",
   "execution_count": 26,
   "metadata": {},
   "outputs": [
    {
     "name": "stdout",
     "output_type": "stream",
     "text": [
      "3\n"
     ]
    }
   ],
   "source": [
    "class Class_E:\n",
    "    @staticmethod\n",
    "    def addition(a, b):\n",
    "        print(a+b)\n",
    "\n",
    "E = Class_E()\n",
    "E.addition(1, 2)"
   ]
  }
 ],
 "metadata": {
  "kernelspec": {
   "display_name": "QC",
   "language": "python",
   "name": "python3"
  },
  "language_info": {
   "codemirror_mode": {
    "name": "ipython",
    "version": 3
   },
   "file_extension": ".py",
   "mimetype": "text/x-python",
   "name": "python",
   "nbconvert_exporter": "python",
   "pygments_lexer": "ipython3",
   "version": "3.10.10"
  },
  "orig_nbformat": 4
 },
 "nbformat": 4,
 "nbformat_minor": 2
}
