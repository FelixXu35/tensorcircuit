{
 "cells": [
  {
   "cell_type": "code",
   "execution_count": 22,
   "metadata": {},
   "outputs": [],
   "source": [
    "class Animal:\n",
    "    def speak(self, n):\n",
    "        print(1)"
   ]
  },
  {
   "cell_type": "code",
   "execution_count": 23,
   "metadata": {},
   "outputs": [
    {
     "ename": "TypeError",
     "evalue": "Animal.speak() missing 1 required positional argument: 'n'",
     "output_type": "error",
     "traceback": [
      "\u001b[0;31m---------------------------------------------------------------------------\u001b[0m",
      "\u001b[0;31mTypeError\u001b[0m                                 Traceback (most recent call last)",
      "Cell \u001b[0;32mIn[23], line 4\u001b[0m\n\u001b[1;32m      2\u001b[0m dog\u001b[39m.\u001b[39msound \u001b[39m=\u001b[39m \u001b[39m666\u001b[39m\n\u001b[1;32m      3\u001b[0m dog\u001b[39m.\u001b[39mcat \u001b[39m=\u001b[39m \u001b[39m78\u001b[39m\n\u001b[0;32m----> 4\u001b[0m dog\u001b[39m.\u001b[39;49mspeak()\n",
      "\u001b[0;31mTypeError\u001b[0m: Animal.speak() missing 1 required positional argument: 'n'"
     ]
    }
   ],
   "source": [
    "dog = Animal()\n",
    "dog.sound = 666\n",
    "dog.cat = 78\n",
    "dog.speak()"
   ]
  },
  {
   "cell_type": "code",
   "execution_count": 21,
   "metadata": {},
   "outputs": [
    {
     "ename": "TypeError",
     "evalue": "Animal.speak() takes 1 positional argument but 2 were given",
     "output_type": "error",
     "traceback": [
      "\u001b[0;31m---------------------------------------------------------------------------\u001b[0m",
      "\u001b[0;31mTypeError\u001b[0m                                 Traceback (most recent call last)",
      "Cell \u001b[0;32mIn[21], line 2\u001b[0m\n\u001b[1;32m      1\u001b[0m cat \u001b[39m=\u001b[39m Animal()\n\u001b[0;32m----> 2\u001b[0m cat\u001b[39m.\u001b[39;49mspeak(\u001b[39m3\u001b[39;49m)\n",
      "\u001b[0;31mTypeError\u001b[0m: Animal.speak() takes 1 positional argument but 2 were given"
     ]
    }
   ],
   "source": [
    "cat = Animal()\n",
    "cat.speak(3)"
   ]
  },
  {
   "cell_type": "code",
   "execution_count": 29,
   "metadata": {},
   "outputs": [
    {
     "name": "stdout",
     "output_type": "stream",
     "text": [
      "0.1\n"
     ]
    }
   ],
   "source": [
    "class Vehicle():\n",
    "    def set_n_wheels(self, n_wheels):\n",
    "        self.n_wheels = n_wheels\n",
    "    def set_power(self, power):\n",
    "        self.power = power\n",
    "    def get_avg(self):\n",
    "        print(self.n_wheels / self.power)\n",
    "\n",
    "car = Vehicle()\n",
    "car.set_n_wheels(2)\n",
    "car.set_power(20)\n",
    "car.get_avg()"
   ]
  }
 ],
 "metadata": {
  "kernelspec": {
   "display_name": "QC",
   "language": "python",
   "name": "python3"
  },
  "language_info": {
   "codemirror_mode": {
    "name": "ipython",
    "version": 3
   },
   "file_extension": ".py",
   "mimetype": "text/x-python",
   "name": "python",
   "nbconvert_exporter": "python",
   "pygments_lexer": "ipython3",
   "version": "3.10.10"
  },
  "orig_nbformat": 4
 },
 "nbformat": 4,
 "nbformat_minor": 2
}
