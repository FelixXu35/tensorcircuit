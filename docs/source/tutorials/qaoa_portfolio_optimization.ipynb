{
 "cells": [
  {
   "attachments": {},
   "cell_type": "markdown",
   "id": "6ddb8a88-779a-43f7-ae14-115463bd87f5",
   "metadata": {},
   "source": [
    "# Solving portfolio optimization as QUBO problem with QAOA\n",
    "\n",
    "## Overview\n",
    "\n",
    "Here we show how to solve a quadratic unconstrained binary optimization (QUBO) problem using QAOA.  Later on below we will extend this to show how to solve binary Markowitz portfolio optimization problems."
   ]
  },
  {
   "attachments": {},
   "cell_type": "markdown",
   "id": "77db924e",
   "metadata": {},
   "source": [
    "## QUBO problem\n",
    "\n",
    "### what is QUBO?\n",
    "\n",
    "Quadratic unconstrained binary optimization (QUBO) is a type of problem that aims to optimize a quadratic objective function using binary variables. In a QUBO problem, the objective is to find the binary variable assignments that minimize or maximize the quadratic objective function. These variables represent choices or decision variables that can be either selected (1) or not selected (0). The objective function reflects the associated costs, benefits, or constraints linked to these decisions.\n",
    "\n",
    "QUBO is a NP-hard problem.\n",
    "\n",
    "### An example\n",
    "\n",
    "We illustrate the QUBO problem with a simple example. Consider minimizing the following 2x2 QUBO objective function:\n",
    "\n",
    "$\\begin{pmatrix}x_1 & x_2\\end{pmatrix}\\begin{pmatrix}-5& -2 \\\\-2 & 6\\end{pmatrix}\\begin{pmatrix}x_1\\\\x_2\\end{pmatrix} = -5x_1^2 -4x_1x_2 +6x_2^2$\n",
    "\n",
    "Clearly this is minimized at $(x_1,x_2) = (1,0)$, with corresponding objective function value of $-5$\n",
    "\n",
    "We first convert this to an Ising Hamiltonian by mapping $x_i\\rightarrow \\frac{I-Z_i}{2}$\n",
    "\n",
    "This gives\n",
    "\n",
    "$$-\\frac{5}{4}(I-Z_1)^2 -\\frac{4}{4}(I-Z_1)(I-Z_2) + \\frac{6}{4}(I-Z_2)^2 $$\n",
    "\n",
    "which simplifies to\n",
    "\n",
    "$$-\\frac{1}{2}I +\\frac{7}{2}Z_1   -2Z_2 -Z_1Z_2$$ \n",
    "\n",
    "The $-I/2$ term is simply a constant offset, so we can solve the problem by finding the minimum of \n",
    "\n",
    "$$\\langle \\psi | \\frac{7}{2}Z_1 -2Z_2 -Z_1Z_2 |\\psi\\rangle$$ \n",
    "\n",
    "Note that the minimum should correspond to the computational basis state $|10\\rangle$, and the corresponding true objective function value should be $-4.5$ (ignoring the offset value of $-1/2$)"
   ]
  },
  {
   "attachments": {},
   "cell_type": "markdown",
   "id": "8176aa81",
   "metadata": {},
   "source": [
    "## Setup"
   ]
  },
  {
   "cell_type": "code",
   "execution_count": 1,
   "id": "45964c1f",
   "metadata": {},
   "outputs": [
    {
     "name": "stderr",
     "output_type": "stream",
     "text": [
      "No module named 'cirq'\n",
      "Therefore some functionality in tensorcircuit.applications.layers may not work\n",
      "name 'cirq' is not defined\n",
      "cirq layer generation disabled\n",
      "No module named 'cirq'\n",
      "Therefore some functionality in tensorcircuit.applications.vags may not work\n",
      "name 'sympy' is not defined\n",
      "tfq related vags disabled due to missing packages\n"
     ]
    }
   ],
   "source": [
    "import tensorcircuit as tc\n",
    "from tensorcircuit.applications.vags import cvar\n",
    "import numpy as np\n",
    "import tensorflow as tf\n",
    "import matplotlib.pyplot as plt\n",
    "from IPython.display import clear_output\n",
    "from functools import partial\n",
    "import time\n"
   ]
  },
  {
   "cell_type": "code",
   "execution_count": 2,
   "id": "4006848a-1a2f-407a-9f80-63e75ea0d3a4",
   "metadata": {},
   "outputs": [],
   "source": [
    "K = tc.set_backend(\"tensorflow\")\n",
    "\n",
    "nlayers = 2\n",
    "states = []\n",
    "for i in range(4):\n",
    "    states.append(f\"{bin(i)[2:]:0>{2}}\")\n",
    "\n",
    "# see below for a function to generate the pauli terms and weights from the QUBO matrix"
   ]
  },
  {
   "attachments": {},
   "cell_type": "markdown",
   "id": "4ddb548e",
   "metadata": {},
   "source": [
    "### Convert the Q-matrix to Ising Hamiltonian"
   ]
  },
  {
   "cell_type": "code",
   "execution_count": 3,
   "id": "a01ab8a2-d8cd-440d-ad70-7444e8b6a009",
   "metadata": {},
   "outputs": [],
   "source": [
    "def QUBO_to_Ising(Q):\n",
    "    # input is n-by-n symmetric numpy array corresponding to Q-matrix\n",
    "    # output is the components of Ising Hamiltonian\n",
    "\n",
    "    n = Q.shape[0]\n",
    "\n",
    "    offset = np.triu(Q, 0).sum() / 2\n",
    "    pauli_terms = []\n",
    "    weights = -np.sum(Q, axis=1) / 2\n",
    "\n",
    "    for i in range(n):\n",
    "        term = np.zeros(n)\n",
    "        term[i] = 1\n",
    "        pauli_terms.append(term)\n",
    "\n",
    "    for i in range(n - 1):\n",
    "        for j in range(i + 1, n):\n",
    "            term = np.zeros(n)\n",
    "            term[i] = 1\n",
    "            term[j] = 1\n",
    "            pauli_terms.append(term)\n",
    "\n",
    "            weight = Q[i][j] / 2\n",
    "            weights = np.concatenate((weights, weight), axis=None)\n",
    "\n",
    "    return pauli_terms, weights, offset\n"
   ]
  },
  {
   "cell_type": "code",
   "execution_count": 4,
   "id": "1f396a77",
   "metadata": {},
   "outputs": [
    {
     "name": "stdout",
     "output_type": "stream",
     "text": [
      "The pauli terms in this QUBO problem are:  [array([1., 0.]), array([0., 1.]), array([1., 1.])]\n",
      "and correspond weights are: [ 3.5 -2.  -1. ]\n",
      "the offset is: -0.5\n"
     ]
    }
   ],
   "source": [
    "Q = np.array([[-5, -2], [-2, 6]])\n",
    "pauli_terms, weights, offset = QUBO_to_Ising(Q)\n",
    "print(\"The pauli terms in this QUBO problem are: \", pauli_terms)\n",
    "print(\"and correspond weights are:\", weights)\n",
    "print(\"the offset is:\", offset)"
   ]
  },
  {
   "attachments": {},
   "cell_type": "markdown",
   "id": "b56b04c7",
   "metadata": {},
   "source": [
    "The results are consistent with our analysis."
   ]
  },
  {
   "attachments": {},
   "cell_type": "markdown",
   "id": "710ed2f7",
   "metadata": {},
   "source": [
    "### Ansatz"
   ]
  },
  {
   "cell_type": "code",
   "execution_count": 5,
   "id": "d197cf4a-1bad-4470-a846-998bfe68ba3c",
   "metadata": {},
   "outputs": [],
   "source": [
    "# Now we define the QAOA ansatz of depth nlayers\n",
    "def QAOA_from_Ising(params, nlayers, pauli_terms, weights):\n",
    "    nqubits = len(pauli_terms[0])\n",
    "    c = tc.Circuit(nqubits)\n",
    "    for i in range(nqubits):\n",
    "        c.h(i)\n",
    "    for j in range(nlayers):\n",
    "        # cost term\n",
    "        for k in range(len(pauli_terms)):\n",
    "            term = pauli_terms[k]\n",
    "            index_of_ones = []\n",
    "            for l in range(len(term)):\n",
    "                if term[l] == 1:\n",
    "                    index_of_ones.append(l)\n",
    "            if len(index_of_ones) == 1:\n",
    "                c.rz(index_of_ones[0], theta=2 * weights[k] * params[2 * j])\n",
    "            elif len(index_of_ones) == 2:\n",
    "                c.exp1(\n",
    "                    index_of_ones[0],\n",
    "                    index_of_ones[1],\n",
    "                    unitary=tc.gates._zz_matrix,\n",
    "                    theta=weights[k] * params[2 * j],\n",
    "                )\n",
    "            else:\n",
    "                raise ValueError(\"Invalid number of Z terms\")\n",
    "\n",
    "        for i in range(nqubits):\n",
    "            c.rx(i, theta=params[2 * j + 1])  # mixing terms\n",
    "    return c\n"
   ]
  },
  {
   "attachments": {},
   "cell_type": "markdown",
   "id": "ac05fccb",
   "metadata": {},
   "source": [
    "### Loss function"
   ]
  },
  {
   "attachments": {},
   "cell_type": "markdown",
   "id": "cb38c120-500a-44cc-96ec-fb5ceb11032d",
   "metadata": {},
   "source": [
    "For a general state that is the output of a quantum circuit c, we first define the corresponding loss with respect to the Ising Hamiltonian."
   ]
  },
  {
   "cell_type": "code",
   "execution_count": 6,
   "id": "88cec9cf-3ab6-4a4c-b743-ed95ee8c3817",
   "metadata": {},
   "outputs": [],
   "source": [
    "def Ising_loss(c, pauli_terms, weights):\n",
    "    loss = 0.0\n",
    "    for k in range(len(pauli_terms)):\n",
    "        term = pauli_terms[k]\n",
    "        index_of_ones = []\n",
    "\n",
    "        for l in range(len(term)):\n",
    "            if term[l] == 1:\n",
    "                index_of_ones.append(l)\n",
    "\n",
    "        if len(index_of_ones) == 1:\n",
    "            delta_loss = weights[k] * c.expectation_ps(z=[index_of_ones[0]])\n",
    "\n",
    "        else:\n",
    "            delta_loss = weights[k] * c.expectation_ps(\n",
    "                z=[index_of_ones[0], index_of_ones[1]]\n",
    "            )\n",
    "\n",
    "        loss += delta_loss\n",
    "\n",
    "    return K.real(loss)\n"
   ]
  },
  {
   "cell_type": "code",
   "execution_count": 7,
   "id": "a15fc14f",
   "metadata": {},
   "outputs": [],
   "source": [
    "def Ising_loss_Q(c, Q):\n",
    "    n_qubits = c._nqubits\n",
    "    prob = c.probability()\n",
    "    loss = 0.0\n",
    "    for i in range(len(prob)):\n",
    "        state = f\"{bin(i)[2:]:0>{n_qubits}}\"\n",
    "        x = np.array([int(bit) for bit in state])\n",
    "        loss += np.dot(x, np.dot(Q, x)) * prob[i]\n",
    "        print(loss)\n",
    "    return K.real(loss)"
   ]
  },
  {
   "attachments": {},
   "cell_type": "markdown",
   "id": "30a3aa96-7823-4337-9b2f-5170502bb893",
   "metadata": {},
   "source": [
    "For the particular case of a circuit corresponding to a QAOA ansatz this is:"
   ]
  },
  {
   "cell_type": "code",
   "execution_count": 8,
   "id": "26e4bec2-ce5b-4d0d-9e06-c80fda20619f",
   "metadata": {},
   "outputs": [],
   "source": [
    "def QAOA_loss(nlayers, pauli_terms, weights, params):\n",
    "    c = QAOA_from_Ising(params, nlayers, pauli_terms, weights)\n",
    "    return Ising_loss(c, pauli_terms, weights)\n"
   ]
  },
  {
   "cell_type": "code",
   "execution_count": 9,
   "id": "6f3bb173",
   "metadata": {},
   "outputs": [],
   "source": [
    "def QAOA_loss_Q(nlayers, pauli_terms, weights, Q, params):\n",
    "    c = QAOA_from_Ising(params, nlayers, pauli_terms, weights)\n",
    "    return Ising_loss_Q(c, Q)\n"
   ]
  },
  {
   "cell_type": "code",
   "execution_count": 10,
   "id": "cd3a1732",
   "metadata": {},
   "outputs": [],
   "source": [
    "def QUBO_QAOA(Q, ansatz, nlayers, iterations):\n",
    "    pauli_terms, weights, offset = QUBO_to_Ising(Q)\n",
    "    learning_rate = 1e-2\n",
    "\n",
    "    loss_val_grad = K.value_and_grad(partial(ansatz, nlayers, pauli_terms, weights))\n",
    "    loss_val_grad_jit = K.jit(loss_val_grad)\n",
    "\n",
    "    opt = K.optimizer(tf.keras.optimizers.Adam(learning_rate))\n",
    "\n",
    "    params = K.implicit_randn(shape=[2 * nlayers], stddev=0.5)\n",
    "    params = tf.cast(params, tf.float32)\n",
    "    for i in range(iterations):\n",
    "        loss, grads = loss_val_grad_jit(params)\n",
    "        params = opt.update(grads, params)\n",
    "\n",
    "    return params"
   ]
  },
  {
   "attachments": {},
   "cell_type": "markdown",
   "id": "192d6c47",
   "metadata": {},
   "source": [
    "### Results"
   ]
  },
  {
   "cell_type": "code",
   "execution_count": 11,
   "id": "2bc533da-b4f2-4ffb-b486-c65880a30a6d",
   "metadata": {
    "tags": []
   },
   "outputs": [
    {
     "name": "stdout",
     "output_type": "stream",
     "text": [
      "time consumed: 12.7052 s\n"
     ]
    }
   ],
   "source": [
    "iterations = 500\n",
    "time_start = time.time()\n",
    "final_params = QUBO_QAOA(Q, QAOA_loss, nlayers, iterations)\n",
    "clear_output(wait=True)\n",
    "time_end = time.time()\n",
    "print(\"time consumed:\", round(time_end - time_start, 4), \"s\")"
   ]
  },
  {
   "cell_type": "code",
   "execution_count": 12,
   "id": "fb6a8579",
   "metadata": {},
   "outputs": [
    {
     "name": "stdout",
     "output_type": "stream",
     "text": [
      "\n",
      "-------------------------------------\n",
      "    selection\t  |\tprobability\n",
      "-------------------------------------\n",
      "        10\t  |\t  0.7610\n",
      "        11\t  |\t  0.2163\n",
      "        01\t  |\t  0.0176\n",
      "        00\t  |\t  0.0051\n",
      "-------------------------------------\n"
     ]
    }
   ],
   "source": [
    "c = QAOA_from_Ising(final_params, nlayers, pauli_terms, weights)\n",
    "probs = K.numpy(c.probability()).round(decimals=4)\n",
    "# prob_dict = {states[i]: probs[i] for i in range(4)}\n",
    "# prob_sorted = dict(sorted(prob_dict.items(), key=lambda item: item[1], reverse=True))\n",
    "sorted_indices = np.argsort(probs)[::-1]\n",
    "state_sorted = np.array(states)[sorted_indices]\n",
    "prob_sorted = np.array(probs)[sorted_indices]\n",
    "\n",
    "print(\"\\n-------------------------------------\")\n",
    "print(\"    selection\\t  |\\tprobability\")\n",
    "print(\"-------------------------------------\")\n",
    "for i in range(len(states)):\n",
    "    print(\"%10s\\t  |\\t  %.4f\" % (state_sorted[i], prob_sorted[i]))\n",
    "print(\"-------------------------------------\")"
   ]
  },
  {
   "attachments": {},
   "cell_type": "markdown",
   "id": "e93d8cbe-2884-4f0a-80f8-3b600194927b",
   "metadata": {},
   "source": [
    "We note that for nlayers=2 and 500 iterations, the objective function does not in this case (although it depends on the initial parameters) converge to the true value of $-4.5$.  However, the we see below that the final wavefunction does have large overlap with the desired state $|10\\rangle$, so measuring the output of the QAOA algorithm will, with high probability, output the correct answer."
   ]
  },
  {
   "cell_type": "code",
   "execution_count": 13,
   "id": "294ea9ce-5064-4176-94d0-8dbb7d1707f8",
   "metadata": {},
   "outputs": [],
   "source": [
    "def print_output(c):\n",
    "    n = c._nqubits\n",
    "    N = 2**n\n",
    "    x_label = r\"$\\left|{0:0\" + str(n) + r\"b}\\right>$\"\n",
    "    labels = [x_label.format(i) for i in range(N)]\n",
    "    plt.bar(range(N), c.probability())\n",
    "    plt.xticks(range(N), labels, rotation=70)"
   ]
  },
  {
   "cell_type": "code",
   "execution_count": 14,
   "id": "fc1353ab-7a7a-4cdc-931c-3b90417c4961",
   "metadata": {
    "tags": []
   },
   "outputs": [
    {
     "data": {
      "image/png": "[encoded data removed]",
      "text/plain": [
       "<Figure size 640x480 with 1 Axes>"
      ]
     },
     "metadata": {},
     "output_type": "display_data"
    }
   ],
   "source": [
    "print_output(c)\n"
   ]
  },
  {
   "attachments": {},
   "cell_type": "markdown",
   "id": "d155c5e5-5843-4bba-9edc-595a18cb0c9a",
   "metadata": {},
   "source": [
    "## General Case\n",
    "\n",
    "For the general QUBO case, we wish to minimize\n",
    "\n",
    "$$ x^T Q x$$\n",
    "\n",
    "where $x\\in\\{0,1\\}^n$ and $Q\\in\\mathbb{R}^{n\\times n}$ is a real symmetric matrix.\n",
    "\n",
    "This maps to an Ising Hamiltonian \n",
    "\n",
    "$$\\frac{1}{2}\\left(\\sum_{i=1}^n C_{ii} + \\sum_{i<j}C_{ij}\\right) I - \\frac{1}{2}\\sum_{i=1}^n \\left(\\sum_{j=1}^n C_{ij} \\right)Z_i +\\frac{1}{2}\\sum_{i<j}C_{ij}Z_iZ_j$$\n",
    "\n",
    "Below is a simple function which can perform this mapping:"
   ]
  },
  {
   "attachments": {},
   "cell_type": "markdown",
   "id": "88546c96",
   "metadata": {},
   "source": [
    "## Portfolio problem"
   ]
  },
  {
   "attachments": {},
   "cell_type": "markdown",
   "id": "c3819ca0",
   "metadata": {},
   "source": [
    "Consider a scenario: Xiaoming, a wise individual, has an amount of money denoted as $B$, and he intends to invest it in the stock market. The market consists of $n$ shares from which he can choose (assuming all shares have the same price). Naturally, Xiaoming aims to maximize returns while minimizing risk. Additionally, it's important to note that individuals have varying levels of risk tolerance. Xiaoming's risk tolerance is denoted as $p$. Given these factors, which shares should Xiaoming select to construct his portfolio?\n",
    "\n"
   ]
  },
  {
   "attachments": {},
   "cell_type": "markdown",
   "id": "b4c49427-8555-4fb8-aad7-3e374d75659c",
   "metadata": {},
   "source": [
    "### Solving portfolio optimization problems with QAOA"
   ]
  },
  {
   "attachments": {},
   "cell_type": "markdown",
   "id": "1744c60e-3914-4c92-a653-735052ce8453",
   "metadata": {},
   "source": [
    "In a simple boolean Markowitz portfolio optimization problem, we wish to solve \n",
    "\n",
    "$$\\min_{x\\in\\{0,1\\}^n}\\quad q x^T \\Sigma x - \\mu^T x$$\n",
    "\n",
    "subject to \n",
    "\n",
    "$$ 1^T x = B$$\n",
    "\n",
    "where \n",
    "* $n$: number of assets under consideration\n",
    "* $q > 0 $: risk-appetite\n",
    "* $\\Sigma \\in \\mathbb{R}^{n\\times n}$: covariance matrix of the assets\n",
    "* $\\mu\\in\\mathbb{R}^n$: mean return of the assets\n",
    "* $B$: budget (i.e., total number of assets out of $n$ that can be selected)\n",
    "\n",
    "Our first step is to convert this constrained quadratic programming problem into a QUBO.  We do this by adding a penalty factor $t$ and consider the alternative problem:\n",
    "\n",
    "$$ \\min_{x\\in\\{0,1\\}^n}\\quad q x^T \\Sigma x - \\mu^Tx  + t(1^Tx-B)^2$$\n",
    "\n",
    "The variables in the linear terms $\\mu^Tx = \\mu_1 x_1 + \\mu_2 x_2+\\ldots$ can all be squared (since they are boolean variables), i.e. we can consider\n",
    "\n",
    "$$\\min_{x\\in\\{0,1\\}^n}\\quad q x^T \\Sigma x - \\sum_{i=1}^n\\mu_i x_i^2  + t(1^Tx-B)^2$$\n",
    "\n",
    "which is a QUBO defined by the matrix $Q$ \n",
    "\n",
    "$$ Q = q\\Sigma -\\mu\\begin{pmatrix}1 & \\\\ & 1\\\\ & & \\ddots\\end{pmatrix} + t\\begin{pmatrix}1 -2B & 1 & \\ldots & 1 \\\\\n",
    "1 & 1-2B & 1 & \\ldots \\\\1 & 1 & 1-2B \\\\\n",
    "\\vdots\\end{pmatrix}$$\n",
    "\n",
    "i.e., we wish to mimimize\n",
    "\n",
    "$$ x^T Q X + tB^2$$\n",
    "\n",
    "and we ignore the constant term $t B^2$.\n",
    "We can now solve this by QAOA as above.\n",
    "\n",
    "Let us first define a function to convert portfolio data into a QUBO matrix:"
   ]
  },
  {
   "cell_type": "code",
   "execution_count": 15,
   "id": "be849a72",
   "metadata": {},
   "outputs": [
    {
     "name": "stdout",
     "output_type": "stream",
     "text": [
      "[ 0.01528439 -0.00078095  0.00051792  0.00087001]\n",
      "[[ 2.54138859e-03  7.34022167e-05  1.28600531e-04 -9.98612132e-05]\n",
      " [ 7.34022167e-05  2.58486713e-04  5.30427595e-05  4.44816208e-05]\n",
      " [ 1.28600531e-04  5.30427595e-05  7.91504681e-04 -1.23887382e-04]\n",
      " [-9.98612132e-05  4.44816208e-05 -1.23887382e-04  1.97892585e-04]]\n"
     ]
    }
   ],
   "source": [
    "import datetime\n",
    "from qiskit_finance.data_providers import RandomDataProvider\n",
    "num_assets = 4\n",
    "seed = 123\n",
    "\n",
    "# Generate expected return and covariance matrix from (random) time-series\n",
    "stocks = [(\"TICKER%s\" % i) for i in range(num_assets)]\n",
    "data = RandomDataProvider(\n",
    "    tickers=stocks,\n",
    "    start=datetime.datetime(2016, 1, 1),\n",
    "    end=datetime.datetime(2016, 1, 30),\n",
    "    seed=seed,\n",
    ")\n",
    "data.run()\n",
    "\n",
    "mu = data.get_period_return_mean_vector()\n",
    "sigma = data.get_period_return_covariance_matrix()\n",
    "print(mu)\n",
    "print(sigma)"
   ]
  },
  {
   "cell_type": "code",
   "execution_count": 16,
   "id": "9580416a",
   "metadata": {},
   "outputs": [],
   "source": [
    "class StockData:\n",
    "    \"\"\"convert real-world stock data to annualized covariance matrix and annualized return\n",
    "    input: a list of continuous stock data in the same time span\n",
    "    output: annualized convariance matrix and return\n",
    "    \"\"\"\n",
    "\n",
    "    def __init__(self, data):\n",
    "        self.data = data  # add data\n",
    "        self.n_stocks = len(data)  # num of stocks\n",
    "\n",
    "        # check the number of days\n",
    "        n_days = [len(i) for i in data]\n",
    "        if max(n_days) != (sum(n_days) / len(n_days)):\n",
    "            raise Exception(\"timespan of stocks should be the same\")\n",
    "        self.n_days = len(data[1])\n",
    "\n",
    "        # calculate the daily percentage price change\n",
    "        self.daily_change = []  # daily percentage price change\n",
    "        for i in range(self.n_stocks):\n",
    "            each_stcok = []\n",
    "            for j in range(self.n_days - 1):\n",
    "                each_stcok.append((data[i][j + 1] - data[i][j]) / data[i][j])\n",
    "            self.daily_change.append(each_stcok)\n",
    "\n",
    "    # calculate annualized return (mu)\n",
    "    def get_return(self):\n",
    "        change = [[i + 1 for i in j] for j in self.daily_change]  # daily_change + 1\n",
    "        ret = [np.prod(i) ** (252 / self.n_days) for i in change]\n",
    "        return ret\n",
    "\n",
    "    # calculate annualized covariance matrix (sigma)\n",
    "    def get_covariance(self):\n",
    "        mean_change = [\n",
    "            [i - np.mean(j) for i in j] for j in self.data\n",
    "        ]  # daily_change - mean(daily_change)\n",
    "        cov = 252 / self.n_days * np.dot(mean_change, np.transpose(mean_change))\n",
    "        return cov\n",
    "\n",
    "    def get_pentalty(self, cov, ret, risk_pre, budget):\n",
    "        # get all fesible and unfeasible states\n",
    "        self.f_state = []  # feasible states (num of '1's equal to budge)\n",
    "        self.uf_state = []  # unfeasible states\n",
    "        self.all_state = []\n",
    "        for i in range(2**self.n_stocks):\n",
    "            state = f\"{bin(i)[2:]:0>{self.n_stocks}}\"\n",
    "            n_ones = 0\n",
    "            for j in state:\n",
    "                if j == \"1\":\n",
    "                    n_ones += 1\n",
    "            self.all_state.append(state)\n",
    "            if n_ones == budget:\n",
    "                self.f_state.append(state)\n",
    "            else:\n",
    "                self.uf_state.append(state)\n",
    "\n",
    "        # determine the penalty factor\n",
    "        # follow this paper: https://doi.org/10.1007/s11128-022-03766-5 \n",
    "        mark = False\n",
    "        penalty = 0  # initial value\n",
    "        while mark == False:\n",
    "            R = np.diag(ret)\n",
    "            S = np.ones((self.n_stocks, self.n_stocks)) - 2 * budget * np.diag(\n",
    "                np.ones(self.n_stocks)\n",
    "            )\n",
    "            Q = risk_pre * cov - R + penalty * S\n",
    "            F = []\n",
    "            for state in self.f_state:\n",
    "                x = np.array([int(bit) for bit in state])\n",
    "                F.append(np.dot(x, np.dot(Q, x)) + penalty*budget**2)\n",
    "            Fmin = np.amin(F)\n",
    "            Fbar = np.mean(F)\n",
    "            F = []\n",
    "            for state in self.uf_state:\n",
    "                x = np.array([int(bit) for bit in state])\n",
    "                F.append(np.dot(x, np.dot(Q, x)) + penalty*budget**2)\n",
    "            Fmin_uf = np.amin(F)\n",
    "            location = np.where(F == Fmin_uf)[0][0]\n",
    "            if Fmin_uf < 0.5 * (Fmin + Fbar):\n",
    "                n_ones = 0\n",
    "                for j in self.uf_state[location]:\n",
    "                    if j == \"1\":\n",
    "                        n_ones += 1\n",
    "                penalty += (0.5 * (Fmin + Fbar) - Fmin_uf) / (n_ones - budget) ** 2\n",
    "            else:\n",
    "                mark = True  # ready to return the penalty\n",
    "        return penalty"
   ]
  },
  {
   "cell_type": "code",
   "execution_count": 17,
   "id": "54e00613",
   "metadata": {},
   "outputs": [
    {
     "data": {
      "text/plain": [
       "2"
      ]
     },
     "execution_count": 17,
     "metadata": {},
     "output_type": "execute_result"
    }
   ],
   "source": [
    "a = [1, 2, 3]\n",
    "p = np.max(a)\n",
    "np.nonzero(a == p)[0][0]"
   ]
  },
  {
   "cell_type": "code",
   "execution_count": 18,
   "id": "a7eb3a74",
   "metadata": {},
   "outputs": [],
   "source": [
    "# real-world stock data, calculated using the functions above\n",
    "# stock name: aapl, amzn, meta, msft, qcom, sbux\n",
    "# from 10/06/2022 to 09/06/2023\n",
    "mu = [\n",
    "    0.4571994114695688,\n",
    "    0.41041212627281065,\n",
    "    1.1642126120700402,\n",
    "    1.9833591772807886,\n",
    "    1.7411375568887029,\n",
    "    0.7113494810370135,\n",
    "]\n",
    "sigma = np.array(\n",
    "    [\n",
    "        [\n",
    "            44153.50197136,\n",
    "            16427.86899847,\n",
    "            17925.90406014,\n",
    "            12591.01917775,\n",
    "            5243.16167421,\n",
    "            1734.98958898,\n",
    "        ],\n",
    "        [\n",
    "            16427.86899847,\n",
    "            30484.04551246,\n",
    "            31296.89782714,\n",
    "            16693.96263967,\n",
    "            17870.1769762,\n",
    "            381.2127035,\n",
    "        ],\n",
    "        [\n",
    "            17925.90406014,\n",
    "            31296.89782714,\n",
    "            168080.73099969,\n",
    "            31466.58363902,\n",
    "            39030.04232952,\n",
    "            754.80389469,\n",
    "        ],\n",
    "        [\n",
    "            12591.01917775,\n",
    "            16693.96263967,\n",
    "            31466.58363902,\n",
    "            119234.81518309,\n",
    "            43426.60861475,\n",
    "            -388.64584922,\n",
    "        ],\n",
    "        [\n",
    "            5243.16167421,\n",
    "            17870.1769762,\n",
    "            39030.04232952,\n",
    "            43426.60861475,\n",
    "            35809.54588731,\n",
    "            -791.57350614,\n",
    "        ],\n",
    "        [\n",
    "            1734.98958898,\n",
    "            381.2127035,\n",
    "            754.80389469,\n",
    "            -388.64584922,\n",
    "            -791.57350614,\n",
    "            1970.16654172,\n",
    "        ],\n",
    "    ]\n",
    ")"
   ]
  },
  {
   "cell_type": "code",
   "execution_count": 19,
   "id": "3080b901-fb6c-4bda-8348-c96540cbc39a",
   "metadata": {},
   "outputs": [],
   "source": [
    "def QUBO_from_portfolio(cov, mean, q, B, t):\n",
    "    \"\"\"convert portfolio parameters to a Q-matrix\n",
    "    cov: n-by-n covariance numpy array\n",
    "    mean: numpy array of means\n",
    "    q: the risk preference of investor\n",
    "    B: budget\n",
    "    t: penalty factor\n",
    "    \"\"\"\n",
    "    n = cov.shape[0]\n",
    "    R = np.diag(mean)\n",
    "    S = np.ones((n, n)) - 2 * B * np.diag(np.ones(n))\n",
    "\n",
    "    Q = q * cov - R + t * S\n",
    "    return Q"
   ]
  },
  {
   "attachments": {},
   "cell_type": "markdown",
   "id": "b4cdcb0e-15a2-461c-b487-084488486c67",
   "metadata": {},
   "source": [
    "We can test this using the qiskit_finance package to generate some stock covariance and mean data:\n",
    "\n",
    "*Note that this was tested with qiskit version 0.39.3 and qiskit-finance version 0.3.4.*"
   ]
  },
  {
   "attachments": {},
   "cell_type": "markdown",
   "id": "f6dc53d4-7ed0-436d-aa1f-8674c56e756e",
   "metadata": {},
   "source": [
    "Using this mean and covariance data, we can now define our portfolio optimization problem, convert it to a QUBO matrix, and then extract the pauli terms and weights"
   ]
  },
  {
   "cell_type": "code",
   "execution_count": 20,
   "id": "3f6edcd5-3c10-49fc-86ea-160fc6d3187e",
   "metadata": {},
   "outputs": [],
   "source": [
    "q = 0.5 # the risk preference of investor\n",
    "budget = 3  # Note that in this example, there are 6 assets, but a budget of only 3\n",
    "penalty = 80299.22578764349 \n",
    "\n",
    "#Q = QUBO_from_portfolio(sigma, mu, q, budget, penalty)\n",
    "Q = QUBO_from_portfolio(sigma, mu, q, budget, penalty)\n",
    "portfolio_pauli_terms, portfolio_weights, portfolio_offset = QUBO_to_Ising(Q)"
   ]
  },
  {
   "cell_type": "code",
   "execution_count": 21,
   "id": "40d8fba9",
   "metadata": {},
   "outputs": [
    {
     "data": {
      "text/plain": [
       "96906.4227712305"
      ]
     },
     "execution_count": 21,
     "metadata": {},
     "output_type": "execute_result"
    }
   ],
   "source": [
    "Fbar = 146662.570242461\n",
    "Fmin = 47150.2753\n",
    "0.5*(Fbar+Fmin)"
   ]
  },
  {
   "cell_type": "code",
   "execution_count": 22,
   "id": "48dfc02e",
   "metadata": {},
   "outputs": [
    {
     "name": "stdout",
     "output_type": "stream",
     "text": [
      "['000000', '000001', '000010', '000011', '000100', '000101', '000110', '000111', '001000', '001001', '001010', '001011', '001100', '001101', '001110', '001111', '010000', '010001', '010010', '010011', '010100', '010101', '010110', '010111', '011000', '011001', '011010', '011011', '011100', '011101', '011110', '011111', '100000', '100001', '100010', '100011', '100100', '100101', '100110', '100111', '101000', '101001', '101010', '101011', '101100', '101101', '101110', '101111', '110000', '110001', '110010', '110011', '110100', '110101', '110110', '110111', '111000', '111001', '111010', '111011', '111100', '111101', '111110', '111111']\n"
     ]
    }
   ],
   "source": [
    "states = []\n",
    "for i in range(2**6):\n",
    "    a = f\"{bin(i)[2:]:0>{6}}\"\n",
    "    n_ones = 0\n",
    "    for j in a:\n",
    "        if j == '1':\n",
    "            n_ones += 1\n",
    "    if True:#n_ones != budget:\n",
    "        states.append(a)\n",
    "print(states)"
   ]
  },
  {
   "cell_type": "code",
   "execution_count": 23,
   "id": "809b90fa-7047-4c88-b862-355da4f58a50",
   "metadata": {},
   "outputs": [
    {
     "name": "stdout",
     "output_type": "stream",
     "text": [
      "\n",
      "-------------------------------------\n",
      "    selection\t  |\t  cost\n",
      "-------------------------------------\n",
      "    100011\t  |\t-675542.7568\n",
      "    010011\t  |\t-671104.1998\n",
      "    110001\t  |\t-665846.6827\n",
      "    010101\t  |\t-630165.0941\n",
      "    110010\t  |\t-627930.8865\n",
      "    100101\t  |\t-626079.5792\n",
      "    010001\t  |\t-625786.6093\n",
      "    000011\t  |\t-624297.9761\n",
      "    100001\t  |\t-617598.1510\n",
      "    000111\t  |\t-601943.8149\n",
      "    100010\t  |\t-597171.3190\n",
      "    101001\t  |\t-595177.4676\n",
      "    010010\t  |\t-591378.9852\n",
      "    011001\t  |\t-589994.9321\n",
      "    110000\t  |\t-588648.0312\n",
      "    000101\t  |\t-582182.6560\n",
      "    001011\t  |\t-580773.1544\n",
      "    110100\t  |\t-580046.8509\n",
      "    100110\t  |\t-561837.4928\n",
      "    001001\t  |\t-556615.4292\n",
      "    010110\t  |\t-551942.2155\n",
      "    010100\t  |\t-550842.8071\n",
      "    100100\t  |\t-548111.0691\n",
      "    001101\t  |\t-546221.2930\n",
      "    110011\t  |\t-545322.6600\n",
      "    101010\t  |\t-536475.3971\n",
      "    111000\t  |\t-535685.2538\n",
      "    000110\t  |\t-521448.7416\n",
      "    101000\t  |\t-518352.4072\n",
      "    011010\t  |\t-517312.0695\n",
      "    011000\t  |\t-511816.0948\n",
      "    001010\t  |\t-501421.5309\n",
      "    110101\t  |\t-497035.6968\n",
      "    101100\t  |\t-494978.6059\n",
      "    011100\t  |\t-484339.3501\n",
      "    100111\t  |\t-479999.1249\n",
      "    010111\t  |\t-471457.6244\n",
      "    001100\t  |\t-467272.5971\n",
      "    101011\t  |\t-453493.5795\n",
      "    111001\t  |\t-451530.6499\n",
      "    001110\t  |\t-447212.1402\n",
      "    011011\t  |\t-435684.0287\n",
      "    110110\t  |\t-415304.6461\n",
      "    101101\t  |\t-411593.8606\n",
      "    011101\t  |\t-402308.3817\n",
      "    000001\t  |\t-400511.7570\n",
      "    010000\t  |\t-386254.5166\n",
      "    000010\t  |\t-383593.0971\n",
      "    100000\t  |\t-379419.8352\n",
      "    111010\t  |\t-375339.6152\n",
      "    001111\t  |\t-366353.9579\n",
      "    000100\t  |\t-341880.7047\n",
      "    111100\t  |\t-335019.0383\n",
      "    001000\t  |\t-317456.9277\n",
      "    101110\t  |\t-309076.5357\n",
      "    011110\t  |\t-285810.2646\n",
      "    110111\t  |\t-172486.6138\n",
      "    111011\t  |\t-131378.1332\n",
      "    111101\t  |\t-90654.6287\n",
      "    101111\t  |\t-65884.9123\n",
      "    011111\t  |\t-43972.4181\n",
      "    000000\t  |\t0.0000\n",
      "    111110\t  |\t29351.6605\n",
      "    111111\t  |\t433522.9481\n",
      "-------------------------------------\n"
     ]
    }
   ],
   "source": [
    "# Brutely search over classical results for comparison before we run QAOA\n",
    "# the results are sorted with cost\n",
    "cost_dict = {}\n",
    "i = 0\n",
    "for selection in states:\n",
    "    x = np.array([int(bit) for bit in selection])\n",
    "    cost_dict[selection] = np.dot(x, np.dot(Q, x))\n",
    "    i += 1\n",
    "cost_sorted = dict(sorted(cost_dict.items(), key=lambda item: item[1]))\n",
    "print(\"\\n-------------------------------------\")\n",
    "print(\"    selection\\t  |\\t  cost\")\n",
    "print(\"-------------------------------------\")\n",
    "for k, v in cost_sorted.items():\n",
    "    print(\"%10s\\t  |\\t%.4f\" % (k, v))\n",
    "print(\"-------------------------------------\")"
   ]
  },
  {
   "attachments": {},
   "cell_type": "markdown",
   "id": "b5e69a34-87dc-47b4-aeb2-3b9a03fd0974",
   "metadata": {},
   "source": [
    "We see that, due to the penalty, the lowest energy solutions correspond to 0111, 1011, 1101, 1110, i.e. the portfolios with only 3 assets."
   ]
  },
  {
   "cell_type": "code",
   "execution_count": 34,
   "id": "80c1de6c-d3a4-4ea5-922a-bffb59dd1ea3",
   "metadata": {},
   "outputs": [
    {
     "name": "stderr",
     "output_type": "stream",
     "text": [
      "WARNING:absl:At this time, the v2.11+ optimizer `tf.keras.optimizers.Adam` runs slowly on M1/M2 Macs, please use the legacy Keras optimizer instead, located at `tf.keras.optimizers.legacy.Adam`.\n"
     ]
    },
    {
     "ename": "KeyboardInterrupt",
     "evalue": "",
     "output_type": "error",
     "traceback": [
      "\u001b[0;31m---------------------------------------------------------------------------\u001b[0m",
      "\u001b[0;31mKeyboardInterrupt\u001b[0m                         Traceback (most recent call last)",
      "Cell \u001b[0;32mIn[34], line 4\u001b[0m\n\u001b[1;32m      2\u001b[0m nlayers \u001b[39m=\u001b[39m \u001b[39m2\u001b[39m\n\u001b[1;32m      3\u001b[0m time_start \u001b[39m=\u001b[39m time\u001b[39m.\u001b[39mtime()\n\u001b[0;32m----> 4\u001b[0m final_params \u001b[39m=\u001b[39m QUBO_QAOA(Q, QAOA_loss, nlayers, iterations)\n\u001b[1;32m      5\u001b[0m clear_output(wait\u001b[39m=\u001b[39m\u001b[39mTrue\u001b[39;00m)\n\u001b[1;32m      6\u001b[0m time_end \u001b[39m=\u001b[39m time\u001b[39m.\u001b[39mtime()\n",
      "Cell \u001b[0;32mIn[10], line 13\u001b[0m, in \u001b[0;36mQUBO_QAOA\u001b[0;34m(Q, ansatz, nlayers, iterations)\u001b[0m\n\u001b[1;32m     11\u001b[0m params \u001b[39m=\u001b[39m tf\u001b[39m.\u001b[39mcast(params, tf\u001b[39m.\u001b[39mfloat32)\n\u001b[1;32m     12\u001b[0m \u001b[39mfor\u001b[39;00m i \u001b[39min\u001b[39;00m \u001b[39mrange\u001b[39m(iterations):\n\u001b[0;32m---> 13\u001b[0m     loss, grads \u001b[39m=\u001b[39m loss_val_grad_jit(params)\n\u001b[1;32m     14\u001b[0m     params \u001b[39m=\u001b[39m opt\u001b[39m.\u001b[39mupdate(grads, params)\n\u001b[1;32m     16\u001b[0m \u001b[39mreturn\u001b[39;00m params\n",
      "File \u001b[0;32m~/opt/anaconda3/envs/QC/lib/python3.10/site-packages/tensorflow/python/util/traceback_utils.py:150\u001b[0m, in \u001b[0;36mfilter_traceback.<locals>.error_handler\u001b[0;34m(*args, **kwargs)\u001b[0m\n\u001b[1;32m    148\u001b[0m filtered_tb \u001b[39m=\u001b[39m \u001b[39mNone\u001b[39;00m\n\u001b[1;32m    149\u001b[0m \u001b[39mtry\u001b[39;00m:\n\u001b[0;32m--> 150\u001b[0m   \u001b[39mreturn\u001b[39;00m fn(\u001b[39m*\u001b[39;49margs, \u001b[39m*\u001b[39;49m\u001b[39m*\u001b[39;49mkwargs)\n\u001b[1;32m    151\u001b[0m \u001b[39mexcept\u001b[39;00m \u001b[39mException\u001b[39;00m \u001b[39mas\u001b[39;00m e:\n\u001b[1;32m    152\u001b[0m   filtered_tb \u001b[39m=\u001b[39m _process_traceback_frames(e\u001b[39m.\u001b[39m__traceback__)\n",
      "File \u001b[0;32m~/opt/anaconda3/envs/QC/lib/python3.10/site-packages/tensorflow/python/eager/polymorphic_function/polymorphic_function.py:894\u001b[0m, in \u001b[0;36mFunction.__call__\u001b[0;34m(self, *args, **kwds)\u001b[0m\n\u001b[1;32m    891\u001b[0m compiler \u001b[39m=\u001b[39m \u001b[39m\"\u001b[39m\u001b[39mxla\u001b[39m\u001b[39m\"\u001b[39m \u001b[39mif\u001b[39;00m \u001b[39mself\u001b[39m\u001b[39m.\u001b[39m_jit_compile \u001b[39melse\u001b[39;00m \u001b[39m\"\u001b[39m\u001b[39mnonXla\u001b[39m\u001b[39m\"\u001b[39m\n\u001b[1;32m    893\u001b[0m \u001b[39mwith\u001b[39;00m OptionalXlaContext(\u001b[39mself\u001b[39m\u001b[39m.\u001b[39m_jit_compile):\n\u001b[0;32m--> 894\u001b[0m   result \u001b[39m=\u001b[39m \u001b[39mself\u001b[39;49m\u001b[39m.\u001b[39;49m_call(\u001b[39m*\u001b[39;49margs, \u001b[39m*\u001b[39;49m\u001b[39m*\u001b[39;49mkwds)\n\u001b[1;32m    896\u001b[0m new_tracing_count \u001b[39m=\u001b[39m \u001b[39mself\u001b[39m\u001b[39m.\u001b[39mexperimental_get_tracing_count()\n\u001b[1;32m    897\u001b[0m without_tracing \u001b[39m=\u001b[39m (tracing_count \u001b[39m==\u001b[39m new_tracing_count)\n",
      "File \u001b[0;32m~/opt/anaconda3/envs/QC/lib/python3.10/site-packages/tensorflow/python/eager/polymorphic_function/polymorphic_function.py:942\u001b[0m, in \u001b[0;36mFunction._call\u001b[0;34m(self, *args, **kwds)\u001b[0m\n\u001b[1;32m    939\u001b[0m \u001b[39mtry\u001b[39;00m:\n\u001b[1;32m    940\u001b[0m   \u001b[39m# This is the first call of __call__, so we have to initialize.\u001b[39;00m\n\u001b[1;32m    941\u001b[0m   initializers \u001b[39m=\u001b[39m []\n\u001b[0;32m--> 942\u001b[0m   \u001b[39mself\u001b[39;49m\u001b[39m.\u001b[39;49m_initialize(args, kwds, add_initializers_to\u001b[39m=\u001b[39;49minitializers)\n\u001b[1;32m    943\u001b[0m \u001b[39mfinally\u001b[39;00m:\n\u001b[1;32m    944\u001b[0m   \u001b[39m# At this point we know that the initialization is complete (or less\u001b[39;00m\n\u001b[1;32m    945\u001b[0m   \u001b[39m# interestingly an exception was raised) so we no longer need a lock.\u001b[39;00m\n\u001b[1;32m    946\u001b[0m   \u001b[39mself\u001b[39m\u001b[39m.\u001b[39m_lock\u001b[39m.\u001b[39mrelease()\n",
      "File \u001b[0;32m~/opt/anaconda3/envs/QC/lib/python3.10/site-packages/tensorflow/python/eager/polymorphic_function/polymorphic_function.py:763\u001b[0m, in \u001b[0;36mFunction._initialize\u001b[0;34m(self, args, kwds, add_initializers_to)\u001b[0m\n\u001b[1;32m    760\u001b[0m \u001b[39mself\u001b[39m\u001b[39m.\u001b[39m_lifted_initializer_graph \u001b[39m=\u001b[39m lifted_initializer_graph\n\u001b[1;32m    761\u001b[0m \u001b[39mself\u001b[39m\u001b[39m.\u001b[39m_graph_deleter \u001b[39m=\u001b[39m FunctionDeleter(\u001b[39mself\u001b[39m\u001b[39m.\u001b[39m_lifted_initializer_graph)\n\u001b[1;32m    762\u001b[0m \u001b[39mself\u001b[39m\u001b[39m.\u001b[39m_concrete_variable_creation_fn \u001b[39m=\u001b[39m (\n\u001b[0;32m--> 763\u001b[0m     \u001b[39mself\u001b[39;49m\u001b[39m.\u001b[39;49m_variable_creation_fn    \u001b[39m# pylint: disable=protected-access\u001b[39;49;00m\n\u001b[1;32m    764\u001b[0m     \u001b[39m.\u001b[39;49m_get_concrete_function_internal_garbage_collected(\n\u001b[1;32m    765\u001b[0m         \u001b[39m*\u001b[39;49margs, \u001b[39m*\u001b[39;49m\u001b[39m*\u001b[39;49mkwds))\n\u001b[1;32m    767\u001b[0m \u001b[39mdef\u001b[39;00m \u001b[39minvalid_creator_scope\u001b[39m(\u001b[39m*\u001b[39munused_args, \u001b[39m*\u001b[39m\u001b[39m*\u001b[39munused_kwds):\n\u001b[1;32m    768\u001b[0m \u001b[39m  \u001b[39m\u001b[39m\"\"\"Disables variable creation.\"\"\"\u001b[39;00m\n",
      "File \u001b[0;32m~/opt/anaconda3/envs/QC/lib/python3.10/site-packages/tensorflow/python/eager/polymorphic_function/tracing_compiler.py:171\u001b[0m, in \u001b[0;36mTracingCompiler._get_concrete_function_internal_garbage_collected\u001b[0;34m(self, *args, **kwargs)\u001b[0m\n\u001b[1;32m    169\u001b[0m \u001b[39m\u001b[39m\u001b[39m\"\"\"Returns a concrete function which cleans up its graph function.\"\"\"\u001b[39;00m\n\u001b[1;32m    170\u001b[0m \u001b[39mwith\u001b[39;00m \u001b[39mself\u001b[39m\u001b[39m.\u001b[39m_lock:\n\u001b[0;32m--> 171\u001b[0m   concrete_function, _ \u001b[39m=\u001b[39m \u001b[39mself\u001b[39;49m\u001b[39m.\u001b[39;49m_maybe_define_concrete_function(args, kwargs)\n\u001b[1;32m    172\u001b[0m \u001b[39mreturn\u001b[39;00m concrete_function\n",
      "File \u001b[0;32m~/opt/anaconda3/envs/QC/lib/python3.10/site-packages/tensorflow/python/eager/polymorphic_function/tracing_compiler.py:166\u001b[0m, in \u001b[0;36mTracingCompiler._maybe_define_concrete_function\u001b[0;34m(self, args, kwargs)\u001b[0m\n\u001b[1;32m    163\u001b[0m   args \u001b[39m=\u001b[39m \u001b[39mself\u001b[39m\u001b[39m.\u001b[39minput_signature\n\u001b[1;32m    164\u001b[0m   kwargs \u001b[39m=\u001b[39m {}\n\u001b[0;32m--> 166\u001b[0m \u001b[39mreturn\u001b[39;00m \u001b[39mself\u001b[39;49m\u001b[39m.\u001b[39;49m_maybe_define_function(args, kwargs)\n",
      "File \u001b[0;32m~/opt/anaconda3/envs/QC/lib/python3.10/site-packages/tensorflow/python/eager/polymorphic_function/tracing_compiler.py:396\u001b[0m, in \u001b[0;36mTracingCompiler._maybe_define_function\u001b[0;34m(self, args, kwargs)\u001b[0m\n\u001b[1;32m    393\u001b[0m   args \u001b[39m=\u001b[39m placeholder_bound_args\u001b[39m.\u001b[39margs\n\u001b[1;32m    394\u001b[0m kwargs \u001b[39m=\u001b[39m placeholder_bound_args\u001b[39m.\u001b[39mkwargs\n\u001b[0;32m--> 396\u001b[0m concrete_function \u001b[39m=\u001b[39m \u001b[39mself\u001b[39;49m\u001b[39m.\u001b[39;49m_create_concrete_function(\n\u001b[1;32m    397\u001b[0m     args, kwargs, func_graph)\n\u001b[1;32m    399\u001b[0m \u001b[39m# TODO(b/263520817): Remove access to private attribute.\u001b[39;00m\n\u001b[1;32m    400\u001b[0m graph_capture_container \u001b[39m=\u001b[39m concrete_function\u001b[39m.\u001b[39mgraph\u001b[39m.\u001b[39m_function_captures  \u001b[39m# pylint: disable=protected-access\u001b[39;00m\n",
      "File \u001b[0;32m~/opt/anaconda3/envs/QC/lib/python3.10/site-packages/tensorflow/python/eager/polymorphic_function/tracing_compiler.py:300\u001b[0m, in \u001b[0;36mTracingCompiler._create_concrete_function\u001b[0;34m(self, args, kwargs, func_graph)\u001b[0m\n\u001b[1;32m    296\u001b[0m \u001b[39melse\u001b[39;00m:\n\u001b[1;32m    297\u001b[0m   arg_names \u001b[39m=\u001b[39m base_arg_names\n\u001b[1;32m    299\u001b[0m concrete_function \u001b[39m=\u001b[39m monomorphic_function\u001b[39m.\u001b[39mConcreteFunction(\n\u001b[0;32m--> 300\u001b[0m     func_graph_module\u001b[39m.\u001b[39;49mfunc_graph_from_py_func(\n\u001b[1;32m    301\u001b[0m         \u001b[39mself\u001b[39;49m\u001b[39m.\u001b[39;49m_name,\n\u001b[1;32m    302\u001b[0m         \u001b[39mself\u001b[39;49m\u001b[39m.\u001b[39;49m_python_function,\n\u001b[1;32m    303\u001b[0m         args,\n\u001b[1;32m    304\u001b[0m         kwargs,\n\u001b[1;32m    305\u001b[0m         \u001b[39mNone\u001b[39;49;00m,\n\u001b[1;32m    306\u001b[0m         func_graph\u001b[39m=\u001b[39;49mfunc_graph,\n\u001b[1;32m    307\u001b[0m         autograph\u001b[39m=\u001b[39;49m\u001b[39mself\u001b[39;49m\u001b[39m.\u001b[39;49m_autograph,\n\u001b[1;32m    308\u001b[0m         autograph_options\u001b[39m=\u001b[39;49m\u001b[39mself\u001b[39;49m\u001b[39m.\u001b[39;49m_autograph_options,\n\u001b[1;32m    309\u001b[0m         arg_names\u001b[39m=\u001b[39;49marg_names,\n\u001b[1;32m    310\u001b[0m         capture_by_value\u001b[39m=\u001b[39;49m\u001b[39mself\u001b[39;49m\u001b[39m.\u001b[39;49m_capture_by_value,\n\u001b[1;32m    311\u001b[0m         create_placeholders\u001b[39m=\u001b[39;49m\u001b[39mFalse\u001b[39;49;00m),\n\u001b[1;32m    312\u001b[0m     \u001b[39mself\u001b[39m\u001b[39m.\u001b[39m_function_attributes,\n\u001b[1;32m    313\u001b[0m     spec\u001b[39m=\u001b[39m\u001b[39mself\u001b[39m\u001b[39m.\u001b[39mfunction_spec,\n\u001b[1;32m    314\u001b[0m     \u001b[39m# Tell the ConcreteFunction to clean up its graph once it goes out of\u001b[39;00m\n\u001b[1;32m    315\u001b[0m     \u001b[39m# scope. This is not the default behavior since it gets used in some\u001b[39;00m\n\u001b[1;32m    316\u001b[0m     \u001b[39m# places (like Keras) where the FuncGraph lives longer than the\u001b[39;00m\n\u001b[1;32m    317\u001b[0m     \u001b[39m# ConcreteFunction.\u001b[39;00m\n\u001b[1;32m    318\u001b[0m     shared_func_graph\u001b[39m=\u001b[39m\u001b[39mFalse\u001b[39;00m)\n\u001b[1;32m    319\u001b[0m \u001b[39mreturn\u001b[39;00m concrete_function\n",
      "File \u001b[0;32m~/opt/anaconda3/envs/QC/lib/python3.10/site-packages/tensorflow/python/framework/func_graph.py:1214\u001b[0m, in \u001b[0;36mfunc_graph_from_py_func\u001b[0;34m(name, python_func, args, kwargs, signature, func_graph, autograph, autograph_options, add_control_dependencies, arg_names, op_return_value, collections, capture_by_value, create_placeholders, acd_record_initial_resource_uses)\u001b[0m\n\u001b[1;32m   1211\u001b[0m \u001b[39melse\u001b[39;00m:\n\u001b[1;32m   1212\u001b[0m   _, original_func \u001b[39m=\u001b[39m tf_decorator\u001b[39m.\u001b[39munwrap(python_func)\n\u001b[0;32m-> 1214\u001b[0m func_outputs \u001b[39m=\u001b[39m python_func(\u001b[39m*\u001b[39;49mfunc_args, \u001b[39m*\u001b[39;49m\u001b[39m*\u001b[39;49mfunc_kwargs)\n\u001b[1;32m   1216\u001b[0m \u001b[39m# invariant: `func_outputs` contains only Tensors, CompositeTensors,\u001b[39;00m\n\u001b[1;32m   1217\u001b[0m \u001b[39m# TensorArrays and `None`s.\u001b[39;00m\n\u001b[1;32m   1218\u001b[0m func_outputs \u001b[39m=\u001b[39m variable_utils\u001b[39m.\u001b[39mconvert_variables_to_tensors(func_outputs)\n",
      "File \u001b[0;32m~/opt/anaconda3/envs/QC/lib/python3.10/site-packages/tensorflow/python/eager/polymorphic_function/polymorphic_function.py:667\u001b[0m, in \u001b[0;36mFunction._compiler_with_scope.<locals>.wrapped_fn\u001b[0;34m(*args, **kwds)\u001b[0m\n\u001b[1;32m    663\u001b[0m \u001b[39mwith\u001b[39;00m default_graph\u001b[39m.\u001b[39m_variable_creator_scope(scope, priority\u001b[39m=\u001b[39m\u001b[39m50\u001b[39m):  \u001b[39m# pylint: disable=protected-access\u001b[39;00m\n\u001b[1;32m    664\u001b[0m   \u001b[39m# __wrapped__ allows AutoGraph to swap in a converted function. We give\u001b[39;00m\n\u001b[1;32m    665\u001b[0m   \u001b[39m# the function a weak reference to itself to avoid a reference cycle.\u001b[39;00m\n\u001b[1;32m    666\u001b[0m   \u001b[39mwith\u001b[39;00m OptionalXlaContext(compile_with_xla):\n\u001b[0;32m--> 667\u001b[0m     out \u001b[39m=\u001b[39m weak_wrapped_fn()\u001b[39m.\u001b[39;49m__wrapped__(\u001b[39m*\u001b[39;49margs, \u001b[39m*\u001b[39;49m\u001b[39m*\u001b[39;49mkwds)\n\u001b[1;32m    668\u001b[0m   \u001b[39mreturn\u001b[39;00m out\n",
      "File \u001b[0;32m~/opt/anaconda3/envs/QC/lib/python3.10/site-packages/tensorflow/python/framework/func_graph.py:1189\u001b[0m, in \u001b[0;36mfunc_graph_from_py_func.<locals>.autograph_handler\u001b[0;34m(*args, **kwargs)\u001b[0m\n\u001b[1;32m   1187\u001b[0m \u001b[39m# TODO(mdan): Push this block higher in tf.function's call stack.\u001b[39;00m\n\u001b[1;32m   1188\u001b[0m \u001b[39mtry\u001b[39;00m:\n\u001b[0;32m-> 1189\u001b[0m   \u001b[39mreturn\u001b[39;00m autograph\u001b[39m.\u001b[39;49mconverted_call(\n\u001b[1;32m   1190\u001b[0m       original_func,\n\u001b[1;32m   1191\u001b[0m       args,\n\u001b[1;32m   1192\u001b[0m       kwargs,\n\u001b[1;32m   1193\u001b[0m       options\u001b[39m=\u001b[39;49mautograph\u001b[39m.\u001b[39;49mConversionOptions(\n\u001b[1;32m   1194\u001b[0m           recursive\u001b[39m=\u001b[39;49m\u001b[39mTrue\u001b[39;49;00m,\n\u001b[1;32m   1195\u001b[0m           optional_features\u001b[39m=\u001b[39;49mautograph_options,\n\u001b[1;32m   1196\u001b[0m           user_requested\u001b[39m=\u001b[39;49m\u001b[39mTrue\u001b[39;49;00m,\n\u001b[1;32m   1197\u001b[0m       ))\n\u001b[1;32m   1198\u001b[0m \u001b[39mexcept\u001b[39;00m \u001b[39mException\u001b[39;00m \u001b[39mas\u001b[39;00m e:  \u001b[39m# pylint:disable=broad-except\u001b[39;00m\n\u001b[1;32m   1199\u001b[0m   \u001b[39mif\u001b[39;00m \u001b[39mhasattr\u001b[39m(e, \u001b[39m\"\u001b[39m\u001b[39mag_error_metadata\u001b[39m\u001b[39m\"\u001b[39m):\n",
      "File \u001b[0;32m~/opt/anaconda3/envs/QC/lib/python3.10/site-packages/tensorflow/python/autograph/impl/api.py:439\u001b[0m, in \u001b[0;36mconverted_call\u001b[0;34m(f, args, kwargs, caller_fn_scope, options)\u001b[0m\n\u001b[1;32m    437\u001b[0m \u001b[39mtry\u001b[39;00m:\n\u001b[1;32m    438\u001b[0m   \u001b[39mif\u001b[39;00m kwargs \u001b[39mis\u001b[39;00m \u001b[39mnot\u001b[39;00m \u001b[39mNone\u001b[39;00m:\n\u001b[0;32m--> 439\u001b[0m     result \u001b[39m=\u001b[39m converted_f(\u001b[39m*\u001b[39;49meffective_args, \u001b[39m*\u001b[39;49m\u001b[39m*\u001b[39;49mkwargs)\n\u001b[1;32m    440\u001b[0m   \u001b[39melse\u001b[39;00m:\n\u001b[1;32m    441\u001b[0m     result \u001b[39m=\u001b[39m converted_f(\u001b[39m*\u001b[39meffective_args)\n",
      "File \u001b[0;32m/var/folders/tm/hv_bn47s29x7g0vjc7fk3bbw0000gn/T/__autograph_generated_file9o60vfvk.py:33\u001b[0m, in \u001b[0;36mouter_factory.<locals>.inner_factory.<locals>.tf__wrapper\u001b[0;34m(*args, **kws)\u001b[0m\n\u001b[1;32m     31\u001b[0m ag__\u001b[39m.\u001b[39mif_stmt(ag__\u001b[39m.\u001b[39mconverted_call(ag__\u001b[39m.\u001b[39mld(\u001b[39misinstance\u001b[39m), (ag__\u001b[39m.\u001b[39mld(argnums), ag__\u001b[39m.\u001b[39mld(\u001b[39mint\u001b[39m)), \u001b[39mNone\u001b[39;00m, fscope), if_body, else_body, get_state, set_state, (\u001b[39m'\u001b[39m\u001b[39margs\u001b[39m\u001b[39m'\u001b[39m, \u001b[39m'\u001b[39m\u001b[39mx\u001b[39m\u001b[39m'\u001b[39m), \u001b[39m2\u001b[39m)\n\u001b[1;32m     32\u001b[0m ag__\u001b[39m.\u001b[39mconverted_call(ag__\u001b[39m.\u001b[39mld(t)\u001b[39m.\u001b[39mwatch, (ag__\u001b[39m.\u001b[39mld(x),), \u001b[39mNone\u001b[39;00m, fscope)\n\u001b[0;32m---> 33\u001b[0m y \u001b[39m=\u001b[39m ag__\u001b[39m.\u001b[39;49mconverted_call(ag__\u001b[39m.\u001b[39;49mld(f), \u001b[39mtuple\u001b[39;49m(ag__\u001b[39m.\u001b[39;49mld(args)), \u001b[39mdict\u001b[39;49m(\u001b[39m*\u001b[39;49m\u001b[39m*\u001b[39;49mag__\u001b[39m.\u001b[39;49mld(kws)), fscope)\n\u001b[1;32m     35\u001b[0m \u001b[39mdef\u001b[39;00m \u001b[39mget_state_1\u001b[39m():\n\u001b[1;32m     36\u001b[0m     \u001b[39mreturn\u001b[39;00m (g,)\n",
      "File \u001b[0;32m~/opt/anaconda3/envs/QC/lib/python3.10/site-packages/tensorflow/python/autograph/impl/api.py:352\u001b[0m, in \u001b[0;36mconverted_call\u001b[0;34m(f, args, kwargs, caller_fn_scope, options)\u001b[0m\n\u001b[1;32m    349\u001b[0m   new_args \u001b[39m=\u001b[39m f\u001b[39m.\u001b[39margs \u001b[39m+\u001b[39m args\n\u001b[1;32m    350\u001b[0m   logging\u001b[39m.\u001b[39mlog(\u001b[39m3\u001b[39m, \u001b[39m'\u001b[39m\u001b[39mForwarding call of partial \u001b[39m\u001b[39m%s\u001b[39;00m\u001b[39m with\u001b[39m\u001b[39m\\n\u001b[39;00m\u001b[39m%s\u001b[39;00m\u001b[39m\\n\u001b[39;00m\u001b[39m%s\u001b[39;00m\u001b[39m\\n\u001b[39;00m\u001b[39m'\u001b[39m, f, new_args,\n\u001b[1;32m    351\u001b[0m               new_kwargs)\n\u001b[0;32m--> 352\u001b[0m   \u001b[39mreturn\u001b[39;00m converted_call(\n\u001b[1;32m    353\u001b[0m       f\u001b[39m.\u001b[39;49mfunc,\n\u001b[1;32m    354\u001b[0m       new_args,\n\u001b[1;32m    355\u001b[0m       new_kwargs,\n\u001b[1;32m    356\u001b[0m       caller_fn_scope\u001b[39m=\u001b[39;49mcaller_fn_scope,\n\u001b[1;32m    357\u001b[0m       options\u001b[39m=\u001b[39;49moptions)\n\u001b[1;32m    359\u001b[0m \u001b[39mif\u001b[39;00m inspect_utils\u001b[39m.\u001b[39misbuiltin(f):\n\u001b[1;32m    360\u001b[0m   \u001b[39mif\u001b[39;00m f \u001b[39mis\u001b[39;00m \u001b[39meval\u001b[39m:\n",
      "File \u001b[0;32m~/opt/anaconda3/envs/QC/lib/python3.10/site-packages/tensorflow/python/autograph/impl/api.py:439\u001b[0m, in \u001b[0;36mconverted_call\u001b[0;34m(f, args, kwargs, caller_fn_scope, options)\u001b[0m\n\u001b[1;32m    437\u001b[0m \u001b[39mtry\u001b[39;00m:\n\u001b[1;32m    438\u001b[0m   \u001b[39mif\u001b[39;00m kwargs \u001b[39mis\u001b[39;00m \u001b[39mnot\u001b[39;00m \u001b[39mNone\u001b[39;00m:\n\u001b[0;32m--> 439\u001b[0m     result \u001b[39m=\u001b[39m converted_f(\u001b[39m*\u001b[39;49meffective_args, \u001b[39m*\u001b[39;49m\u001b[39m*\u001b[39;49mkwargs)\n\u001b[1;32m    440\u001b[0m   \u001b[39melse\u001b[39;00m:\n\u001b[1;32m    441\u001b[0m     result \u001b[39m=\u001b[39m converted_f(\u001b[39m*\u001b[39meffective_args)\n",
      "File \u001b[0;32m/var/folders/tm/hv_bn47s29x7g0vjc7fk3bbw0000gn/T/__autograph_generated_filers2m06ys.py:13\u001b[0m, in \u001b[0;36mouter_factory.<locals>.inner_factory.<locals>.tf__QAOA_loss\u001b[0;34m(nlayers, pauli_terms, weights, params)\u001b[0m\n\u001b[1;32m     11\u001b[0m \u001b[39mtry\u001b[39;00m:\n\u001b[1;32m     12\u001b[0m     do_return \u001b[39m=\u001b[39m \u001b[39mTrue\u001b[39;00m\n\u001b[0;32m---> 13\u001b[0m     retval_ \u001b[39m=\u001b[39m ag__\u001b[39m.\u001b[39;49mconverted_call(ag__\u001b[39m.\u001b[39;49mld(Ising_loss), (ag__\u001b[39m.\u001b[39;49mld(c), ag__\u001b[39m.\u001b[39;49mld(pauli_terms), ag__\u001b[39m.\u001b[39;49mld(weights)), \u001b[39mNone\u001b[39;49;00m, fscope)\n\u001b[1;32m     14\u001b[0m \u001b[39mexcept\u001b[39;00m:\n\u001b[1;32m     15\u001b[0m     do_return \u001b[39m=\u001b[39m \u001b[39mFalse\u001b[39;00m\n",
      "File \u001b[0;32m~/opt/anaconda3/envs/QC/lib/python3.10/site-packages/tensorflow/python/autograph/impl/api.py:441\u001b[0m, in \u001b[0;36mconverted_call\u001b[0;34m(f, args, kwargs, caller_fn_scope, options)\u001b[0m\n\u001b[1;32m    439\u001b[0m     result \u001b[39m=\u001b[39m converted_f(\u001b[39m*\u001b[39meffective_args, \u001b[39m*\u001b[39m\u001b[39m*\u001b[39mkwargs)\n\u001b[1;32m    440\u001b[0m   \u001b[39melse\u001b[39;00m:\n\u001b[0;32m--> 441\u001b[0m     result \u001b[39m=\u001b[39m converted_f(\u001b[39m*\u001b[39;49meffective_args)\n\u001b[1;32m    442\u001b[0m \u001b[39mexcept\u001b[39;00m \u001b[39mException\u001b[39;00m \u001b[39mas\u001b[39;00m e:\n\u001b[1;32m    443\u001b[0m   _attach_error_metadata(e, converted_f)\n",
      "File \u001b[0;32m/var/folders/tm/hv_bn47s29x7g0vjc7fk3bbw0000gn/T/__autograph_generated_filez09_6wko.py:70\u001b[0m, in \u001b[0;36mouter_factory.<locals>.inner_factory.<locals>.tf__Ising_loss\u001b[0;34m(c, pauli_terms, weights)\u001b[0m\n\u001b[1;32m     68\u001b[0m term \u001b[39m=\u001b[39m ag__\u001b[39m.\u001b[39mUndefined(\u001b[39m'\u001b[39m\u001b[39mterm\u001b[39m\u001b[39m'\u001b[39m)\n\u001b[1;32m     69\u001b[0m delta_loss \u001b[39m=\u001b[39m ag__\u001b[39m.\u001b[39mUndefined(\u001b[39m'\u001b[39m\u001b[39mdelta_loss\u001b[39m\u001b[39m'\u001b[39m)\n\u001b[0;32m---> 70\u001b[0m ag__\u001b[39m.\u001b[39;49mfor_stmt(ag__\u001b[39m.\u001b[39;49mconverted_call(ag__\u001b[39m.\u001b[39;49mld(\u001b[39mrange\u001b[39;49m), (ag__\u001b[39m.\u001b[39;49mconverted_call(ag__\u001b[39m.\u001b[39;49mld(\u001b[39mlen\u001b[39;49m), (ag__\u001b[39m.\u001b[39;49mld(pauli_terms),), \u001b[39mNone\u001b[39;49;00m, fscope),), \u001b[39mNone\u001b[39;49;00m, fscope), \u001b[39mNone\u001b[39;49;00m, loop_body_1, get_state_3, set_state_3, (\u001b[39m'\u001b[39;49m\u001b[39mloss\u001b[39;49m\u001b[39m'\u001b[39;49m,), {\u001b[39m'\u001b[39;49m\u001b[39miterate_names\u001b[39;49m\u001b[39m'\u001b[39;49m: \u001b[39m'\u001b[39;49m\u001b[39mk\u001b[39;49m\u001b[39m'\u001b[39;49m})\n\u001b[1;32m     71\u001b[0m \u001b[39mtry\u001b[39;00m:\n\u001b[1;32m     72\u001b[0m     do_return \u001b[39m=\u001b[39m \u001b[39mTrue\u001b[39;00m\n",
      "File \u001b[0;32m~/opt/anaconda3/envs/QC/lib/python3.10/site-packages/tensorflow/python/autograph/operators/control_flow.py:451\u001b[0m, in \u001b[0;36mfor_stmt\u001b[0;34m(iter_, extra_test, body, get_state, set_state, symbol_names, opts)\u001b[0m\n\u001b[1;32m    447\u001b[0m \u001b[39melif\u001b[39;00m \u001b[39misinstance\u001b[39m(iter_, distribute\u001b[39m.\u001b[39mIterable):\n\u001b[1;32m    448\u001b[0m   \u001b[39m# TODO(b/162250181): Use _tf_iterator_for_stmt(iter(iter_)...\u001b[39;00m\n\u001b[1;32m    449\u001b[0m   for_fn \u001b[39m=\u001b[39m _tf_distributed_iterable_for_stmt\n\u001b[0;32m--> 451\u001b[0m for_fn(iter_, extra_test, body, get_state, set_state, symbol_names, opts)\n",
      "File \u001b[0;32m~/opt/anaconda3/envs/QC/lib/python3.10/site-packages/tensorflow/python/autograph/operators/control_flow.py:502\u001b[0m, in \u001b[0;36m_py_for_stmt\u001b[0;34m(***failed resolving arguments***)\u001b[0m\n\u001b[1;32m    500\u001b[0m \u001b[39melse\u001b[39;00m:\n\u001b[1;32m    501\u001b[0m   \u001b[39mfor\u001b[39;00m target \u001b[39min\u001b[39;00m iter_:\n\u001b[0;32m--> 502\u001b[0m     body(target)\n",
      "File \u001b[0;32m~/opt/anaconda3/envs/QC/lib/python3.10/site-packages/tensorflow/python/autograph/operators/control_flow.py:468\u001b[0m, in \u001b[0;36m_py_for_stmt.<locals>.protected_body\u001b[0;34m(protected_iter)\u001b[0m\n\u001b[1;32m    467\u001b[0m \u001b[39mdef\u001b[39;00m \u001b[39mprotected_body\u001b[39m(protected_iter):\n\u001b[0;32m--> 468\u001b[0m   original_body(protected_iter)\n\u001b[1;32m    469\u001b[0m   after_iteration()\n\u001b[1;32m    470\u001b[0m   before_iteration()\n",
      "File \u001b[0;32m/var/folders/tm/hv_bn47s29x7g0vjc7fk3bbw0000gn/T/__autograph_generated_filez09_6wko.py:62\u001b[0m, in \u001b[0;36mouter_factory.<locals>.inner_factory.<locals>.tf__Ising_loss.<locals>.loop_body_1\u001b[0;34m(itr_1)\u001b[0m\n\u001b[1;32m     60\u001b[0m     \u001b[39mnonlocal\u001b[39;00m delta_loss\n\u001b[1;32m     61\u001b[0m     delta_loss \u001b[39m=\u001b[39m ag__\u001b[39m.\u001b[39mld(weights)[ag__\u001b[39m.\u001b[39mld(k)] \u001b[39m*\u001b[39m ag__\u001b[39m.\u001b[39mconverted_call(ag__\u001b[39m.\u001b[39mld(c)\u001b[39m.\u001b[39mexpectation_ps, (), \u001b[39mdict\u001b[39m(z\u001b[39m=\u001b[39m[ag__\u001b[39m.\u001b[39mld(index_of_ones)[\u001b[39m0\u001b[39m], ag__\u001b[39m.\u001b[39mld(index_of_ones)[\u001b[39m1\u001b[39m]]), fscope)\n\u001b[0;32m---> 62\u001b[0m ag__\u001b[39m.\u001b[39;49mif_stmt(ag__\u001b[39m.\u001b[39;49mconverted_call(ag__\u001b[39m.\u001b[39;49mld(\u001b[39mlen\u001b[39;49m), (ag__\u001b[39m.\u001b[39;49mld(index_of_ones),), \u001b[39mNone\u001b[39;49;00m, fscope) \u001b[39m==\u001b[39;49m \u001b[39m1\u001b[39;49m, if_body_1, else_body_1, get_state_2, set_state_2, (\u001b[39m'\u001b[39;49m\u001b[39mdelta_loss\u001b[39;49m\u001b[39m'\u001b[39;49m,), \u001b[39m1\u001b[39;49m)\n\u001b[1;32m     63\u001b[0m loss \u001b[39m=\u001b[39m ag__\u001b[39m.\u001b[39mld(loss)\n\u001b[1;32m     64\u001b[0m loss \u001b[39m+\u001b[39m\u001b[39m=\u001b[39m delta_loss\n",
      "File \u001b[0;32m~/opt/anaconda3/envs/QC/lib/python3.10/site-packages/tensorflow/python/autograph/operators/control_flow.py:1266\u001b[0m, in \u001b[0;36mif_stmt\u001b[0;34m(cond, body, orelse, get_state, set_state, symbol_names, nouts)\u001b[0m\n\u001b[1;32m   1264\u001b[0m   _tf_if_stmt(cond, body, orelse, get_state, set_state, symbol_names, nouts)\n\u001b[1;32m   1265\u001b[0m \u001b[39melse\u001b[39;00m:\n\u001b[0;32m-> 1266\u001b[0m   _py_if_stmt(cond, body, orelse)\n",
      "File \u001b[0;32m~/opt/anaconda3/envs/QC/lib/python3.10/site-packages/tensorflow/python/autograph/operators/control_flow.py:1319\u001b[0m, in \u001b[0;36m_py_if_stmt\u001b[0;34m(cond, body, orelse)\u001b[0m\n\u001b[1;32m   1317\u001b[0m \u001b[39mdef\u001b[39;00m \u001b[39m_py_if_stmt\u001b[39m(cond, body, orelse):\n\u001b[1;32m   1318\u001b[0m \u001b[39m  \u001b[39m\u001b[39m\"\"\"Overload of if_stmt that executes a Python if statement.\"\"\"\u001b[39;00m\n\u001b[0;32m-> 1319\u001b[0m   \u001b[39mreturn\u001b[39;00m body() \u001b[39mif\u001b[39;00m cond \u001b[39melse\u001b[39;00m orelse()\n",
      "File \u001b[0;32m/var/folders/tm/hv_bn47s29x7g0vjc7fk3bbw0000gn/T/__autograph_generated_filez09_6wko.py:61\u001b[0m, in \u001b[0;36mouter_factory.<locals>.inner_factory.<locals>.tf__Ising_loss.<locals>.loop_body_1.<locals>.else_body_1\u001b[0;34m()\u001b[0m\n\u001b[1;32m     59\u001b[0m \u001b[39mdef\u001b[39;00m \u001b[39melse_body_1\u001b[39m():\n\u001b[1;32m     60\u001b[0m     \u001b[39mnonlocal\u001b[39;00m delta_loss\n\u001b[0;32m---> 61\u001b[0m     delta_loss \u001b[39m=\u001b[39m ag__\u001b[39m.\u001b[39mld(weights)[ag__\u001b[39m.\u001b[39mld(k)] \u001b[39m*\u001b[39m ag__\u001b[39m.\u001b[39;49mconverted_call(ag__\u001b[39m.\u001b[39;49mld(c)\u001b[39m.\u001b[39;49mexpectation_ps, (), \u001b[39mdict\u001b[39;49m(z\u001b[39m=\u001b[39;49m[ag__\u001b[39m.\u001b[39;49mld(index_of_ones)[\u001b[39m0\u001b[39;49m], ag__\u001b[39m.\u001b[39;49mld(index_of_ones)[\u001b[39m1\u001b[39;49m]]), fscope)\n",
      "File \u001b[0;32m~/opt/anaconda3/envs/QC/lib/python3.10/site-packages/tensorflow/python/autograph/impl/api.py:439\u001b[0m, in \u001b[0;36mconverted_call\u001b[0;34m(f, args, kwargs, caller_fn_scope, options)\u001b[0m\n\u001b[1;32m    437\u001b[0m \u001b[39mtry\u001b[39;00m:\n\u001b[1;32m    438\u001b[0m   \u001b[39mif\u001b[39;00m kwargs \u001b[39mis\u001b[39;00m \u001b[39mnot\u001b[39;00m \u001b[39mNone\u001b[39;00m:\n\u001b[0;32m--> 439\u001b[0m     result \u001b[39m=\u001b[39m converted_f(\u001b[39m*\u001b[39;49meffective_args, \u001b[39m*\u001b[39;49m\u001b[39m*\u001b[39;49mkwargs)\n\u001b[1;32m    440\u001b[0m   \u001b[39melse\u001b[39;00m:\n\u001b[1;32m    441\u001b[0m     result \u001b[39m=\u001b[39m converted_f(\u001b[39m*\u001b[39meffective_args)\n",
      "File \u001b[0;32m/var/folders/tm/hv_bn47s29x7g0vjc7fk3bbw0000gn/T/__autograph_generated_filed1qn_7oj.py:125\u001b[0m, in \u001b[0;36mouter_factory.<locals>.inner_factory.<locals>.tf__expectation_ps\u001b[0;34m(self, x, y, z, reuse, noise_conf, nmc, status, **kws)\u001b[0m\n\u001b[1;32m    123\u001b[0m \u001b[39mdef\u001b[39;00m \u001b[39melse_body_2\u001b[39m():\n\u001b[1;32m    124\u001b[0m     \u001b[39mpass\u001b[39;00m\n\u001b[0;32m--> 125\u001b[0m ag__\u001b[39m.\u001b[39;49mif_stmt(ag__\u001b[39m.\u001b[39;49mld(z) \u001b[39mis\u001b[39;49;00m \u001b[39mnot\u001b[39;49;00m \u001b[39mNone\u001b[39;49;00m, if_body_2, else_body_2, get_state_5, set_state_5, (), \u001b[39m0\u001b[39;49m)\n\u001b[1;32m    126\u001b[0m \u001b[39mtry\u001b[39;00m:\n\u001b[1;32m    127\u001b[0m     do_return \u001b[39m=\u001b[39m \u001b[39mTrue\u001b[39;00m\n",
      "File \u001b[0;32m~/opt/anaconda3/envs/QC/lib/python3.10/site-packages/tensorflow/python/autograph/operators/control_flow.py:1266\u001b[0m, in \u001b[0;36mif_stmt\u001b[0;34m(cond, body, orelse, get_state, set_state, symbol_names, nouts)\u001b[0m\n\u001b[1;32m   1264\u001b[0m   _tf_if_stmt(cond, body, orelse, get_state, set_state, symbol_names, nouts)\n\u001b[1;32m   1265\u001b[0m \u001b[39melse\u001b[39;00m:\n\u001b[0;32m-> 1266\u001b[0m   _py_if_stmt(cond, body, orelse)\n",
      "File \u001b[0;32m~/opt/anaconda3/envs/QC/lib/python3.10/site-packages/tensorflow/python/autograph/operators/control_flow.py:1319\u001b[0m, in \u001b[0;36m_py_if_stmt\u001b[0;34m(cond, body, orelse)\u001b[0m\n\u001b[1;32m   1317\u001b[0m \u001b[39mdef\u001b[39;00m \u001b[39m_py_if_stmt\u001b[39m(cond, body, orelse):\n\u001b[1;32m   1318\u001b[0m \u001b[39m  \u001b[39m\u001b[39m\"\"\"Overload of if_stmt that executes a Python if statement.\"\"\"\u001b[39;00m\n\u001b[0;32m-> 1319\u001b[0m   \u001b[39mreturn\u001b[39;00m body() \u001b[39mif\u001b[39;00m cond \u001b[39melse\u001b[39;00m orelse()\n",
      "File \u001b[0;32m/var/folders/tm/hv_bn47s29x7g0vjc7fk3bbw0000gn/T/__autograph_generated_filed1qn_7oj.py:121\u001b[0m, in \u001b[0;36mouter_factory.<locals>.inner_factory.<locals>.tf__expectation_ps.<locals>.if_body_2\u001b[0;34m()\u001b[0m\n\u001b[1;32m    119\u001b[0m     i \u001b[39m=\u001b[39m itr_2\n\u001b[1;32m    120\u001b[0m     ag__\u001b[39m.\u001b[39mconverted_call(ag__\u001b[39m.\u001b[39mld(obs)\u001b[39m.\u001b[39mappend, ([ag__\u001b[39m.\u001b[39mconverted_call(ag__\u001b[39m.\u001b[39mld(gates)\u001b[39m.\u001b[39mz, (), \u001b[39mNone\u001b[39;00m, fscope), [ag__\u001b[39m.\u001b[39mld(i)]],), \u001b[39mNone\u001b[39;00m, fscope)\n\u001b[0;32m--> 121\u001b[0m ag__\u001b[39m.\u001b[39;49mfor_stmt(ag__\u001b[39m.\u001b[39;49mld(z), \u001b[39mNone\u001b[39;49;00m, loop_body_2, get_state_4, set_state_4, (), {\u001b[39m'\u001b[39;49m\u001b[39miterate_names\u001b[39;49m\u001b[39m'\u001b[39;49m: \u001b[39m'\u001b[39;49m\u001b[39mi\u001b[39;49m\u001b[39m'\u001b[39;49m})\n",
      "File \u001b[0;32m~/opt/anaconda3/envs/QC/lib/python3.10/site-packages/tensorflow/python/autograph/operators/control_flow.py:451\u001b[0m, in \u001b[0;36mfor_stmt\u001b[0;34m(iter_, extra_test, body, get_state, set_state, symbol_names, opts)\u001b[0m\n\u001b[1;32m    447\u001b[0m \u001b[39melif\u001b[39;00m \u001b[39misinstance\u001b[39m(iter_, distribute\u001b[39m.\u001b[39mIterable):\n\u001b[1;32m    448\u001b[0m   \u001b[39m# TODO(b/162250181): Use _tf_iterator_for_stmt(iter(iter_)...\u001b[39;00m\n\u001b[1;32m    449\u001b[0m   for_fn \u001b[39m=\u001b[39m _tf_distributed_iterable_for_stmt\n\u001b[0;32m--> 451\u001b[0m for_fn(iter_, extra_test, body, get_state, set_state, symbol_names, opts)\n",
      "File \u001b[0;32m~/opt/anaconda3/envs/QC/lib/python3.10/site-packages/tensorflow/python/autograph/operators/control_flow.py:502\u001b[0m, in \u001b[0;36m_py_for_stmt\u001b[0;34m(***failed resolving arguments***)\u001b[0m\n\u001b[1;32m    500\u001b[0m \u001b[39melse\u001b[39;00m:\n\u001b[1;32m    501\u001b[0m   \u001b[39mfor\u001b[39;00m target \u001b[39min\u001b[39;00m iter_:\n\u001b[0;32m--> 502\u001b[0m     body(target)\n",
      "File \u001b[0;32m~/opt/anaconda3/envs/QC/lib/python3.10/site-packages/tensorflow/python/autograph/operators/control_flow.py:468\u001b[0m, in \u001b[0;36m_py_for_stmt.<locals>.protected_body\u001b[0;34m(protected_iter)\u001b[0m\n\u001b[1;32m    467\u001b[0m \u001b[39mdef\u001b[39;00m \u001b[39mprotected_body\u001b[39m(protected_iter):\n\u001b[0;32m--> 468\u001b[0m   original_body(protected_iter)\n\u001b[1;32m    469\u001b[0m   after_iteration()\n\u001b[1;32m    470\u001b[0m   before_iteration()\n",
      "File \u001b[0;32m/var/folders/tm/hv_bn47s29x7g0vjc7fk3bbw0000gn/T/__autograph_generated_filed1qn_7oj.py:120\u001b[0m, in \u001b[0;36mouter_factory.<locals>.inner_factory.<locals>.tf__expectation_ps.<locals>.if_body_2.<locals>.loop_body_2\u001b[0;34m(itr_2)\u001b[0m\n\u001b[1;32m    118\u001b[0m \u001b[39mdef\u001b[39;00m \u001b[39mloop_body_2\u001b[39m(itr_2):\n\u001b[1;32m    119\u001b[0m     i \u001b[39m=\u001b[39m itr_2\n\u001b[0;32m--> 120\u001b[0m     ag__\u001b[39m.\u001b[39mconverted_call(ag__\u001b[39m.\u001b[39mld(obs)\u001b[39m.\u001b[39mappend, ([ag__\u001b[39m.\u001b[39;49mconverted_call(ag__\u001b[39m.\u001b[39;49mld(gates)\u001b[39m.\u001b[39;49mz, (), \u001b[39mNone\u001b[39;49;00m, fscope), [ag__\u001b[39m.\u001b[39mld(i)]],), \u001b[39mNone\u001b[39;00m, fscope)\n",
      "File \u001b[0;32m~/opt/anaconda3/envs/QC/lib/python3.10/site-packages/tensorflow/python/autograph/impl/api.py:436\u001b[0m, in \u001b[0;36mconverted_call\u001b[0;34m(f, args, kwargs, caller_fn_scope, options)\u001b[0m\n\u001b[1;32m    433\u001b[0m     \u001b[39mraise\u001b[39;00m\n\u001b[1;32m    434\u001b[0m   \u001b[39mreturn\u001b[39;00m _fall_back_unconverted(f, args, kwargs, options, e)\n\u001b[0;32m--> 436\u001b[0m \u001b[39mwith\u001b[39;00m StackTraceMapper(converted_f), tf_stack\u001b[39m.\u001b[39mCurrentModuleFilter():\n\u001b[1;32m    437\u001b[0m   \u001b[39mtry\u001b[39;00m:\n\u001b[1;32m    438\u001b[0m     \u001b[39mif\u001b[39;00m kwargs \u001b[39mis\u001b[39;00m \u001b[39mnot\u001b[39;00m \u001b[39mNone\u001b[39;00m:\n",
      "\u001b[0;31mKeyboardInterrupt\u001b[0m: "
     ]
    }
   ],
   "source": [
    "iterations = 1000\n",
    "nlayers = 2\n",
    "time_start = time.time()\n",
    "final_params = QUBO_QAOA(Q, QAOA_loss, nlayers, iterations)\n",
    "clear_output(wait=True)\n",
    "time_end = time.time()\n",
    "print(\"time consumed:\", round(time_end - time_start, 4), \"s\")"
   ]
  },
  {
   "cell_type": "code",
   "execution_count": 25,
   "id": "f725ea52",
   "metadata": {},
   "outputs": [
    {
     "name": "stdout",
     "output_type": "stream",
     "text": [
      "\n",
      "-------------------------------------\n",
      "    selection\t  |\tprobability\n",
      "-------------------------------------\n",
      "    001110\t  |\t  0.0725\n",
      "    000011\t  |\t  0.0650\n",
      "    111000\t  |\t  0.0577\n",
      "    011000\t  |\t  0.0523\n",
      "    111101\t  |\t  0.0425\n",
      "    110110\t  |\t  0.0343\n",
      "    110101\t  |\t  0.0331\n",
      "    101000\t  |\t  0.0278\n",
      "    010100\t  |\t  0.0277\n",
      "    000101\t  |\t  0.0250\n",
      "    010101\t  |\t  0.0243\n",
      "    011110\t  |\t  0.0233\n",
      "    101110\t  |\t  0.0233\n",
      "    110001\t  |\t  0.0232\n",
      "    000111\t  |\t  0.0223\n",
      "    011011\t  |\t  0.0217\n",
      "    011101\t  |\t  0.0215\n",
      "    101101\t  |\t  0.0208\n",
      "    111001\t  |\t  0.0206\n",
      "    111010\t  |\t  0.0199\n",
      "    101111\t  |\t  0.0195\n",
      "    100001\t  |\t  0.0188\n",
      "    100100\t  |\t  0.0182\n",
      "    100000\t  |\t  0.0168\n",
      "    101011\t  |\t  0.0166\n",
      "    110011\t  |\t  0.0164\n",
      "    001000\t  |\t  0.0163\n",
      "    110000\t  |\t  0.0155\n",
      "    100110\t  |\t  0.0135\n",
      "    011001\t  |\t  0.0120\n",
      "    100101\t  |\t  0.0113\n",
      "    101100\t  |\t  0.0107\n",
      "    110010\t  |\t  0.0106\n",
      "    000110\t  |\t  0.0097\n",
      "    010010\t  |\t  0.0090\n",
      "    001100\t  |\t  0.0087\n",
      "    111011\t  |\t  0.0085\n",
      "    010000\t  |\t  0.0082\n",
      "    010111\t  |\t  0.0075\n",
      "    010011\t  |\t  0.0072\n",
      "    011100\t  |\t  0.0071\n",
      "    001011\t  |\t  0.0067\n",
      "    110100\t  |\t  0.0063\n",
      "    110111\t  |\t  0.0058\n",
      "    101001\t  |\t  0.0052\n",
      "    000000\t  |\t  0.0050\n",
      "    010110\t  |\t  0.0049\n",
      "    001101\t  |\t  0.0048\n",
      "    001001\t  |\t  0.0046\n",
      "    111110\t  |\t  0.0045\n",
      "    100010\t  |\t  0.0042\n",
      "    011111\t  |\t  0.0038\n",
      "    000100\t  |\t  0.0038\n",
      "    111100\t  |\t  0.0029\n",
      "    001111\t  |\t  0.0029\n",
      "    000010\t  |\t  0.0028\n",
      "    100011\t  |\t  0.0028\n",
      "    000001\t  |\t  0.0021\n",
      "    010001\t  |\t  0.0019\n",
      "    011010\t  |\t  0.0013\n",
      "    100111\t  |\t  0.0012\n",
      "    001010\t  |\t  0.0010\n",
      "    101010\t  |\t  0.0003\n",
      "    111111\t  |\t  0.0001\n",
      "-------------------------------------\n"
     ]
    }
   ],
   "source": [
    "c_final = QAOA_from_Ising(\n",
    "    final_params, nlayers, portfolio_pauli_terms, portfolio_weights\n",
    ")\n",
    "states = []\n",
    "for i in range(2**6):\n",
    "    a = f\"{bin(i)[2:]:0>{6}}\"\n",
    "    states.append(a)\n",
    "probs = K.numpy(c_final.probability()).round(decimals=6)\n",
    "sorted_indices = np.argsort(probs)[::-1]\n",
    "state_sorted = np.array(states)[sorted_indices]\n",
    "prob_sorted = np.array(probs)[sorted_indices]\n",
    "\n",
    "print(\"\\n-------------------------------------\")\n",
    "print(\"    selection\\t  |\\tprobability\")\n",
    "print(\"-------------------------------------\")\n",
    "for i in range(len(states)):\n",
    "    print(\"%10s\\t  |\\t  %.4f\" % (state_sorted[i], prob_sorted[i]))\n",
    "print(\"-------------------------------------\")\n"
   ]
  },
  {
   "cell_type": "code",
   "execution_count": 26,
   "id": "8a9064e3-0c61-4d2d-baf9-bdf120c0331d",
   "metadata": {},
   "outputs": [
    {
     "data": {
      "image/png": "[encoded data removed]",
      "text/plain": [
       "<Figure size 640x480 with 1 Axes>"
      ]
     },
     "metadata": {},
     "output_type": "display_data"
    }
   ],
   "source": [
    "print_output(c_final)\n"
   ]
  },
  {
   "attachments": {},
   "cell_type": "markdown",
   "id": "09cae74d",
   "metadata": {},
   "source": [
    "### Influence of different mixers"
   ]
  },
  {
   "cell_type": "code",
   "execution_count": 27,
   "id": "4a5a8120",
   "metadata": {},
   "outputs": [
    {
     "name": "stderr",
     "output_type": "stream",
     "text": [
      "<>:28: SyntaxWarning: \"is\" with a literal. Did you mean \"==\"?\n",
      "<>:33: SyntaxWarning: \"is\" with a literal. Did you mean \"==\"?\n",
      "<>:49: SyntaxWarning: \"is\" with a literal. Did you mean \"==\"?\n",
      "<>:74: SyntaxWarning: \"is\" with a literal. Did you mean \"==\"?\n",
      "<>:77: SyntaxWarning: \"is\" with a literal. Did you mean \"==\"?\n",
      "<>:28: SyntaxWarning: \"is\" with a literal. Did you mean \"==\"?\n",
      "<>:33: SyntaxWarning: \"is\" with a literal. Did you mean \"==\"?\n",
      "<>:49: SyntaxWarning: \"is\" with a literal. Did you mean \"==\"?\n",
      "<>:74: SyntaxWarning: \"is\" with a literal. Did you mean \"==\"?\n",
      "<>:77: SyntaxWarning: \"is\" with a literal. Did you mean \"==\"?\n",
      "/var/folders/tm/hv_bn47s29x7g0vjc7fk3bbw0000gn/T/ipykernel_28706/93586.py:28: SyntaxWarning: \"is\" with a literal. Did you mean \"==\"?\n",
      "  if mixer is \"normal\":\n",
      "/var/folders/tm/hv_bn47s29x7g0vjc7fk3bbw0000gn/T/ipykernel_28706/93586.py:33: SyntaxWarning: \"is\" with a literal. Did you mean \"==\"?\n",
      "  if mixer is \"ring\":\n",
      "/var/folders/tm/hv_bn47s29x7g0vjc7fk3bbw0000gn/T/ipykernel_28706/93586.py:49: SyntaxWarning: \"is\" with a literal. Did you mean \"==\"?\n",
      "  if mixer is \"par_ring\":\n",
      "/var/folders/tm/hv_bn47s29x7g0vjc7fk3bbw0000gn/T/ipykernel_28706/93586.py:74: SyntaxWarning: \"is\" with a literal. Did you mean \"==\"?\n",
      "  if mixer is \"full\":\n",
      "/var/folders/tm/hv_bn47s29x7g0vjc7fk3bbw0000gn/T/ipykernel_28706/93586.py:77: SyntaxWarning: \"is\" with a literal. Did you mean \"==\"?\n",
      "  if mixer is \"QAMPA\":\n"
     ]
    }
   ],
   "source": [
    "# difine an universal QAOA ansatz\n",
    "def QAOA_ansatz(params, nlayers, pauli_terms, weights, mixer=\"standard\"):\n",
    "    nqubits = len(pauli_terms[0])\n",
    "    c = tc.Circuit(nqubits)\n",
    "    for i in range(nqubits):\n",
    "        c.h(i)\n",
    "    for j in range(nlayers):\n",
    "        # cost term\n",
    "        for k in range(len(pauli_terms)):\n",
    "            term = pauli_terms[k]\n",
    "            index_of_ones = []\n",
    "            for l in range(len(term)):\n",
    "                if term[l] == 1:\n",
    "                    index_of_ones.append(l)\n",
    "            if len(index_of_ones) == 1:\n",
    "                c.rz(index_of_ones[0], theta=2 * weights[k] * params[2 * j])\n",
    "            elif len(index_of_ones) == 2:\n",
    "                c.exp1(\n",
    "                    index_of_ones[0],\n",
    "                    index_of_ones[1],\n",
    "                    unitary=tc.gates._zz_matrix,\n",
    "                    theta=weights[k] * params[2 * j],\n",
    "                )\n",
    "            else:\n",
    "                raise ValueError(\"Invalid number of Z terms\")\n",
    "\n",
    "        # standard mixer term\n",
    "        if mixer is \"normal\":\n",
    "            for i in range(nqubits):\n",
    "                c.rx(i, theta=params[2 * j + 1])\n",
    "\n",
    "        # ring mixer\n",
    "        if mixer is \"ring\":\n",
    "            for i in range(nqubits - 1):\n",
    "                c.exp1(\n",
    "                    index_of_ones[i],\n",
    "                    index_of_ones[i + 1],\n",
    "                    unitary=tc.gates._xx_matrix,\n",
    "                    theta=params[2 * j + 1],\n",
    "                )\n",
    "            c.exp1(\n",
    "                index_of_ones[-1],\n",
    "                index_of_ones[0],\n",
    "                unitary=tc.gates._xx_matrix,\n",
    "                theta=params[2 * j + 1],\n",
    "            )\n",
    "\n",
    "        # parity ring mixer\n",
    "        if mixer is \"par_ring\":\n",
    "            half = int(nqubits / 2)\n",
    "            for i in range(half + 1):  # even\n",
    "                c.exp1(\n",
    "                    index_of_ones[2 * i - 1],\n",
    "                    index_of_ones[2 * i],\n",
    "                    unitary=tc.gates._xx_matrix,\n",
    "                    theta=params[2 * j + 1],\n",
    "                )\n",
    "            for i in range(half - 1):  # odd\n",
    "                c.exp1(\n",
    "                    index_of_ones[2 * i],\n",
    "                    index_of_ones[2 * i + 1],\n",
    "                    unitary=tc.gates._xx_matrix,\n",
    "                    theta=params[2 * j + 1 + half],\n",
    "                )\n",
    "            if 2 * half < nqubits:\n",
    "                c.exp1(\n",
    "                    index_of_ones[2 * half],\n",
    "                    index_of_ones[2 * half + 1],\n",
    "                    unitary=tc.gates._xx_matrix,\n",
    "                    theta=params[2 * j + 1 + half],\n",
    "                )\n",
    "\n",
    "        # full mixer\n",
    "        if mixer is \"full\":\n",
    "            pass\n",
    "        #\n",
    "        if mixer is \"QAMPA\":\n",
    "            pass\n",
    "    return c"
   ]
  },
  {
   "attachments": {},
   "cell_type": "markdown",
   "id": "ee973af9",
   "metadata": {},
   "source": [
    "### Use CVaR"
   ]
  },
  {
   "cell_type": "code",
   "execution_count": 28,
   "id": "96578bd2",
   "metadata": {},
   "outputs": [],
   "source": [
    "def cvar_value(r, p, percent):\n",
    "    rs = sorted(\n",
    "        [(i, j) for i, j in enumerate(r)], key=lambda s: -s[1]\n",
    "    )  # larger to smaller\n",
    "    sump = 0.0  # the sum of probability\n",
    "    count = 0\n",
    "    cvar_result = 0.0\n",
    "    while sump < percent:\n",
    "        if round(sump + p[rs[count][0]], 7) >= percent:\n",
    "            cvar_result += rs[count][1] * (percent - sump)\n",
    "            count += 1\n",
    "            break\n",
    "        else:\n",
    "            sump += p[rs[count][0]]\n",
    "            cvar_result += rs[count][1] * p[rs[count][0]]\n",
    "            count += 1\n",
    "\n",
    "    cvar_result /= percent\n",
    "    return K.real(cvar_result)"
   ]
  },
  {
   "cell_type": "code",
   "execution_count": 29,
   "id": "153cc99d",
   "metadata": {},
   "outputs": [],
   "source": [
    "def cvar_from_circuit(circuit, num_samples, Q, alpha):\n",
    "    s = circuit.state()\n",
    "    results = tc.quantum.measurement_results(\n",
    "        s, counts=num_samples, format=\"count_dict_bin\"\n",
    "    )  # get readouts\n",
    "    results = {k: v / num_samples for k, v in results.items()}\n",
    "    values = []  # passed to cvar\n",
    "    probability = []  # passed to cvar\n",
    "    for k, v in results.items():\n",
    "        x = np.array([int(bit) for bit in k])\n",
    "        values.append(np.dot(x, np.dot(Q, x)))\n",
    "        probability.append(v)\n",
    "    cvar_result = cvar_value(values, probability, alpha)\n",
    "    return cvar_result"
   ]
  },
  {
   "cell_type": "code",
   "execution_count": 30,
   "id": "d8bd4244",
   "metadata": {},
   "outputs": [
    {
     "name": "stdout",
     "output_type": "stream",
     "text": [
      "tf.Tensor(-470915.2955884801, shape=(), dtype=float64)\n"
     ]
    }
   ],
   "source": [
    "cvar_result = cvar_from_circuit(c_final, 1000, Q, 1)\n",
    "print(cvar_result)\n"
   ]
  },
  {
   "cell_type": "code",
   "execution_count": 31,
   "id": "78455c36",
   "metadata": {},
   "outputs": [],
   "source": [
    "def cvar_loss(nlayers, Q, pauli_terms, weights, percent, params):\n",
    "    c = QAOA_from_Ising(params, nlayers, pauli_terms, weights)\n",
    "    return cvar_from_circuit(c, 1000, Q, percent)\n"
   ]
  },
  {
   "cell_type": "code",
   "execution_count": 32,
   "id": "0e89a5be",
   "metadata": {},
   "outputs": [],
   "source": [
    "def QUBO_CVaR(Q, nlayers, iterations):\n",
    "    pauli_terms, weights, offset = QUBO_to_Ising(Q)\n",
    "    learning_rate = 1e-2\n",
    "\n",
    "    loss_val_grad = K.value_and_grad(\n",
    "        partial(cvar_loss, nlayers, Q, pauli_terms, weights, 1)\n",
    "    )\n",
    "    loss_val_grad_jit = K.jit(loss_val_grad)\n",
    "\n",
    "    opt = K.optimizer(tf.keras.optimizers.deserialize(learning_rate))\n",
    "\n",
    "    params = K.implicit_randn(shape=[2 * nlayers], stddev=0.5)\n",
    "    for i in range(iterations):\n",
    "        loss, grads = loss_val_grad(params)\n",
    "        print(loss, grads)\n",
    "        params = opt.update(grads, params)\n",
    "\n",
    "    return params"
   ]
  },
  {
   "cell_type": "code",
   "execution_count": 33,
   "id": "dfc8f55c",
   "metadata": {},
   "outputs": [
    {
     "ename": "TypeError",
     "evalue": "'float' object is not subscriptable",
     "output_type": "error",
     "traceback": [
      "\u001b[0;31m---------------------------------------------------------------------------\u001b[0m",
      "\u001b[0;31mTypeError\u001b[0m                                 Traceback (most recent call last)",
      "Cell \u001b[0;32mIn[33], line 3\u001b[0m\n\u001b[1;32m      1\u001b[0m iterations \u001b[39m=\u001b[39m \u001b[39m500\u001b[39m\n\u001b[1;32m      2\u001b[0m time_start \u001b[39m=\u001b[39m time\u001b[39m.\u001b[39mtime()\n\u001b[0;32m----> 3\u001b[0m final_params \u001b[39m=\u001b[39m QUBO_CVaR(Q, nlayers, iterations)\n\u001b[1;32m      4\u001b[0m clear_output(wait\u001b[39m=\u001b[39m\u001b[39mTrue\u001b[39;00m)\n\u001b[1;32m      5\u001b[0m time_end \u001b[39m=\u001b[39m time\u001b[39m.\u001b[39mtime()\n",
      "Cell \u001b[0;32mIn[32], line 10\u001b[0m, in \u001b[0;36mQUBO_CVaR\u001b[0;34m(Q, nlayers, iterations)\u001b[0m\n\u001b[1;32m      5\u001b[0m loss_val_grad \u001b[39m=\u001b[39m K\u001b[39m.\u001b[39mvalue_and_grad(\n\u001b[1;32m      6\u001b[0m     partial(cvar_loss, nlayers, Q, pauli_terms, weights, \u001b[39m1\u001b[39m)\n\u001b[1;32m      7\u001b[0m )\n\u001b[1;32m      8\u001b[0m loss_val_grad_jit \u001b[39m=\u001b[39m K\u001b[39m.\u001b[39mjit(loss_val_grad)\n\u001b[0;32m---> 10\u001b[0m opt \u001b[39m=\u001b[39m K\u001b[39m.\u001b[39moptimizer(tf\u001b[39m.\u001b[39;49mkeras\u001b[39m.\u001b[39;49moptimizers\u001b[39m.\u001b[39;49mdeserialize(learning_rate))\n\u001b[1;32m     12\u001b[0m params \u001b[39m=\u001b[39m K\u001b[39m.\u001b[39mimplicit_randn(shape\u001b[39m=\u001b[39m[\u001b[39m2\u001b[39m \u001b[39m*\u001b[39m nlayers], stddev\u001b[39m=\u001b[39m\u001b[39m0.5\u001b[39m)\n\u001b[1;32m     13\u001b[0m \u001b[39mfor\u001b[39;00m i \u001b[39min\u001b[39;00m \u001b[39mrange\u001b[39m(iterations):\n",
      "File \u001b[0;32m~/opt/anaconda3/envs/QC/lib/python3.10/site-packages/keras/optimizers/__init__.py:119\u001b[0m, in \u001b[0;36mdeserialize\u001b[0;34m(config, custom_objects, use_legacy_format, **kwargs)\u001b[0m\n\u001b[1;32m    117\u001b[0m \u001b[39mif\u001b[39;00m kwargs:\n\u001b[1;32m    118\u001b[0m     \u001b[39mraise\u001b[39;00m \u001b[39mTypeError\u001b[39;00m(\u001b[39mf\u001b[39m\u001b[39m\"\u001b[39m\u001b[39mInvalid keyword arguments: \u001b[39m\u001b[39m{\u001b[39;00mkwargs\u001b[39m}\u001b[39;00m\u001b[39m\"\u001b[39m)\n\u001b[0;32m--> 119\u001b[0m \u001b[39mif\u001b[39;00m \u001b[39mlen\u001b[39m(config[\u001b[39m\"\u001b[39;49m\u001b[39mconfig\u001b[39;49m\u001b[39m\"\u001b[39;49m]) \u001b[39m>\u001b[39m \u001b[39m0\u001b[39m:\n\u001b[1;32m    120\u001b[0m     \u001b[39m# If the optimizer config is not empty, then we use the value of\u001b[39;00m\n\u001b[1;32m    121\u001b[0m     \u001b[39m# `is_legacy_optimizer` to override `use_legacy_optimizer`. If\u001b[39;00m\n\u001b[1;32m    122\u001b[0m     \u001b[39m# `is_legacy_optimizer` does not exist in config, it means we are\u001b[39;00m\n\u001b[1;32m    123\u001b[0m     \u001b[39m# using the legacy optimzier.\u001b[39;00m\n\u001b[1;32m    124\u001b[0m     use_legacy_optimizer \u001b[39m=\u001b[39m config[\u001b[39m\"\u001b[39m\u001b[39mconfig\u001b[39m\u001b[39m\"\u001b[39m]\u001b[39m.\u001b[39mget(\u001b[39m\"\u001b[39m\u001b[39mis_legacy_optimizer\u001b[39m\u001b[39m\"\u001b[39m, \u001b[39mTrue\u001b[39;00m)\n\u001b[1;32m    125\u001b[0m \u001b[39mif\u001b[39;00m (\n\u001b[1;32m    126\u001b[0m     tf\u001b[39m.\u001b[39m__internal__\u001b[39m.\u001b[39mtf2\u001b[39m.\u001b[39menabled()\n\u001b[1;32m    127\u001b[0m     \u001b[39mand\u001b[39;00m tf\u001b[39m.\u001b[39mexecuting_eagerly()\n\u001b[0;32m   (...)\u001b[0m\n\u001b[1;32m    131\u001b[0m     \u001b[39m# We observed a slowdown of optimizer on M1 Mac, so we fall back to the\u001b[39;00m\n\u001b[1;32m    132\u001b[0m     \u001b[39m# legacy optimizer for M1 users now, see b/263339144 for more context.\u001b[39;00m\n",
      "\u001b[0;31mTypeError\u001b[0m: 'float' object is not subscriptable"
     ]
    }
   ],
   "source": [
    "iterations = 500\n",
    "time_start = time.time()\n",
    "final_params = QUBO_CVaR(Q, nlayers, iterations)\n",
    "clear_output(wait=True)\n",
    "time_end = time.time()\n",
    "print(\"time consumed:\", round(time_end - time_start, 4), \"s\")"
   ]
  }
 ],
 "metadata": {
  "kernelspec": {
   "display_name": "Python 3 (ipykernel)",
   "language": "python",
   "name": "python3"
  },
  "language_info": {
   "codemirror_mode": {
    "name": "ipython",
    "version": 3
   },
   "file_extension": ".py",
   "mimetype": "text/x-python",
   "name": "python",
   "nbconvert_exporter": "python",
   "pygments_lexer": "ipython3",
   "version": "3.10.10"
  }
 },
 "nbformat": 4,
 "nbformat_minor": 5
}
