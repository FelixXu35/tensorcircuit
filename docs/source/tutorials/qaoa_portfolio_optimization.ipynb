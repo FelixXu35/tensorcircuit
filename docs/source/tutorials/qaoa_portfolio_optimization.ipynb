{
 "cells": [
  {
   "attachments": {},
   "cell_type": "markdown",
   "id": "6ddb8a88-779a-43f7-ae14-115463bd87f5",
   "metadata": {},
   "source": [
    "# Solving portfolio optimization as QUBO problem with QAOA\n",
    "\n",
    "## Overview\n",
    "\n",
    "Here we show how to solve a quadratic unconstrained binary optimization (QUBO) problem using QAOA.  Later on below we will extend this to show how to solve binary Markowitz portfolio optimization problems."
   ]
  },
  {
   "attachments": {},
   "cell_type": "markdown",
   "id": "77db924e",
   "metadata": {},
   "source": [
    "## QUBO problem\n",
    "\n",
    "### what is QUBO?\n",
    "\n",
    "Quadratic unconstrained binary optimization (QUBO) is a type of problem that aims to optimize a quadratic objective function using binary variables. In a QUBO problem, the objective is to find the binary variable assignments that minimize or maximize the quadratic objective function. These variables represent choices or decision variables that can be either selected (1) or not selected (0). The objective function reflects the associated costs, benefits, or constraints linked to these decisions.\n",
    "\n",
    "QUBO is a NP-hard problem.\n",
    "\n",
    "### An example\n",
    "\n",
    "We illustrate the QUBO problem with a simple example. Consider minimizing the following 2x2 QUBO objective function:\n",
    "\n",
    "$\\begin{pmatrix}x_1 & x_2\\end{pmatrix}\\begin{pmatrix}-5& -2 \\\\-2 & 6\\end{pmatrix}\\begin{pmatrix}x_1\\\\x_2\\end{pmatrix} = -5x_1^2 -4x_1x_2 +6x_2^2$\n",
    "\n",
    "Clearly this is minimized at $(x_1,x_2) = (1,0)$, with corresponding objective function value of $-5$\n",
    "\n",
    "We first convert this to an Ising Hamiltonian by mapping $x_i\\rightarrow \\frac{I-Z_i}{2}$\n",
    "\n",
    "This gives\n",
    "\n",
    "$$-\\frac{5}{4}(I-Z_1)^2 -\\frac{4}{4}(I-Z_1)(I-Z_2) + \\frac{6}{4}(I-Z_2)^2 $$\n",
    "\n",
    "which simplifies to\n",
    "\n",
    "$$-\\frac{1}{2}I +\\frac{7}{2}Z_1   -2Z_2 -Z_1Z_2$$ \n",
    "\n",
    "The $-I/2$ term is simply a constant offset, so we can solve the problem by finding the minimum of \n",
    "\n",
    "$$\\langle \\psi | \\frac{7}{2}Z_1 -2Z_2 -Z_1Z_2 |\\psi\\rangle$$ \n",
    "\n",
    "Note that the minimum should correspond to the computational basis state $|10\\rangle$, and the corresponding true objective function value should be $-4.5$ (ignoring the offset value of $-1/2$)"
   ]
  },
  {
   "attachments": {},
   "cell_type": "markdown",
   "id": "8176aa81",
   "metadata": {},
   "source": [
    "## Setup"
   ]
  },
  {
   "cell_type": "code",
   "execution_count": 176,
   "id": "45964c1f",
   "metadata": {},
   "outputs": [],
   "source": [
    "import tensorcircuit as tc\n",
    "import numpy as np\n",
    "import tensorflow as tf\n",
    "import matplotlib.pyplot as plt\n",
    "from IPython.display import clear_output\n",
    "from functools import partial\n",
    "import time\n",
    "import scipy.optimize as optimize"
   ]
  },
  {
   "cell_type": "code",
   "execution_count": 177,
   "id": "4006848a-1a2f-407a-9f80-63e75ea0d3a4",
   "metadata": {},
   "outputs": [],
   "source": [
    "K = tc.set_backend(\"tensorflow\")\n",
    "tf.compat.v1.logging.set_verbosity(tf.compat.v1.logging.ERROR)\n",
    "\n",
    "nlayers = 2\n",
    "states = []\n",
    "for i in range(4):\n",
    "    states.append(f\"{bin(i)[2:]:0>{2}}\")\n",
    "\n",
    "# see below for a function to generate the pauli terms and weights from the QUBO matrix"
   ]
  },
  {
   "attachments": {},
   "cell_type": "markdown",
   "id": "4ddb548e",
   "metadata": {},
   "source": [
    "### Convert the Q-matrix to Ising Hamiltonian"
   ]
  },
  {
   "cell_type": "code",
   "execution_count": 178,
   "id": "a01ab8a2-d8cd-440d-ad70-7444e8b6a009",
   "metadata": {},
   "outputs": [],
   "source": [
    "def QUBO_to_Ising(Q):\n",
    "    # input is n-by-n symmetric numpy array corresponding to Q-matrix\n",
    "    # output is the components of Ising Hamiltonian\n",
    "\n",
    "    n = Q.shape[0]\n",
    "\n",
    "    offset = np.triu(Q, 0).sum() / 2\n",
    "    pauli_terms = []\n",
    "    weights = -np.sum(Q, axis=1) / 2\n",
    "\n",
    "    for i in range(n):\n",
    "        term = np.zeros(n)\n",
    "        term[i] = 1\n",
    "        pauli_terms.append(term)\n",
    "\n",
    "    for i in range(n - 1):\n",
    "        for j in range(i + 1, n):\n",
    "            term = np.zeros(n)\n",
    "            term[i] = 1\n",
    "            term[j] = 1\n",
    "            pauli_terms.append(term)\n",
    "\n",
    "            weight = Q[i][j] / 2\n",
    "            weights = np.concatenate((weights, weight), axis=None)\n",
    "\n",
    "    return pauli_terms, weights, offset\n"
   ]
  },
  {
   "cell_type": "code",
   "execution_count": 179,
   "id": "1f396a77",
   "metadata": {},
   "outputs": [
    {
     "name": "stdout",
     "output_type": "stream",
     "text": [
      "The pauli terms in this QUBO problem are:  [array([1., 0.]), array([0., 1.]), array([1., 1.])]\n",
      "and correspond weights are: [ 3.5 -2.  -1. ]\n",
      "the offset is: -0.5\n"
     ]
    }
   ],
   "source": [
    "Q = np.array([[-5, -2], [-2, 6]])\n",
    "pauli_terms, weights, offset = QUBO_to_Ising(Q)\n",
    "print(\"The pauli terms in this QUBO problem are: \", pauli_terms)\n",
    "print(\"and correspond weights are:\", weights)\n",
    "print(\"the offset is:\", offset)"
   ]
  },
  {
   "attachments": {},
   "cell_type": "markdown",
   "id": "b56b04c7",
   "metadata": {},
   "source": [
    "The results are consistent with our analysis."
   ]
  },
  {
   "attachments": {},
   "cell_type": "markdown",
   "id": "710ed2f7",
   "metadata": {},
   "source": [
    "### Ansatz"
   ]
  },
  {
   "cell_type": "code",
   "execution_count": 180,
   "id": "d197cf4a-1bad-4470-a846-998bfe68ba3c",
   "metadata": {},
   "outputs": [],
   "source": [
    "# Now we define the QAOA ansatz of depth nlayers\n",
    "def QAOA_from_Ising(params, nlayers, pauli_terms, weights):\n",
    "    nqubits = len(pauli_terms[0])\n",
    "    c = tc.Circuit(nqubits)\n",
    "    for i in range(nqubits):\n",
    "        c.h(i)\n",
    "    for j in range(nlayers):\n",
    "        # cost term\n",
    "        for k in range(len(pauli_terms)):\n",
    "            term = pauli_terms[k]\n",
    "            index_of_ones = []\n",
    "            for l in range(len(term)):\n",
    "                if term[l] == 1:\n",
    "                    index_of_ones.append(l)\n",
    "            if len(index_of_ones) == 1:\n",
    "                c.rz(index_of_ones[0], theta=2 * weights[k] * params[2 * j])\n",
    "            elif len(index_of_ones) == 2:\n",
    "                c.exp1(\n",
    "                    index_of_ones[0],\n",
    "                    index_of_ones[1],\n",
    "                    unitary=tc.gates._zz_matrix,\n",
    "                    theta=weights[k] * params[2 * j],\n",
    "                )\n",
    "            else:\n",
    "                raise ValueError(\"Invalid number of Z terms\")\n",
    "\n",
    "        for i in range(nqubits):\n",
    "            c.rx(i, theta=params[2 * j + 1])  # mixing terms\n",
    "    return c\n"
   ]
  },
  {
   "attachments": {},
   "cell_type": "markdown",
   "id": "ac05fccb",
   "metadata": {},
   "source": [
    "### Loss function"
   ]
  },
  {
   "attachments": {},
   "cell_type": "markdown",
   "id": "cb38c120-500a-44cc-96ec-fb5ceb11032d",
   "metadata": {},
   "source": [
    "For a general state that is the output of a quantum circuit c, we first define the corresponding loss with respect to the Ising Hamiltonian."
   ]
  },
  {
   "cell_type": "code",
   "execution_count": 181,
   "id": "88cec9cf-3ab6-4a4c-b743-ed95ee8c3817",
   "metadata": {},
   "outputs": [],
   "source": [
    "def Ising_loss(c, pauli_terms, weights):\n",
    "    loss = 0.0\n",
    "    for k in range(len(pauli_terms)):\n",
    "        term = pauli_terms[k]\n",
    "        index_of_ones = []\n",
    "\n",
    "        for l in range(len(term)):\n",
    "            if term[l] == 1:\n",
    "                index_of_ones.append(l)\n",
    "\n",
    "        if len(index_of_ones) == 1:\n",
    "            delta_loss = weights[k] * c.expectation_ps(z=[index_of_ones[0]])\n",
    "\n",
    "        else:\n",
    "            delta_loss = weights[k] * c.expectation_ps(\n",
    "                z=[index_of_ones[0], index_of_ones[1]]\n",
    "            )\n",
    "\n",
    "        loss += delta_loss\n",
    "\n",
    "    return K.real(loss)\n"
   ]
  },
  {
   "cell_type": "code",
   "execution_count": 182,
   "id": "a15fc14f",
   "metadata": {},
   "outputs": [],
   "source": [
    "def Ising_loss_Q(c, Q):\n",
    "    n_qubits = c._nqubits\n",
    "    prob = c.probability()\n",
    "    loss = 0.0\n",
    "    for i in range(len(prob)):\n",
    "        state = f\"{bin(i)[2:]:0>{n_qubits}}\"\n",
    "        x = np.array([int(bit) for bit in state])\n",
    "        loss += np.dot(x, np.dot(Q, x)) * prob[i]\n",
    "        print(loss)\n",
    "    return K.real(loss)"
   ]
  },
  {
   "attachments": {},
   "cell_type": "markdown",
   "id": "30a3aa96-7823-4337-9b2f-5170502bb893",
   "metadata": {},
   "source": [
    "For the particular case of a circuit corresponding to a QAOA ansatz this is:"
   ]
  },
  {
   "cell_type": "code",
   "execution_count": 183,
   "id": "26e4bec2-ce5b-4d0d-9e06-c80fda20619f",
   "metadata": {},
   "outputs": [],
   "source": [
    "def QAOA_loss(nlayers, pauli_terms, weights, params):\n",
    "    c = QAOA_from_Ising(params, nlayers, pauli_terms, weights)\n",
    "    return Ising_loss(c, pauli_terms, weights)\n"
   ]
  },
  {
   "cell_type": "code",
   "execution_count": 184,
   "id": "6f3bb173",
   "metadata": {},
   "outputs": [],
   "source": [
    "def QAOA_loss_Q(nlayers, pauli_terms, weights, Q, params):\n",
    "    c = QAOA_from_Ising(params, nlayers, pauli_terms, weights)\n",
    "    return Ising_loss_Q(c, Q)\n"
   ]
  },
  {
   "cell_type": "code",
   "execution_count": 185,
   "id": "cd3a1732",
   "metadata": {},
   "outputs": [],
   "source": [
    "def QUBO_QAOA(Q, ansatz, nlayers, iterations, vvag=False, ncircuits=10):\n",
    "    pauli_terms, weights, offset = QUBO_to_Ising(Q)\n",
    "    learning_rate = 1e-2\n",
    "\n",
    "    loss_val_grad = K.value_and_grad(partial(ansatz, nlayers, pauli_terms, weights))\n",
    "    params = K.implicit_randn(shape=[2 * nlayers], stddev=0.5)\n",
    "    if vvag == True:\n",
    "        loss_val_grad = tc.backend.vvag(loss_val_grad, argnums=0, vectorized_argnums=0)\n",
    "        params = K.implicit_randn(shape=[ncircuits, 2 * nlayers], stddev=0.1)\n",
    "    loss_val_grad_jit = K.jit(loss_val_grad, static_argnums=(1, 2))\n",
    "\n",
    "    opt = K.optimizer(tf.keras.optimizers.Adam(learning_rate))\n",
    "    for i in range(iterations):\n",
    "        loss, grads = loss_val_grad_jit(params)\n",
    "        params = opt.update(grads, params)\n",
    "\n",
    "    return params"
   ]
  },
  {
   "attachments": {},
   "cell_type": "markdown",
   "id": "192d6c47",
   "metadata": {},
   "source": [
    "### Results"
   ]
  },
  {
   "cell_type": "code",
   "execution_count": 186,
   "id": "2bc533da-b4f2-4ffb-b486-c65880a30a6d",
   "metadata": {
    "tags": []
   },
   "outputs": [
    {
     "name": "stdout",
     "output_type": "stream",
     "text": [
      "time consumed: 3.3175 s\n"
     ]
    }
   ],
   "source": [
    "iterations = 500\n",
    "time_start = time.time()\n",
    "final_params = QUBO_QAOA(Q, QAOA_loss, nlayers, iterations)\n",
    "clear_output(wait=True)\n",
    "time_end = time.time()\n",
    "print(\"time consumed:\", round(time_end - time_start, 4), \"s\")"
   ]
  },
  {
   "cell_type": "code",
   "execution_count": 187,
   "id": "fb6a8579",
   "metadata": {},
   "outputs": [
    {
     "name": "stdout",
     "output_type": "stream",
     "text": [
      "\n",
      "-------------------------------------\n",
      "    selection\t  |\tprobability\n",
      "-------------------------------------\n",
      "        00\t  |\t  0.4865\n",
      "        11\t  |\t  0.2275\n",
      "        10\t  |\t  0.1648\n",
      "        01\t  |\t  0.1212\n",
      "-------------------------------------\n"
     ]
    }
   ],
   "source": [
    "c = QAOA_from_Ising(final_params, nlayers, pauli_terms, weights)\n",
    "probs = K.numpy(c.probability()).round(decimals=4)\n",
    "# prob_dict = {states[i]: probs[i] for i in range(4)}\n",
    "# prob_sorted = dict(sorted(prob_dict.items(), key=lambda item: item[1], reverse=True))\n",
    "sorted_indices = np.argsort(probs)[::-1]\n",
    "state_sorted = np.array(states)[sorted_indices]\n",
    "prob_sorted = np.array(probs)[sorted_indices]\n",
    "\n",
    "print(\"\\n-------------------------------------\")\n",
    "print(\"    selection\\t  |\\tprobability\")\n",
    "print(\"-------------------------------------\")\n",
    "for i in range(len(states)):\n",
    "    print(\"%10s\\t  |\\t  %.4f\" % (state_sorted[i], prob_sorted[i]))\n",
    "print(\"-------------------------------------\")"
   ]
  },
  {
   "attachments": {},
   "cell_type": "markdown",
   "id": "e93d8cbe-2884-4f0a-80f8-3b600194927b",
   "metadata": {},
   "source": [
    "We note that for nlayers=2 and 500 iterations, the objective function does not in this case (although it depends on the initial parameters) converge to the true value of $-4.5$.  However, the we see below that the final wavefunction does have large overlap with the desired state $|10\\rangle$, so measuring the output of the QAOA algorithm will, with high probability, output the correct answer."
   ]
  },
  {
   "cell_type": "code",
   "execution_count": 188,
   "id": "294ea9ce-5064-4176-94d0-8dbb7d1707f8",
   "metadata": {},
   "outputs": [],
   "source": [
    "def print_output(c):\n",
    "    n = c._nqubits\n",
    "    N = 2**n\n",
    "    x_label = r\"$\\left|{0:0\" + str(n) + r\"b}\\right>$\"\n",
    "    labels = [x_label.format(i) for i in range(N)]\n",
    "    plt.bar(range(N), c.probability())\n",
    "    plt.xticks(range(N), labels, rotation=70)"
   ]
  },
  {
   "cell_type": "code",
   "execution_count": 189,
   "id": "fc1353ab-7a7a-4cdc-931c-3b90417c4961",
   "metadata": {
    "tags": []
   },
   "outputs": [
    {
     "data": {
      "image/png": "[encoded data removed]",
      "text/plain": [
       "<Figure size 640x480 with 1 Axes>"
      ]
     },
     "metadata": {},
     "output_type": "display_data"
    }
   ],
   "source": [
    "print_output(c)\n"
   ]
  },
  {
   "attachments": {},
   "cell_type": "markdown",
   "id": "d155c5e5-5843-4bba-9edc-595a18cb0c9a",
   "metadata": {},
   "source": [
    "## General Case\n",
    "\n",
    "For the general QUBO case, we wish to minimize\n",
    "\n",
    "$$ x^T Q x$$\n",
    "\n",
    "where $x\\in\\{0,1\\}^n$ and $Q\\in\\mathbb{R}^{n\\times n}$ is a real symmetric matrix.\n",
    "\n",
    "This maps to an Ising Hamiltonian \n",
    "\n",
    "$$\\frac{1}{2}\\left(\\sum_{i=1}^n C_{ii} + \\sum_{i<j}C_{ij}\\right) I - \\frac{1}{2}\\sum_{i=1}^n \\left(\\sum_{j=1}^n C_{ij} \\right)Z_i +\\frac{1}{2}\\sum_{i<j}C_{ij}Z_iZ_j$$\n",
    "\n",
    "Below is a simple function which can perform this mapping:"
   ]
  },
  {
   "attachments": {},
   "cell_type": "markdown",
   "id": "88546c96",
   "metadata": {},
   "source": [
    "## Portfolio problem"
   ]
  },
  {
   "attachments": {},
   "cell_type": "markdown",
   "id": "c3819ca0",
   "metadata": {},
   "source": [
    "Consider a scenario: Xiaoming, a wise individual, has an amount of money denoted as $B$, and he intends to invest it in the stock market. The market consists of $n$ shares from which he can choose (assuming all shares have the same price). Naturally, Xiaoming aims to maximize returns while minimizing risk. Additionally, it's important to note that individuals have varying levels of risk tolerance. Xiaoming's risk tolerance is denoted as $p$. Given these factors, which shares should Xiaoming select to construct his portfolio?\n",
    "\n"
   ]
  },
  {
   "attachments": {},
   "cell_type": "markdown",
   "id": "b4c49427-8555-4fb8-aad7-3e374d75659c",
   "metadata": {},
   "source": [
    "### Solving portfolio optimization problems with QAOA"
   ]
  },
  {
   "attachments": {},
   "cell_type": "markdown",
   "id": "1744c60e-3914-4c92-a653-735052ce8453",
   "metadata": {},
   "source": [
    "In a simple boolean Markowitz portfolio optimization problem, we wish to solve \n",
    "\n",
    "$$\\min_{x\\in\\{0,1\\}^n}\\quad q x^T \\Sigma x - \\mu^T x$$\n",
    "\n",
    "subject to \n",
    "\n",
    "$$ 1^T x = B$$\n",
    "\n",
    "where \n",
    "* $n$: number of assets under consideration\n",
    "* $q > 0 $: risk-appetite\n",
    "* $\\Sigma \\in \\mathbb{R}^{n\\times n}$: covariance matrix of the assets\n",
    "* $\\mu\\in\\mathbb{R}^n$: mean return of the assets\n",
    "* $B$: budget (i.e., total number of assets out of $n$ that can be selected)\n",
    "\n",
    "Our first step is to convert this constrained quadratic programming problem into a QUBO.  We do this by adding a penalty factor $t$ and consider the alternative problem:\n",
    "\n",
    "$$ \\min_{x\\in\\{0,1\\}^n}\\quad q x^T \\Sigma x - \\mu^Tx  + t(1^Tx-B)^2$$\n",
    "\n",
    "The variables in the linear terms $\\mu^Tx = \\mu_1 x_1 + \\mu_2 x_2+\\ldots$ can all be squared (since they are boolean variables), i.e. we can consider\n",
    "\n",
    "$$\\min_{x\\in\\{0,1\\}^n}\\quad q x^T \\Sigma x - \\sum_{i=1}^n\\mu_i x_i^2  + t(1^Tx-B)^2$$\n",
    "\n",
    "which is a QUBO defined by the matrix $Q$ \n",
    "\n",
    "$$ Q = q\\Sigma -\\mu\\begin{pmatrix}1 & \\\\ & 1\\\\ & & \\ddots\\end{pmatrix} + t\\begin{pmatrix}1 -2B & 1 & \\ldots & 1 \\\\\n",
    "1 & 1-2B & 1 & \\ldots \\\\1 & 1 & 1-2B \\\\\n",
    "\\vdots\\end{pmatrix}$$\n",
    "\n",
    "i.e., we wish to mimimize\n",
    "\n",
    "$$ x^T Q X + tB^2$$\n",
    "\n",
    "and we ignore the constant term $t B^2$.\n",
    "We can now solve this by QAOA as above.\n",
    "\n",
    "Let us first define a function to convert portfolio data into a QUBO matrix:"
   ]
  },
  {
   "cell_type": "code",
   "execution_count": 190,
   "id": "be849a72",
   "metadata": {},
   "outputs": [
    {
     "name": "stdout",
     "output_type": "stream",
     "text": [
      "[ 0.01528439 -0.00078095  0.00051792  0.00087001  0.01032352]\n",
      "[[ 2.54138859e-03  7.34022167e-05  1.28600531e-04 -9.98612132e-05\n",
      "  -3.13199203e-04]\n",
      " [ 7.34022167e-05  2.58486713e-04  5.30427595e-05  4.44816208e-05\n",
      "  -1.32451573e-05]\n",
      " [ 1.28600531e-04  5.30427595e-05  7.91504681e-04 -1.23887382e-04\n",
      "  -9.70273385e-07]\n",
      " [-9.98612132e-05  4.44816208e-05 -1.23887382e-04  1.97892585e-04\n",
      "   8.51533522e-05]\n",
      " [-3.13199203e-04 -1.32451573e-05 -9.70273385e-07  8.51533522e-05\n",
      "   5.43294856e-04]]\n"
     ]
    }
   ],
   "source": [
    "import datetime\n",
    "from qiskit_finance.data_providers import RandomDataProvider\n",
    "num_assets = 5\n",
    "seed = 123\n",
    "\n",
    "# Generate expected return and covariance matrix from (random) time-series\n",
    "stocks = [(\"TICKER%s\" % i) for i in range(num_assets)]\n",
    "data = RandomDataProvider(\n",
    "    tickers=stocks,\n",
    "    start=datetime.datetime(2016, 1, 1),\n",
    "    end=datetime.datetime(2016, 1, 30),\n",
    "    seed=seed,\n",
    ")\n",
    "data.run()\n",
    "\n",
    "mu1 = data.get_period_return_mean_vector()\n",
    "sigma1 = data.get_period_return_covariance_matrix()\n",
    "print(mu1)\n",
    "print(sigma1)"
   ]
  },
  {
   "attachments": {},
   "cell_type": "markdown",
   "id": "1230a757",
   "metadata": {},
   "source": [
    "The following class `StockData` can be used to convert real-world stocks data to the annualized return vector and annualized covariance matrix."
   ]
  },
  {
   "cell_type": "code",
   "execution_count": 191,
   "id": "9580416a",
   "metadata": {},
   "outputs": [],
   "source": [
    "class StockData:\n",
    "    '''convert real-world stock data to annualized covariance matrix and annualized return\n",
    "    input: a list of continuous stock data in the same time span\n",
    "    output: annualized convariance matrix and return\n",
    "    '''\n",
    "\n",
    "    def __init__(self, data):\n",
    "        self.data = data  # add data\n",
    "        self.n_stocks = len(data)  # num of stocks\n",
    "\n",
    "        # check the number of days\n",
    "        n_days = [len(i) for i in data]\n",
    "        if max(n_days) != (sum(n_days) / len(n_days)):\n",
    "            raise Exception(\"timespan of stocks should be the same\")\n",
    "        self.n_days = len(data[1])\n",
    "\n",
    "        # calculate the daily percentage price change\n",
    "        self.daily_change = []  # daily percentage price change\n",
    "        for i in range(self.n_stocks):\n",
    "            each_stcok = []\n",
    "            for j in range(self.n_days - 1):\n",
    "                each_stcok.append((data[i][j + 1] - data[i][j]) / data[i][j])\n",
    "            self.daily_change.append(each_stcok)\n",
    "\n",
    "    # calculate annualized return (mu)\n",
    "    def get_return(self):\n",
    "        ret = np.mean(self.daily_change, axis=1)\n",
    "        return ret\n",
    "\n",
    "    # calculate annualized covariance matrix (sigma)\n",
    "    def get_covariance(self):\n",
    "        return np.cov(self.daily_change)\n",
    "\n",
    "    def get_pentalty(self, cov, ret, risk_pre, budget):\n",
    "        # get all fesible and unfeasible states\n",
    "        self.f_state = []  # feasible states (num of '1's equal to budge)\n",
    "        self.uf_state = []  # unfeasible states\n",
    "        self.all_state = []\n",
    "        for i in range(2**self.n_stocks):\n",
    "            state = f\"{bin(i)[2:]:0>{self.n_stocks}}\"\n",
    "            n_ones = 0\n",
    "            for j in state:\n",
    "                if j == \"1\":\n",
    "                    n_ones += 1\n",
    "            self.all_state.append(state)\n",
    "            if n_ones == budget:\n",
    "                self.f_state.append(state)\n",
    "            else:\n",
    "                self.uf_state.append(state)\n",
    "\n",
    "        # determine the penalty factor\n",
    "        mark = False\n",
    "        penalty = 0  # initial value\n",
    "        while mark == False:\n",
    "            R = np.diag(ret)\n",
    "            S = np.ones((self.n_stocks, self.n_stocks)) - 2 * budget * np.diag(\n",
    "                np.ones(self.n_stocks)\n",
    "            )\n",
    "            Q = risk_pre * cov - R + penalty * S\n",
    "            F = []\n",
    "            for state in self.f_state:\n",
    "                x = np.array([int(bit) for bit in state])\n",
    "                F.append(np.dot(x, np.dot(Q, x)) + penalty * budget**2)\n",
    "            Fmin = np.amin(F)\n",
    "            Fbar = np.mean(F)\n",
    "            F = []\n",
    "            for state in self.uf_state:\n",
    "                x = np.array([int(bit) for bit in state])\n",
    "                F.append(np.dot(x, np.dot(Q, x)) + penalty * budget**2)\n",
    "            Fmin_uf = np.amin(F)\n",
    "            location = np.where(F == Fmin_uf)[0][0]\n",
    "            if Fmin_uf < 0.5 * (Fmin + Fbar):\n",
    "                n_ones = 0\n",
    "                for j in self.uf_state[location]:\n",
    "                    if j == \"1\":\n",
    "                        n_ones += 1\n",
    "                penalty += (0.5 * (Fmin + Fbar) - Fmin_uf) / (n_ones - budget) ** 2\n",
    "                # mark = True\n",
    "            else:\n",
    "                mark = True  # ready to return the penalty\n",
    "        return penalty"
   ]
  },
  {
   "cell_type": "code",
   "execution_count": 192,
   "id": "54e00613",
   "metadata": {},
   "outputs": [
    {
     "data": {
      "text/plain": [
       "2"
      ]
     },
     "execution_count": 192,
     "metadata": {},
     "output_type": "execute_result"
    }
   ],
   "source": [
    "a = [1, 2, 3]\n",
    "p = np.max(a)\n",
    "np.nonzero(a == p)[0][0]"
   ]
  },
  {
   "cell_type": "code",
   "execution_count": 193,
   "id": "a7eb3a74",
   "metadata": {},
   "outputs": [
    {
     "name": "stdout",
     "output_type": "stream",
     "text": [
      "[[ 3.88910199e-03 -3.02246218e-02  2.02613410e-03  5.63877561e-04\n",
      "   8.31850214e-03  1.96669504e-02]\n",
      " [-3.02246218e-02  1.08394846e+02  1.35417460e+01 -2.32832409e-01\n",
      "  -2.02572907e-01  1.41263456e+01]\n",
      " [ 2.02613410e-03  1.35417460e+01  1.20073886e+01 -9.71260501e-02\n",
      "  -4.46005587e-02  4.33678217e+00]\n",
      " [ 5.63877561e-04 -2.32832409e-01 -9.71260501e-02  1.42552322e+00\n",
      "   1.65674618e-02 -5.65377701e-02]\n",
      " [ 8.31850214e-03 -2.02572907e-01 -4.46005587e-02  1.65674618e-02\n",
      "   5.33936214e-02 -1.89099328e-02]\n",
      " [ 1.96669504e-02  1.41263456e+01  4.33678217e+00 -5.65377701e-02\n",
      "  -1.89099328e-02  3.04928823e+01]]\n"
     ]
    }
   ],
   "source": [
    "# real-world stock data, calculated using the functions above\n",
    "# stock name: aapl, amzn, meta, msft, qcom, sbux\n",
    "# from 10/06/2022 to 09/06/2023\n",
    "mu = [\n",
    "    -1.17343569e-03,\n",
    "    1.26966979e00,\n",
    "    4.37331877e-01,\n",
    "    7.62214894e-02,\n",
    "    2.32812331e-02,\n",
    "    8.13555337e-01,\n",
    "]\n",
    "sigma = np.array(\n",
    "    [\n",
    "        [\n",
    "            3.88910199e-03,\n",
    "            -3.02246218e-02,\n",
    "            2.02613410e-03,\n",
    "            5.63877561e-04,\n",
    "            8.31850214e-03,\n",
    "            1.96669504e-02,\n",
    "        ],\n",
    "        [\n",
    "            -3.02246218e-02,\n",
    "            1.08394846e02,\n",
    "            1.35417460e01,\n",
    "            -2.32832409e-01,\n",
    "            -2.02572907e-01,\n",
    "            1.41263456e01,\n",
    "        ],\n",
    "        [\n",
    "            2.02613410e-03,\n",
    "            1.35417460e01,\n",
    "            1.20073886e01,\n",
    "            -9.71260501e-02,\n",
    "            -4.46005587e-02,\n",
    "            4.33678217e00,\n",
    "        ],\n",
    "        [\n",
    "            5.63877561e-04,\n",
    "            -2.32832409e-01,\n",
    "            -9.71260501e-02,\n",
    "            1.42552322e00,\n",
    "            1.65674618e-02,\n",
    "            -5.65377701e-02,\n",
    "        ],\n",
    "        [\n",
    "            8.31850214e-03,\n",
    "            -2.02572907e-01,\n",
    "            -4.46005587e-02,\n",
    "            1.65674618e-02,\n",
    "            5.33936214e-02,\n",
    "            -1.89099328e-02,\n",
    "        ],\n",
    "        [\n",
    "            1.96669504e-02,\n",
    "            1.41263456e01,\n",
    "            4.33678217e00,\n",
    "            -5.65377701e-02,\n",
    "            -1.89099328e-02,\n",
    "            3.04928823e01,\n",
    "        ],\n",
    "    ]\n",
    ")\n",
    "n_stocks = 6  # <= 6\n",
    "mu = mu[:n_stocks]\n",
    "sigma = sigma[:n_stocks][:n_stocks]\n",
    "print(sigma)"
   ]
  },
  {
   "cell_type": "code",
   "execution_count": 194,
   "id": "3080b901-fb6c-4bda-8348-c96540cbc39a",
   "metadata": {},
   "outputs": [],
   "source": [
    "def QUBO_from_portfolio(cov, mean, q, B, t):\n",
    "    \"\"\"convert portfolio parameters to a Q-matrix\n",
    "    cov: n-by-n covariance numpy array\n",
    "    mean: numpy array of means\n",
    "    q: the risk preference of investor\n",
    "    B: budget\n",
    "    t: penalty factor\n",
    "    \"\"\"\n",
    "    n = cov.shape[0]\n",
    "    R = np.diag(mean)\n",
    "    S = np.ones((n, n)) - 2 * B * np.diag(np.ones(n))\n",
    "\n",
    "    Q = q * cov - R + t * S\n",
    "    return Q"
   ]
  },
  {
   "attachments": {},
   "cell_type": "markdown",
   "id": "b4cdcb0e-15a2-461c-b487-084488486c67",
   "metadata": {},
   "source": [
    "We can test this using the qiskit_finance package to generate some stock covariance and mean data:\n",
    "\n",
    "*Note that this was tested with qiskit version 0.39.3 and qiskit-finance version 0.3.4.*"
   ]
  },
  {
   "attachments": {},
   "cell_type": "markdown",
   "id": "f6dc53d4-7ed0-436d-aa1f-8674c56e756e",
   "metadata": {},
   "source": [
    "Using this mean and covariance data, we can now define our portfolio optimization problem, convert it to a QUBO matrix, and then extract the pauli terms and weights"
   ]
  },
  {
   "cell_type": "code",
   "execution_count": 195,
   "id": "3f6edcd5-3c10-49fc-86ea-160fc6d3187e",
   "metadata": {},
   "outputs": [],
   "source": [
    "q = 0.5 # the risk preference of investor\n",
    "budget = 3  # Note that in this example, there are 6 assets, but a budget of only 3\n",
    "penalty = 21.848849746478102#80299.22578764349 # calculated using the function above\n",
    "penalty1 = 2\n",
    "\n",
    "#Q = QUBO_from_portfolio(sigma, mu, q, budget, penalty)\n",
    "Q = QUBO_from_portfolio(sigma, mu, q, budget, penalty)\n",
    "portfolio_pauli_terms, portfolio_weights, portfolio_offset = QUBO_to_Ising(Q)"
   ]
  },
  {
   "cell_type": "code",
   "execution_count": 196,
   "id": "40d8fba9",
   "metadata": {},
   "outputs": [
    {
     "data": {
      "text/plain": [
       "96906.4227712305"
      ]
     },
     "execution_count": 196,
     "metadata": {},
     "output_type": "execute_result"
    }
   ],
   "source": [
    "Fbar = 146662.570242461\n",
    "Fmin = 47150.2753\n",
    "0.5*(Fbar+Fmin)"
   ]
  },
  {
   "cell_type": "code",
   "execution_count": 197,
   "id": "48dfc02e",
   "metadata": {},
   "outputs": [
    {
     "name": "stdout",
     "output_type": "stream",
     "text": [
      "['000000', '000001', '000010', '000011', '000100', '000101', '000110', '000111', '001000', '001001', '001010', '001011', '001100', '001101', '001110', '001111', '010000', '010001', '010010', '010011', '010100', '010101', '010110', '010111', '011000', '011001', '011010', '011011', '011100', '011101', '011110', '011111', '100000', '100001', '100010', '100011', '100100', '100101', '100110', '100111', '101000', '101001', '101010', '101011', '101100', '101101', '101110', '101111', '110000', '110001', '110010', '110011', '110100', '110101', '110110', '110111', '111000', '111001', '111010', '111011', '111100', '111101', '111110', '111111']\n"
     ]
    }
   ],
   "source": [
    "states = []\n",
    "for i in range(2**n_stocks):\n",
    "    a = f\"{bin(i)[2:]:0>{n_stocks}}\"\n",
    "    n_ones = 0\n",
    "    for j in a:\n",
    "        if j == '1':\n",
    "            n_ones += 1\n",
    "    if True:#n_ones != budget:\n",
    "        states.append(a)\n",
    "print(states)"
   ]
  },
  {
   "cell_type": "code",
   "execution_count": 198,
   "id": "809b90fa-7047-4c88-b862-355da4f58a50",
   "metadata": {},
   "outputs": [
    {
     "name": "stdout",
     "output_type": "stream",
     "text": [
      "\n",
      "-------------------------------------\n",
      "    selection\t  |\t  cost\n",
      "-------------------------------------\n",
      "    100110\t  |\t-195.9711\n",
      "    101010\t  |\t-191.1010\n",
      "    001110\t  |\t-190.5585\n",
      "    101100\t  |\t-190.5282\n",
      "    100011\t  |\t-182.1912\n",
      "    000111\t  |\t-181.6257\n",
      "    100101\t  |\t-181.6034\n",
      "    100010\t  |\t-174.7759\n",
      "    100100\t  |\t-174.1506\n",
      "    000110\t  |\t-174.1343\n",
      "    001011\t  |\t-172.3637\n",
      "    101001\t  |\t-172.2788\n",
      "    001101\t  |\t-171.8207\n",
      "    001010\t  |\t-169.2656\n",
      "    101000\t  |\t-169.2193\n",
      "    101110\t  |\t-168.6956\n",
      "    001100\t  |\t-168.6850\n",
      "    000011\t  |\t-160.3734\n",
      "    100001\t  |\t-160.3351\n",
      "    000101\t  |\t-159.7779\n",
      "    100111\t  |\t-159.7452\n",
      "    101011\t  |\t-150.4817\n",
      "    001001\t  |\t-150.4548\n",
      "    001111\t  |\t-150.0154\n",
      "    101101\t  |\t-149.9465\n",
      "    110010\t  |\t-143.9298\n",
      "    010110\t  |\t-143.4908\n",
      "    110100\t  |\t-143.3347\n",
      "    011010\t  |\t-124.8475\n",
      "    111000\t  |\t-124.6289\n",
      "    011100\t  |\t-124.2972\n",
      "    010010\t  |\t-122.0622\n",
      "    110000\t  |\t-121.8902\n",
      "    110110\t  |\t-121.6602\n",
      "    010100\t  |\t-121.4593\n",
      "    010011\t  |\t-115.3707\n",
      "    110001\t  |\t-115.1601\n",
      "    010101\t  |\t-114.8055\n",
      "    100000\t  |\t-109.2411\n",
      "    000010\t  |\t-109.2408\n",
      "    000100\t  |\t-108.6077\n",
      "    001000\t  |\t-103.6779\n",
      "    111010\t  |\t-103.0155\n",
      "    011000\t  |\t-102.7549\n",
      "    011110\t  |\t-102.6755\n",
      "    111100\t  |\t-102.4729\n",
      "    000001\t  |\t-94.8114\n",
      "    110011\t  |\t-93.5210\n",
      "    010001\t  |\t-93.3038\n",
      "    010111\t  |\t-93.1581\n",
      "    110101\t  |\t-92.9635\n",
      "    011001\t  |\t-91.7078\n",
      "    101111\t  |\t-84.4352\n",
      "    011011\t  |\t-70.1216\n",
      "    111001\t  |\t-69.8643\n",
      "    011101\t  |\t-69.6089\n",
      "    010000\t  |\t-56.3165\n",
      "    111110\t  |\t-37.1452\n",
      "    110111\t  |\t-27.6102\n",
      "    111011\t  |\t-4.5721\n",
      "    011111\t  |\t-4.3084\n",
      "    111101\t  |\t-4.0672\n",
      "    000000\t  |\t0.0000\n",
      "    111111\t  |\t104.9393\n",
      "-------------------------------------\n"
     ]
    }
   ],
   "source": [
    "# Brutely search over classical results for comparison before we run QAOA\n",
    "# the results are sorted with cost\n",
    "cost_dict = {}\n",
    "for selection in states:\n",
    "    x = np.array([int(bit) for bit in selection])\n",
    "    cost_dict[selection] = np.dot(x, np.dot(Q, x))\n",
    "cost_sorted = dict(sorted(cost_dict.items(), key=lambda item: item[1]))\n",
    "print(\"\\n-------------------------------------\")\n",
    "print(\"    selection\\t  |\\t  cost\")\n",
    "print(\"-------------------------------------\")\n",
    "for k, v in cost_sorted.items():\n",
    "    print(\"%10s\\t  |\\t%.4f\" % (k, v))\n",
    "print(\"-------------------------------------\")"
   ]
  },
  {
   "attachments": {},
   "cell_type": "markdown",
   "id": "c34f3398",
   "metadata": {},
   "source": [
    "### use vvage"
   ]
  },
  {
   "cell_type": "code",
   "execution_count": 199,
   "id": "9249ea96",
   "metadata": {},
   "outputs": [
    {
     "name": "stdout",
     "output_type": "stream",
     "text": [
      "time consumed: 39.8797 s\n"
     ]
    }
   ],
   "source": [
    "iterations = 500\n",
    "time_start = time.time()\n",
    "final_params = QUBO_QAOA(Q, QAOA_loss, nlayers, iterations, vvag=True)\n",
    "clear_output(wait=True)\n",
    "time_end = time.time()\n",
    "print(\"time consumed:\", round(time_end - time_start, 4), \"s\")"
   ]
  },
  {
   "cell_type": "code",
   "execution_count": 200,
   "id": "2911d44e",
   "metadata": {},
   "outputs": [
    {
     "name": "stdout",
     "output_type": "stream",
     "text": [
      "[28, 9, 45, 37, 45, 18, 3, 3, 3, 1]\n"
     ]
    }
   ],
   "source": [
    "rank = []\n",
    "for single_params in final_params:\n",
    "    c_final = QAOA_from_Ising(\n",
    "        single_params, nlayers, portfolio_pauli_terms, portfolio_weights\n",
    "    )\n",
    "    probs = K.numpy(c_final.probability()).round(decimals=6)\n",
    "    sorted_indices = np.argsort(probs)[::-1]\n",
    "    rank.append(np.where(sorted_indices==38)[0][0])\n",
    "print(rank)"
   ]
  },
  {
   "cell_type": "code",
   "execution_count": 202,
   "id": "d576248a",
   "metadata": {},
   "outputs": [
    {
     "name": "stdout",
     "output_type": "stream",
     "text": [
      "the probability that the best combination shows up in top 8 is: 40.0 %\n"
     ]
    }
   ],
   "source": [
    "good_results = [i for i in rank if i < 8]\n",
    "print('the probability that the best combination shows up in top 8 is:', len(good_results)/len(rank)*100, '%')"
   ]
  },
  {
   "cell_type": "code",
   "execution_count": 158,
   "id": "cb8edd08",
   "metadata": {},
   "outputs": [],
   "source": [
    "import pandas as pd\n",
    "df = pd.DataFrame(rank)\n",
    "df.to_csv('vvag.csv')"
   ]
  },
  {
   "cell_type": "code",
   "execution_count": 149,
   "id": "19cb5117",
   "metadata": {},
   "outputs": [
    {
     "data": {
      "text/plain": [
       "[<matplotlib.lines.Line2D at 0x39aca4a60>]"
      ]
     },
     "execution_count": 149,
     "metadata": {},
     "output_type": "execute_result"
    },
    {
     "data": {
      "image/png": "[encoded data removed]",
      "text/plain": [
       "<Figure size 640x480 with 1 Axes>"
      ]
     },
     "metadata": {},
     "output_type": "display_data"
    }
   ],
   "source": [
    "plt.plot(rank)"
   ]
  },
  {
   "cell_type": "code",
   "execution_count": 98,
   "id": "037b4155",
   "metadata": {},
   "outputs": [
    {
     "name": "stdout",
     "output_type": "stream",
     "text": [
      "[63, 55]\n"
     ]
    }
   ],
   "source": []
  },
  {
   "attachments": {},
   "cell_type": "markdown",
   "id": "b5e69a34-87dc-47b4-aeb2-3b9a03fd0974",
   "metadata": {},
   "source": [
    "We see that, due to the penalty, the lowest energy solutions correspond to 0111, 1011, 1101, 1110, i.e. the portfolios with only 3 assets."
   ]
  },
  {
   "cell_type": "code",
   "execution_count": 68,
   "id": "80c1de6c-d3a4-4ea5-922a-bffb59dd1ea3",
   "metadata": {},
   "outputs": [
    {
     "name": "stdout",
     "output_type": "stream",
     "text": [
      "time consumed: 33.815 s\n"
     ]
    }
   ],
   "source": [
    "iterations = 1000\n",
    "nlayers = 10\n",
    "time_start = time.time()\n",
    "final_params = QUBO_QAOA(Q, QAOA_loss, nlayers, iterations)\n",
    "clear_output(wait=True)\n",
    "time_end = time.time()\n",
    "print(\"time consumed:\", round(time_end - time_start, 4), \"s\")"
   ]
  },
  {
   "cell_type": "code",
   "execution_count": 101,
   "id": "f725ea52",
   "metadata": {},
   "outputs": [
    {
     "name": "stdout",
     "output_type": "stream",
     "text": [
      "100110\n",
      "\n",
      "-------------------------------------\n",
      "    selection\t  |\tprobability\n",
      "-------------------------------------\n",
      "    100110\t  |\t  0.1543\n",
      "    000000\t  |\t  0.1137\n",
      "    000001\t  |\t  0.1080\n",
      "    100111\t  |\t  0.0597\n",
      "    100010\t  |\t  0.0439\n",
      "    000110\t  |\t  0.0390\n",
      "    100100\t  |\t  0.0378\n",
      "    110111\t  |\t  0.0285\n",
      "    010000\t  |\t  0.0279\n",
      "    001001\t  |\t  0.0274\n",
      "    101110\t  |\t  0.0263\n",
      "    000011\t  |\t  0.0198\n",
      "    100001\t  |\t  0.0192\n",
      "    000010\t  |\t  0.0190\n",
      "    100000\t  |\t  0.0184\n",
      "    000101\t  |\t  0.0165\n",
      "    000100\t  |\t  0.0142\n",
      "    110110\t  |\t  0.0142\n",
      "    010001\t  |\t  0.0103\n",
      "    001000\t  |\t  0.0092\n",
      "    111111\t  |\t  0.0087\n",
      "    010011\t  |\t  0.0087\n",
      "    010101\t  |\t  0.0085\n",
      "    110001\t  |\t  0.0083\n",
      "    001011\t  |\t  0.0080\n",
      "    101001\t  |\t  0.0078\n",
      "    001101\t  |\t  0.0077\n",
      "    100011\t  |\t  0.0073\n",
      "    011011\t  |\t  0.0071\n",
      "    111001\t  |\t  0.0068\n",
      "    011001\t  |\t  0.0068\n",
      "    011101\t  |\t  0.0067\n",
      "    110011\t  |\t  0.0062\n",
      "    000111\t  |\t  0.0058\n",
      "    010111\t  |\t  0.0057\n",
      "    100101\t  |\t  0.0053\n",
      "    101010\t  |\t  0.0052\n",
      "    101100\t  |\t  0.0052\n",
      "    110101\t  |\t  0.0051\n",
      "    001110\t  |\t  0.0050\n",
      "    110000\t  |\t  0.0045\n",
      "    111110\t  |\t  0.0043\n",
      "    010010\t  |\t  0.0043\n",
      "    111011\t  |\t  0.0041\n",
      "    011111\t  |\t  0.0039\n",
      "    011010\t  |\t  0.0037\n",
      "    111101\t  |\t  0.0037\n",
      "    111000\t  |\t  0.0036\n",
      "    010100\t  |\t  0.0035\n",
      "    011100\t  |\t  0.0035\n",
      "    111010\t  |\t  0.0031\n",
      "    011110\t  |\t  0.0027\n",
      "    111100\t  |\t  0.0026\n",
      "    110100\t  |\t  0.0018\n",
      "    010110\t  |\t  0.0016\n",
      "    110010\t  |\t  0.0015\n",
      "    011000\t  |\t  0.0014\n",
      "    101011\t  |\t  0.0010\n",
      "    001111\t  |\t  0.0009\n",
      "    101101\t  |\t  0.0008\n",
      "    101111\t  |\t  0.0007\n",
      "    001100\t  |\t  0.0000\n",
      "    101000\t  |\t  0.0000\n",
      "    001010\t  |\t  0.0000\n",
      "-------------------------------------\n"
     ]
    }
   ],
   "source": [
    "c_final = QAOA_from_Ising(\n",
    "    final_params, nlayers, portfolio_pauli_terms, portfolio_weights\n",
    ")\n",
    "states = []\n",
    "for i in range(2**n_stocks):\n",
    "    a = f\"{bin(i)[2:]:0>{n_stocks}}\"\n",
    "    states.append(a)\n",
    "probs = K.numpy(c_final.probability()).round(decimals=6)\n",
    "sorted_indices = np.argsort(probs)[::-1]\n",
    "state_sorted = np.array(states)[sorted_indices]\n",
    "prob_sorted = np.array(probs)[sorted_indices]\n",
    "\n",
    "print(\"\\n-------------------------------------\")\n",
    "print(\"    selection\\t  |\\tprobability\")\n",
    "print(\"-------------------------------------\")\n",
    "for i in range(len(states)):\n",
    "    print(\"%10s\\t  |\\t  %.4f\" % (state_sorted[i], prob_sorted[i]))\n",
    "print(\"-------------------------------------\")\n"
   ]
  },
  {
   "cell_type": "code",
   "execution_count": 70,
   "id": "8a9064e3-0c61-4d2d-baf9-bdf120c0331d",
   "metadata": {},
   "outputs": [
    {
     "data": {
      "image/png": "[encoded data removed]",
      "text/plain": [
       "<Figure size 640x480 with 1 Axes>"
      ]
     },
     "metadata": {},
     "output_type": "display_data"
    }
   ],
   "source": [
    "print_output(c_final)\n"
   ]
  },
  {
   "attachments": {},
   "cell_type": "markdown",
   "id": "09cae74d",
   "metadata": {},
   "source": [
    "### Influence of different mixers"
   ]
  },
  {
   "cell_type": "code",
   "execution_count": null,
   "id": "4a5a8120",
   "metadata": {},
   "outputs": [],
   "source": [
    "# difine an universal QAOA ansatz\n",
    "def QAOA_ansatz_mixer(params, nlayers, pauli_terms, weights, mixer=\"standard\", gap=5):\n",
    "    nqubits = len(pauli_terms[0])\n",
    "    c = tc.Circuit(nqubits)\n",
    "    for i in range(nqubits):\n",
    "        c.h(i)\n",
    "    for j in range(nlayers):\n",
    "        # cost term\n",
    "        for k in range(len(pauli_terms)):\n",
    "            term = pauli_terms[k]\n",
    "            index_of_ones = []\n",
    "            for l in range(len(term)):\n",
    "                if term[l] == 1:\n",
    "                    index_of_ones.append(l)\n",
    "            if len(index_of_ones) == 1:\n",
    "                c.rz(index_of_ones[0], theta=2 * weights[k] * params[2 * j])\n",
    "            elif len(index_of_ones) == 2:\n",
    "                c.exp1(\n",
    "                    index_of_ones[0],\n",
    "                    index_of_ones[1],\n",
    "                    unitary=tc.gates._zz_matrix,\n",
    "                    theta=weights[k] * params[2 * j],\n",
    "                )\n",
    "            else:\n",
    "                raise ValueError(\"Invalid number of Z terms\")\n",
    "\n",
    "        # standard mixer term\n",
    "        if mixer == \"standard\":\n",
    "            for i in range(nqubits):\n",
    "                c.rx(i, theta=params[2 * j + 1])\n",
    "\n",
    "        # XY mixer\n",
    "        elif mixer == \"ring\":\n",
    "            for i in range(nqubits - 1):\n",
    "                c.exp1(i, i + 1, unitary=tc.gates._xx_matrix, theta=params[2 * j + 1])\n",
    "                c.exp1(i, i + 1, unitary=tc.gates._yy_matrix, theta=params[2 * j + 1])\n",
    "            c.exp1(nqubits - 1, 0, unitary=tc.gates._xx_matrix, theta=params[2 * j + 1])\n",
    "            c.exp1(nqubits - 1, 0, unitary=tc.gates._yy_matrix, theta=params[2 * j + 1])\n",
    "\n",
    "        # parity ring mixer\n",
    "        elif mixer == \"par_ring\":\n",
    "            half = int(np.floor(nqubits / 2))\n",
    "            if 2 * half < nqubits:\n",
    "                end = half\n",
    "            else:\n",
    "                end = half - 1\n",
    "            for i in range(half):  # even\n",
    "                c.exp1(2 * i, 2 * i + 1, unitary=tc.gates._xx_matrix, theta=params[2 * j + 1])\n",
    "                c.exp1(2 * i, 2 * i + 1, unitary=tc.gates._yy_matrix, theta=params[2 * j + 1])\n",
    "            for i in range(end):  # odd\n",
    "                c.exp1(2 * i + 1, 2 * i + 2, unitary=tc.gates._xx_matrix, theta=params[2 * j + 1])\n",
    "                c.exp1(2 * i + 1, 2 * i + 2, unitary=tc.gates._yy_matrix, theta=params[2 * j + 1])\n",
    "\n",
    "        # full mixer\n",
    "        elif mixer == \"full\":\n",
    "            for i in range(nqubits - gap):\n",
    "                c.exp1(i, i + gap, unitary=tc.gates._xx_matrix, theta=params[2 * j + 1])\n",
    "                c.exp1(i, i + gap, unitary=tc.gates._yy_matrix, theta=params[2 * j + 1])\n",
    "            for i in range(gap):\n",
    "                c.exp1(nqubits - gap - 1 + i, 1 + gap, unitary=tc.gates._xx_matrix, theta=params[2 * j + 1])\n",
    "                c.exp1(nqubits - gap - 1 + i, 1 + gap, unitary=tc.gates._yy_matrix, theta=params[2 * j + 1])\n",
    "        #\n",
    "        elif mixer == \"QAMPA\":\n",
    "            pass\n",
    "\n",
    "        else:\n",
    "            raise RuntimeError(\"Invalid mixer name\")\n",
    "    return c"
   ]
  },
  {
   "cell_type": "code",
   "execution_count": null,
   "id": "0d88ca56",
   "metadata": {},
   "outputs": [],
   "source": [
    "def QAOA_loss_mixer(nlayers, pauli_terms, weights, params):\n",
    "    c = QAOA_ansatz_mixer(params, nlayers, pauli_terms, weights, 'par_ring')\n",
    "    return Ising_loss(c, pauli_terms, weights)"
   ]
  },
  {
   "cell_type": "code",
   "execution_count": null,
   "id": "8f7c71b9",
   "metadata": {},
   "outputs": [
    {
     "name": "stdout",
     "output_type": "stream",
     "text": [
      "time consumed: 8.9805 s\n"
     ]
    }
   ],
   "source": [
    "iterations = 500\n",
    "time_start = time.time()\n",
    "final_params = QUBO_QAOA(Q, QAOA_loss_mixer, nlayers, iterations)\n",
    "clear_output(wait=True)\n",
    "time_end = time.time()\n",
    "print(\"time consumed:\", round(time_end - time_start, 4), \"s\")"
   ]
  },
  {
   "attachments": {},
   "cell_type": "markdown",
   "id": "ee973af9",
   "metadata": {},
   "source": [
    "### Use CVaR"
   ]
  },
  {
   "cell_type": "code",
   "execution_count": null,
   "id": "96578bd2",
   "metadata": {},
   "outputs": [],
   "source": [
    "def cvar_value(r, p, percent):\n",
    "    rs = sorted(\n",
    "        [(i, j) for i, j in enumerate(r)], key=lambda s: -s[1]\n",
    "    )  # larger to smaller\n",
    "    sump = 0.0  # the sum of probability\n",
    "    count = 0\n",
    "    cvar_result = 0.0\n",
    "    while sump < percent:\n",
    "        if round(sump + p[rs[count][0]], 7) >= percent:\n",
    "            cvar_result += rs[count][1] * (percent - sump)\n",
    "            count += 1\n",
    "            break\n",
    "        else:\n",
    "            sump += p[rs[count][0]]\n",
    "            cvar_result += rs[count][1] * p[rs[count][0]]\n",
    "            count += 1\n",
    "\n",
    "    cvar_result /= percent\n",
    "    return K.real(cvar_result)"
   ]
  },
  {
   "cell_type": "code",
   "execution_count": null,
   "id": "153cc99d",
   "metadata": {},
   "outputs": [],
   "source": [
    "def cvar_from_circuit(circuit, num_samples, Q, alpha):\n",
    "    s = circuit.state()\n",
    "    results = tc.quantum.measurement_results(\n",
    "        s, counts=num_samples, format=\"count_dict_bin\"\n",
    "    )  # get readouts\n",
    "    results = {k: v / num_samples for k, v in results.items()}\n",
    "    values = []  # passed to cvar\n",
    "    probability = []  # passed to cvar\n",
    "    for k, v in results.items():\n",
    "        x = np.array([int(bit) for bit in k])\n",
    "        values.append(np.dot(x, np.dot(Q, x)))\n",
    "        probability.append(v)\n",
    "    cvar_result = cvar_value(values, probability, alpha)\n",
    "    return cvar_result"
   ]
  },
  {
   "cell_type": "code",
   "execution_count": null,
   "id": "d8bd4244",
   "metadata": {},
   "outputs": [
    {
     "name": "stdout",
     "output_type": "stream",
     "text": [
      "tf.Tensor(-1887.4656903255586, shape=(), dtype=float64)\n"
     ]
    }
   ],
   "source": [
    "cvar_result = cvar_from_circuit(c_final, 1000, Q, 1)\n",
    "print(cvar_result)\n"
   ]
  },
  {
   "cell_type": "code",
   "execution_count": null,
   "id": "78455c36",
   "metadata": {},
   "outputs": [],
   "source": [
    "def cvar_loss(nlayers, Q, pauli_terms, weights, percent, params):\n",
    "    c = QAOA_from_Ising(params, nlayers, pauli_terms, weights)\n",
    "    return cvar_from_circuit(c, 1000, Q, percent)\n"
   ]
  },
  {
   "cell_type": "code",
   "execution_count": null,
   "id": "0e89a5be",
   "metadata": {},
   "outputs": [],
   "source": [
    "def QUBO_CVaR(Q, nlayers, alpha):\n",
    "    pauli_terms, weights, offset = QUBO_to_Ising(Q)\n",
    "    learning_rate = 1e-2\n",
    "\n",
    "    loss = partial(cvar_loss, nlayers, Q, pauli_terms, weights, alpha)\n",
    "    # value, COBYLA\n",
    "    \n",
    "    f_scipy = tc.interfaces.scipy_interface(loss, shape=[2 * nlayers], jit=False, gradient=False)\n",
    "    params = K.implicit_randn(shape=[2 * nlayers], stddev=0.5)\n",
    "    r = optimize.minimize(f_scipy, params, method=\"COBYLA\")\n",
    "\n",
    "    return r"
   ]
  },
  {
   "cell_type": "code",
   "execution_count": null,
   "id": "10d7c7ea",
   "metadata": {},
   "outputs": [],
   "source": [
    "def QUBO_CVaR_vvag(Q, nlayers, alpha):\n",
    "    pauli_terms, weights, offset = QUBO_to_Ising(Q)\n",
    "    learning_rate = 1e-2\n",
    "\n",
    "    cvar_vvag = tc.backend.vvag(cvar_loss, argnums=0, vectorized_argnums=0)\n",
    "    ncircuits = 3\n",
    "    params = K.implicit_randn(\n",
    "        shape=[ncircuits, 2 * nlayers], stddev=0.1\n",
    "    )  # initial parameters\n",
    "    loss = partial(cvar_vvag, nlayers, Q, pauli_terms, weights, alpha)\n",
    "    \n",
    "    f_scipy = tc.interfaces.scipy_interface(loss, shape=[ncircuits,2 * nlayers], jit=False, gradient=False)\n",
    "    #params = K.implicit_randn(shape=[2 * nlayers], stddev=0.5)\n",
    "    r = optimize.minimize(f_scipy, params, method=\"COBYLA\")\n",
    "\n",
    "    return r"
   ]
  },
  {
   "cell_type": "code",
   "execution_count": null,
   "id": "dfc8f55c",
   "metadata": {},
   "outputs": [
    {
     "name": "stdout",
     "output_type": "stream",
     "text": [
      "time consumed: 134.7523 s\n"
     ]
    }
   ],
   "source": [
    "# iterations = 500\n",
    "time_start = time.time()\n",
    "nlayers = 20\n",
    "final_params = QUBO_CVaR(Q, nlayers, 0.6)\n",
    "clear_output(wait=True)\n",
    "time_end = time.time()\n",
    "print(\"time consumed:\", round(time_end - time_start, 4), \"s\")"
   ]
  },
  {
   "cell_type": "code",
   "execution_count": null,
   "id": "4ce4e9a6",
   "metadata": {},
   "outputs": [],
   "source": []
  },
  {
   "attachments": {},
   "cell_type": "markdown",
   "id": "e8e3e66a",
   "metadata": {},
   "source": [
    "# probabilities"
   ]
  },
  {
   "cell_type": "code",
   "execution_count": null,
   "id": "3c016223",
   "metadata": {},
   "outputs": [
    {
     "data": {
      "text/plain": [
       "\"alpha = [0.1, 0.2, 0.3, 0.4, 0.5, 0.6, 0.7, 0.8, 0.9]\\nprob = [[]]\\nlast_prob = 0\\nfor i in alpha:\\n    single_prob = []\\n    for j in range(2):\\n        clear_output(wait=True)\\n        print('alpha', i)\\n        print('times', j)\\n        print('last prob', last_prob)\\n        result = QUBO_CVaR(Q, nlayers, i)\\n        c_final = QAOA_from_Ising(\\n            result.x, nlayers, portfolio_pauli_terms, portfolio_weights\\n        )\\n        probs = K.numpy(c_final.probability()).round(decimals=6)\\n        single_prob.append(probs[35])\\n        last_prob = probs[35]\\n        prob\\n    prob.append(single_prob)\\nclear_output(wait=True)\\nprint(prob)\""
      ]
     },
     "execution_count": 37,
     "metadata": {},
     "output_type": "execute_result"
    }
   ],
   "source": [
    "\"\"\"alpha = [0.1, 0.2, 0.3, 0.4, 0.5, 0.6, 0.7, 0.8, 0.9]\n",
    "prob = [[]]\n",
    "last_prob = 0\n",
    "for i in alpha:\n",
    "    single_prob = []\n",
    "    for j in range(2):\n",
    "        clear_output(wait=True)\n",
    "        print('alpha', i)\n",
    "        print('times', j)\n",
    "        print('last prob', last_prob)\n",
    "        result = QUBO_CVaR(Q, nlayers, i)\n",
    "        c_final = QAOA_from_Ising(\n",
    "            result.x, nlayers, portfolio_pauli_terms, portfolio_weights\n",
    "        )\n",
    "        probs = K.numpy(c_final.probability()).round(decimals=6)\n",
    "        single_prob.append(probs[35])\n",
    "        last_prob = probs[35]\n",
    "        prob\n",
    "    prob.append(single_prob)\n",
    "clear_output(wait=True)\n",
    "print(prob)\"\"\""
   ]
  },
  {
   "cell_type": "code",
   "execution_count": 61,
   "id": "a3f4f730",
   "metadata": {},
   "outputs": [
    {
     "name": "stderr",
     "output_type": "stream",
     "text": [
      "WARNING:absl:At this time, the v2.11+ optimizer `tf.keras.optimizers.Adam` runs slowly on M1/M2 Macs, please use the legacy Keras optimizer instead, located at `tf.keras.optimizers.legacy.Adam`.\n"
     ]
    },
    {
     "name": "stdout",
     "output_type": "stream",
     "text": [
      "times 0\n",
      "last prob 0\n"
     ]
    },
    {
     "ename": "InvalidArgumentError",
     "evalue": "Graph execution error:\n\nDetected at node 'sub_249' defined at (most recent call last):\n    File \"/Users/felixxu/opt/anaconda3/envs/QC/lib/python3.10/runpy.py\", line 196, in _run_module_as_main\n      return _run_code(code, main_globals, None,\n    File \"/Users/felixxu/opt/anaconda3/envs/QC/lib/python3.10/runpy.py\", line 86, in _run_code\n      exec(code, run_globals)\n    File \"/Users/felixxu/opt/anaconda3/envs/QC/lib/python3.10/site-packages/ipykernel_launcher.py\", line 17, in <module>\n      app.launch_new_instance()\n    File \"/Users/felixxu/opt/anaconda3/envs/QC/lib/python3.10/site-packages/traitlets/config/application.py\", line 1043, in launch_instance\n      app.start()\n    File \"/Users/felixxu/opt/anaconda3/envs/QC/lib/python3.10/site-packages/ipykernel/kernelapp.py\", line 725, in start\n      self.io_loop.start()\n    File \"/Users/felixxu/opt/anaconda3/envs/QC/lib/python3.10/site-packages/tornado/platform/asyncio.py\", line 195, in start\n      self.asyncio_loop.run_forever()\n    File \"/Users/felixxu/opt/anaconda3/envs/QC/lib/python3.10/asyncio/base_events.py\", line 603, in run_forever\n      self._run_once()\n    File \"/Users/felixxu/opt/anaconda3/envs/QC/lib/python3.10/asyncio/base_events.py\", line 1909, in _run_once\n      handle._run()\n    File \"/Users/felixxu/opt/anaconda3/envs/QC/lib/python3.10/asyncio/events.py\", line 80, in _run\n      self._context.run(self._callback, *self._args)\n    File \"/Users/felixxu/opt/anaconda3/envs/QC/lib/python3.10/site-packages/ipykernel/kernelbase.py\", line 513, in dispatch_queue\n      await self.process_one()\n    File \"/Users/felixxu/opt/anaconda3/envs/QC/lib/python3.10/site-packages/ipykernel/kernelbase.py\", line 502, in process_one\n      await dispatch(*args)\n    File \"/Users/felixxu/opt/anaconda3/envs/QC/lib/python3.10/site-packages/ipykernel/kernelbase.py\", line 409, in dispatch_shell\n      await result\n    File \"/Users/felixxu/opt/anaconda3/envs/QC/lib/python3.10/site-packages/ipykernel/kernelbase.py\", line 729, in execute_request\n      reply_content = await reply_content\n    File \"/Users/felixxu/opt/anaconda3/envs/QC/lib/python3.10/site-packages/ipykernel/ipkernel.py\", line 422, in do_execute\n      res = shell.run_cell(\n    File \"/Users/felixxu/opt/anaconda3/envs/QC/lib/python3.10/site-packages/ipykernel/zmqshell.py\", line 540, in run_cell\n      return super().run_cell(*args, **kwargs)\n    File \"/Users/felixxu/opt/anaconda3/envs/QC/lib/python3.10/site-packages/IPython/core/interactiveshell.py\", line 3006, in run_cell\n      result = self._run_cell(\n    File \"/Users/felixxu/opt/anaconda3/envs/QC/lib/python3.10/site-packages/IPython/core/interactiveshell.py\", line 3061, in _run_cell\n      result = runner(coro)\n    File \"/Users/felixxu/opt/anaconda3/envs/QC/lib/python3.10/site-packages/IPython/core/async_helpers.py\", line 129, in _pseudo_sync_runner\n      coro.send(None)\n    File \"/Users/felixxu/opt/anaconda3/envs/QC/lib/python3.10/site-packages/IPython/core/interactiveshell.py\", line 3266, in run_cell_async\n      has_raised = await self.run_ast_nodes(code_ast.body, cell_name,\n    File \"/Users/felixxu/opt/anaconda3/envs/QC/lib/python3.10/site-packages/IPython/core/interactiveshell.py\", line 3445, in run_ast_nodes\n      if await self.run_code(code, result, async_=asy):\n    File \"/Users/felixxu/opt/anaconda3/envs/QC/lib/python3.10/site-packages/IPython/core/interactiveshell.py\", line 3505, in run_code\n      exec(code_obj, self.user_global_ns, self.user_ns)\n    File \"/var/folders/tm/hv_bn47s29x7g0vjc7fk3bbw0000gn/T/ipykernel_45894/2018714268.py\", line 11, in <module>\n      final_params = QUBO_QAOA(Q, QAOA_loss, nlayers, iterations)\n    File \"/var/folders/tm/hv_bn47s29x7g0vjc7fk3bbw0000gn/T/ipykernel_45894/831576154.py\", line 12, in QUBO_QAOA\n      loss, grads = loss_val_grad_jit(params)\n    File \"/Users/felixxu/opt/anaconda3/envs/QC/lib/python3.10/site-packages/tensorcircuit/backends/tensorflow_backend.py\", line 671, in wrapper\n      y = f(*args, **kws)\n    File \"/var/folders/tm/hv_bn47s29x7g0vjc7fk3bbw0000gn/T/ipykernel_45894/3758093105.py\", line 2, in QAOA_loss\n      c = QAOA_from_Ising(params, nlayers, pauli_terms, weights)\n    File \"/var/folders/tm/hv_bn47s29x7g0vjc7fk3bbw0000gn/T/ipykernel_45894/846844511.py\", line 7, in QAOA_from_Ising\n      for j in range(nlayers):\n    File \"/var/folders/tm/hv_bn47s29x7g0vjc7fk3bbw0000gn/T/ipykernel_45894/846844511.py\", line 9, in QAOA_from_Ising\n      for k in range(len(pauli_terms)):\n    File \"/var/folders/tm/hv_bn47s29x7g0vjc7fk3bbw0000gn/T/ipykernel_45894/846844511.py\", line 15, in QAOA_from_Ising\n      if len(index_of_ones) == 1:\n    File \"/var/folders/tm/hv_bn47s29x7g0vjc7fk3bbw0000gn/T/ipykernel_45894/846844511.py\", line 17, in QAOA_from_Ising\n      elif len(index_of_ones) == 2:\n    File \"/var/folders/tm/hv_bn47s29x7g0vjc7fk3bbw0000gn/T/ipykernel_45894/846844511.py\", line 18, in QAOA_from_Ising\n      c.exp1(\n    File \"/Users/felixxu/opt/anaconda3/envs/QC/lib/python3.10/site-packages/tensorcircuit/abstractcircuit.py\", line 121, in apply\n      gate = gatef(**vars)\n    File \"/Users/felixxu/opt/anaconda3/envs/QC/lib/python3.10/site-packages/tensorcircuit/gates.py\", line 353, in __call__\n      return self.f(*args, **kws)\n    File \"/Users/felixxu/opt/anaconda3/envs/QC/lib/python3.10/site-packages/tensorcircuit/utils.py\", line 832, in wrapper\n    File \"/Users/felixxu/opt/anaconda3/envs/QC/lib/python3.10/site-packages/tensorcircuit/gates.py\", line 852, in exponential_gate_unity\n      if half is True:\nNode: 'sub_249'\nExpected tensor of type complex64 but got type float\n\t [[{{node sub_249}}]] [Op:__inference_wrapper_8927648]",
     "output_type": "error",
     "traceback": [
      "\u001b[0;31m---------------------------------------------------------------------------\u001b[0m",
      "\u001b[0;31mInvalidArgumentError\u001b[0m                      Traceback (most recent call last)",
      "Cell \u001b[0;32mIn[61], line 11\u001b[0m\n\u001b[1;32m      9\u001b[0m nlayers \u001b[39m=\u001b[39m \u001b[39m10\u001b[39m\n\u001b[1;32m     10\u001b[0m time_start \u001b[39m=\u001b[39m time\u001b[39m.\u001b[39mtime()\n\u001b[0;32m---> 11\u001b[0m final_params \u001b[39m=\u001b[39m QUBO_QAOA(Q, QAOA_loss, nlayers, iterations)\n\u001b[1;32m     12\u001b[0m c_final \u001b[39m=\u001b[39m QAOA_from_Ising(\n\u001b[1;32m     13\u001b[0m     final_params, nlayers, portfolio_pauli_terms, portfolio_weights\n\u001b[1;32m     14\u001b[0m )\n\u001b[1;32m     15\u001b[0m probs \u001b[39m=\u001b[39m K\u001b[39m.\u001b[39mnumpy(c_final\u001b[39m.\u001b[39mprobability())\u001b[39m.\u001b[39mround(decimals\u001b[39m=\u001b[39m\u001b[39m6\u001b[39m)\n",
      "Cell \u001b[0;32mIn[58], line 12\u001b[0m, in \u001b[0;36mQUBO_QAOA\u001b[0;34m(Q, ansatz, nlayers, iterations)\u001b[0m\n\u001b[1;32m     10\u001b[0m params \u001b[39m=\u001b[39m K\u001b[39m.\u001b[39mimplicit_randn(shape\u001b[39m=\u001b[39m[\u001b[39m2\u001b[39m \u001b[39m*\u001b[39m nlayers], stddev\u001b[39m=\u001b[39m\u001b[39m0.5\u001b[39m)\n\u001b[1;32m     11\u001b[0m \u001b[39mfor\u001b[39;00m i \u001b[39min\u001b[39;00m \u001b[39mrange\u001b[39m(iterations):\n\u001b[0;32m---> 12\u001b[0m     loss, grads \u001b[39m=\u001b[39m loss_val_grad_jit(params)\n\u001b[1;32m     13\u001b[0m     params \u001b[39m=\u001b[39m opt\u001b[39m.\u001b[39mupdate(grads, params)\n\u001b[1;32m     15\u001b[0m \u001b[39mreturn\u001b[39;00m params\n",
      "File \u001b[0;32m~/opt/anaconda3/envs/QC/lib/python3.10/site-packages/tensorflow/python/util/traceback_utils.py:153\u001b[0m, in \u001b[0;36mfilter_traceback.<locals>.error_handler\u001b[0;34m(*args, **kwargs)\u001b[0m\n\u001b[1;32m    151\u001b[0m \u001b[39mexcept\u001b[39;00m \u001b[39mException\u001b[39;00m \u001b[39mas\u001b[39;00m e:\n\u001b[1;32m    152\u001b[0m   filtered_tb \u001b[39m=\u001b[39m _process_traceback_frames(e\u001b[39m.\u001b[39m__traceback__)\n\u001b[0;32m--> 153\u001b[0m   \u001b[39mraise\u001b[39;00m e\u001b[39m.\u001b[39mwith_traceback(filtered_tb) \u001b[39mfrom\u001b[39;00m \u001b[39mNone\u001b[39;00m\n\u001b[1;32m    154\u001b[0m \u001b[39mfinally\u001b[39;00m:\n\u001b[1;32m    155\u001b[0m   \u001b[39mdel\u001b[39;00m filtered_tb\n",
      "File \u001b[0;32m~/opt/anaconda3/envs/QC/lib/python3.10/site-packages/tensorflow/python/eager/execute.py:52\u001b[0m, in \u001b[0;36mquick_execute\u001b[0;34m(op_name, num_outputs, inputs, attrs, ctx, name)\u001b[0m\n\u001b[1;32m     50\u001b[0m \u001b[39mtry\u001b[39;00m:\n\u001b[1;32m     51\u001b[0m   ctx\u001b[39m.\u001b[39mensure_initialized()\n\u001b[0;32m---> 52\u001b[0m   tensors \u001b[39m=\u001b[39m pywrap_tfe\u001b[39m.\u001b[39mTFE_Py_Execute(ctx\u001b[39m.\u001b[39m_handle, device_name, op_name,\n\u001b[1;32m     53\u001b[0m                                       inputs, attrs, num_outputs)\n\u001b[1;32m     54\u001b[0m \u001b[39mexcept\u001b[39;00m core\u001b[39m.\u001b[39m_NotOkStatusException \u001b[39mas\u001b[39;00m e:\n\u001b[1;32m     55\u001b[0m   \u001b[39mif\u001b[39;00m name \u001b[39mis\u001b[39;00m \u001b[39mnot\u001b[39;00m \u001b[39mNone\u001b[39;00m:\n",
      "\u001b[0;31mInvalidArgumentError\u001b[0m: Graph execution error:\n\nDetected at node 'sub_249' defined at (most recent call last):\n    File \"/Users/felixxu/opt/anaconda3/envs/QC/lib/python3.10/runpy.py\", line 196, in _run_module_as_main\n      return _run_code(code, main_globals, None,\n    File \"/Users/felixxu/opt/anaconda3/envs/QC/lib/python3.10/runpy.py\", line 86, in _run_code\n      exec(code, run_globals)\n    File \"/Users/felixxu/opt/anaconda3/envs/QC/lib/python3.10/site-packages/ipykernel_launcher.py\", line 17, in <module>\n      app.launch_new_instance()\n    File \"/Users/felixxu/opt/anaconda3/envs/QC/lib/python3.10/site-packages/traitlets/config/application.py\", line 1043, in launch_instance\n      app.start()\n    File \"/Users/felixxu/opt/anaconda3/envs/QC/lib/python3.10/site-packages/ipykernel/kernelapp.py\", line 725, in start\n      self.io_loop.start()\n    File \"/Users/felixxu/opt/anaconda3/envs/QC/lib/python3.10/site-packages/tornado/platform/asyncio.py\", line 195, in start\n      self.asyncio_loop.run_forever()\n    File \"/Users/felixxu/opt/anaconda3/envs/QC/lib/python3.10/asyncio/base_events.py\", line 603, in run_forever\n      self._run_once()\n    File \"/Users/felixxu/opt/anaconda3/envs/QC/lib/python3.10/asyncio/base_events.py\", line 1909, in _run_once\n      handle._run()\n    File \"/Users/felixxu/opt/anaconda3/envs/QC/lib/python3.10/asyncio/events.py\", line 80, in _run\n      self._context.run(self._callback, *self._args)\n    File \"/Users/felixxu/opt/anaconda3/envs/QC/lib/python3.10/site-packages/ipykernel/kernelbase.py\", line 513, in dispatch_queue\n      await self.process_one()\n    File \"/Users/felixxu/opt/anaconda3/envs/QC/lib/python3.10/site-packages/ipykernel/kernelbase.py\", line 502, in process_one\n      await dispatch(*args)\n    File \"/Users/felixxu/opt/anaconda3/envs/QC/lib/python3.10/site-packages/ipykernel/kernelbase.py\", line 409, in dispatch_shell\n      await result\n    File \"/Users/felixxu/opt/anaconda3/envs/QC/lib/python3.10/site-packages/ipykernel/kernelbase.py\", line 729, in execute_request\n      reply_content = await reply_content\n    File \"/Users/felixxu/opt/anaconda3/envs/QC/lib/python3.10/site-packages/ipykernel/ipkernel.py\", line 422, in do_execute\n      res = shell.run_cell(\n    File \"/Users/felixxu/opt/anaconda3/envs/QC/lib/python3.10/site-packages/ipykernel/zmqshell.py\", line 540, in run_cell\n      return super().run_cell(*args, **kwargs)\n    File \"/Users/felixxu/opt/anaconda3/envs/QC/lib/python3.10/site-packages/IPython/core/interactiveshell.py\", line 3006, in run_cell\n      result = self._run_cell(\n    File \"/Users/felixxu/opt/anaconda3/envs/QC/lib/python3.10/site-packages/IPython/core/interactiveshell.py\", line 3061, in _run_cell\n      result = runner(coro)\n    File \"/Users/felixxu/opt/anaconda3/envs/QC/lib/python3.10/site-packages/IPython/core/async_helpers.py\", line 129, in _pseudo_sync_runner\n      coro.send(None)\n    File \"/Users/felixxu/opt/anaconda3/envs/QC/lib/python3.10/site-packages/IPython/core/interactiveshell.py\", line 3266, in run_cell_async\n      has_raised = await self.run_ast_nodes(code_ast.body, cell_name,\n    File \"/Users/felixxu/opt/anaconda3/envs/QC/lib/python3.10/site-packages/IPython/core/interactiveshell.py\", line 3445, in run_ast_nodes\n      if await self.run_code(code, result, async_=asy):\n    File \"/Users/felixxu/opt/anaconda3/envs/QC/lib/python3.10/site-packages/IPython/core/interactiveshell.py\", line 3505, in run_code\n      exec(code_obj, self.user_global_ns, self.user_ns)\n    File \"/var/folders/tm/hv_bn47s29x7g0vjc7fk3bbw0000gn/T/ipykernel_45894/2018714268.py\", line 11, in <module>\n      final_params = QUBO_QAOA(Q, QAOA_loss, nlayers, iterations)\n    File \"/var/folders/tm/hv_bn47s29x7g0vjc7fk3bbw0000gn/T/ipykernel_45894/831576154.py\", line 12, in QUBO_QAOA\n      loss, grads = loss_val_grad_jit(params)\n    File \"/Users/felixxu/opt/anaconda3/envs/QC/lib/python3.10/site-packages/tensorcircuit/backends/tensorflow_backend.py\", line 671, in wrapper\n      y = f(*args, **kws)\n    File \"/var/folders/tm/hv_bn47s29x7g0vjc7fk3bbw0000gn/T/ipykernel_45894/3758093105.py\", line 2, in QAOA_loss\n      c = QAOA_from_Ising(params, nlayers, pauli_terms, weights)\n    File \"/var/folders/tm/hv_bn47s29x7g0vjc7fk3bbw0000gn/T/ipykernel_45894/846844511.py\", line 7, in QAOA_from_Ising\n      for j in range(nlayers):\n    File \"/var/folders/tm/hv_bn47s29x7g0vjc7fk3bbw0000gn/T/ipykernel_45894/846844511.py\", line 9, in QAOA_from_Ising\n      for k in range(len(pauli_terms)):\n    File \"/var/folders/tm/hv_bn47s29x7g0vjc7fk3bbw0000gn/T/ipykernel_45894/846844511.py\", line 15, in QAOA_from_Ising\n      if len(index_of_ones) == 1:\n    File \"/var/folders/tm/hv_bn47s29x7g0vjc7fk3bbw0000gn/T/ipykernel_45894/846844511.py\", line 17, in QAOA_from_Ising\n      elif len(index_of_ones) == 2:\n    File \"/var/folders/tm/hv_bn47s29x7g0vjc7fk3bbw0000gn/T/ipykernel_45894/846844511.py\", line 18, in QAOA_from_Ising\n      c.exp1(\n    File \"/Users/felixxu/opt/anaconda3/envs/QC/lib/python3.10/site-packages/tensorcircuit/abstractcircuit.py\", line 121, in apply\n      gate = gatef(**vars)\n    File \"/Users/felixxu/opt/anaconda3/envs/QC/lib/python3.10/site-packages/tensorcircuit/gates.py\", line 353, in __call__\n      return self.f(*args, **kws)\n    File \"/Users/felixxu/opt/anaconda3/envs/QC/lib/python3.10/site-packages/tensorcircuit/utils.py\", line 832, in wrapper\n    File \"/Users/felixxu/opt/anaconda3/envs/QC/lib/python3.10/site-packages/tensorcircuit/gates.py\", line 852, in exponential_gate_unity\n      if half is True:\nNode: 'sub_249'\nExpected tensor of type complex64 but got type float\n\t [[{{node sub_249}}]] [Op:__inference_wrapper_8927648]"
     ]
    }
   ],
   "source": [
    "prob = [[]]\n",
    "last_prob = 0\n",
    "single_prob = []\n",
    "for j in range(2):\n",
    "    clear_output(wait=True)\n",
    "    print('times', j)\n",
    "    print('last prob', last_prob)\n",
    "    iterations = 1000\n",
    "    nlayers = 10\n",
    "    time_start = time.time()\n",
    "    final_params = QUBO_QAOA(Q, QAOA_loss, nlayers, iterations)\n",
    "    c_final = QAOA_from_Ising(\n",
    "        final_params, nlayers, portfolio_pauli_terms, portfolio_weights\n",
    "    )\n",
    "    probs = K.numpy(c_final.probability()).round(decimals=6)\n",
    "    single_prob.append(probs[38])\n",
    "    last_prob = probs[38]\n",
    "    print(single_prob)\n",
    "prob.append(single_prob)\n",
    "clear_output(wait=True)\n",
    "print(prob)"
   ]
  },
  {
   "attachments": {},
   "cell_type": "markdown",
   "id": "b1cec17e",
   "metadata": {},
   "source": [
    "# rankings"
   ]
  },
  {
   "cell_type": "code",
   "execution_count": null,
   "id": "e0a12290",
   "metadata": {},
   "outputs": [
    {
     "name": "stdout",
     "output_type": "stream",
     "text": [
      "total [[], [14, 56, 5, 5, 30, 28, 49, 19, 15, 37, 51, 41, 45, 38, 47, 62, 14, 26, 40, 34], [55, 16, 11, 28, 4, 42, 58, 44, 48, 48, 20, 61, 23, 13, 27, 2, 5, 35, 46, 6], [42, 36, 16, 39, 54, 27, 25, 4, 21, 19, 46, 50, 62, 41, 54, 58, 26, 52, 2, 17], [60, 30, 33, 18, 45, 60, 27, 24, 56, 63, 54, 32, 9, 13, 44, 51, 32, 9, 11, 43], [45, 63, 50, 44, 4, 37, 51, 42, 11, 10, 58, 50, 34, 35, 11, 24, 54, 30, 53, 57], [47, 59, 38, 57, 6, 59, 35, 0, 46, 48, 35, 21, 60, 44, 49, 32, 49, 58, 60, 20], [8, 24, 39, 61, 11, 56, 7, 54, 36, 53, 43, 53, 50, 5, 56, 63, 58, 41, 61, 21], [20, 36, 63, 26, 58, 48, 19, 49, 62, 20, 63, 57, 41, 57, 33, 42, 35, 53, 1, 51], [63, 45, 41, 60, 50, 57, 15, 44, 15, 48, 61, 39, 42, 21, 58, 12, 17, 30, 10, 48]]\n"
     ]
    }
   ],
   "source": [
    "alpha = [0.1, 0.2, 0.3, 0.4, 0.5, 0.6, 0.7, 0.8, 0.9]\n",
    "total_rank = [[]]\n",
    "last_rank = 0\n",
    "n_layers = 15\n",
    "for i in alpha:\n",
    "    rank = []\n",
    "    for j in range(20):\n",
    "        clear_output(wait=True)\n",
    "        print('alpha', i)\n",
    "        print('times', j)\n",
    "        print('rank', rank)\n",
    "        print(\"total\", total_rank)\n",
    "        result = QUBO_CVaR(Q, nlayers, i)\n",
    "        c_final = QAOA_from_Ising(\n",
    "            result.x, nlayers, portfolio_pauli_terms, portfolio_weights\n",
    "        )\n",
    "        probs = K.numpy(c_final.probability()).round(decimals=6)\n",
    "        prob35 = probs[35]\n",
    "        loc = np.where(np.sort(probs)==prob35)\n",
    "        rank.append(loc[0][0])\n",
    "    total_rank.append(rank)\n",
    "clear_output(wait=True)\n",
    "print(\"total\", total_rank)"
   ]
  },
  {
   "cell_type": "code",
   "execution_count": null,
   "id": "4abb404f",
   "metadata": {},
   "outputs": [],
   "source": [
    "import pandas as pd\n",
    "name = ['1', '2', '3', '4', '5', '6', '7', '8', '9']\n",
    "df = pd.DataFrame(total_rank[1:])\n",
    "df.to_csv('rank.csv')"
   ]
  },
  {
   "cell_type": "code",
   "execution_count": null,
   "id": "c8c621fd",
   "metadata": {},
   "outputs": [
    {
     "ename": "NameError",
     "evalue": "name 'prob' is not defined",
     "output_type": "error",
     "traceback": [
      "\u001b[0;31m---------------------------------------------------------------------------\u001b[0m",
      "\u001b[0;31mNameError\u001b[0m                                 Traceback (most recent call last)",
      "Cell \u001b[0;32mIn[40], line 1\u001b[0m\n\u001b[0;32m----> 1\u001b[0m prob5 \u001b[39m=\u001b[39m [[\u001b[39mround\u001b[39m(j, \u001b[39m5\u001b[39m) \u001b[39mfor\u001b[39;00m j \u001b[39min\u001b[39;00m i] \u001b[39mfor\u001b[39;00m i \u001b[39min\u001b[39;00m prob]\n\u001b[1;32m      2\u001b[0m \u001b[39mprint\u001b[39m(prob5)\n",
      "\u001b[0;31mNameError\u001b[0m: name 'prob' is not defined"
     ]
    }
   ],
   "source": [
    "prob5 = [[round(j, 5) for j in i] for i in prob]\n",
    "print(prob5)"
   ]
  },
  {
   "cell_type": "code",
   "execution_count": null,
   "id": "b0cc6622",
   "metadata": {},
   "outputs": [],
   "source": [
    "final_params.x\n",
    "c_final = QAOA_from_Ising(\n",
    "    final_params.x, nlayers, portfolio_pauli_terms, portfolio_weights\n",
    ")\n",
    "states = []\n",
    "for i in range(2**n_stocks):\n",
    "    a = f\"{bin(i)[2:]:0>{n_stocks}}\"\n",
    "    states.append(a)\n",
    "probs = K.numpy(c_final.probability()).round(decimals=6)\n",
    "sorted_indices = np.argsort(probs)[::-1]\n",
    "state_sorted = np.array(states)[sorted_indices]\n",
    "prob_sorted = np.array(probs)[sorted_indices]\n",
    "\n",
    "print(\"\\n-------------------------------------\")\n",
    "print(\"    selection\\t  |\\tprobability\")\n",
    "print(\"-------------------------------------\")\n",
    "for i in range(len(states)):\n",
    "    print(\"%10s\\t  |\\t  %.4f\" % (state_sorted[i], prob_sorted[i]))\n",
    "print(\"-------------------------------------\")"
   ]
  },
  {
   "attachments": {},
   "cell_type": "markdown",
   "id": "a078a2db",
   "metadata": {},
   "source": [
    "# Rewrite with Qiskit"
   ]
  },
  {
   "cell_type": "code",
   "execution_count": null,
   "id": "9a480633",
   "metadata": {},
   "outputs": [
    {
     "data": {
      "text/plain": [
       "1.0"
      ]
     },
     "execution_count": 2,
     "metadata": {},
     "output_type": "execute_result"
    }
   ],
   "source": []
  },
  {
   "cell_type": "code",
   "execution_count": null,
   "id": "632e5d7f",
   "metadata": {},
   "outputs": [],
   "source": [
    "from qiskit import QuantumCircuit\n",
    "\n",
    "ansatz = "
   ]
  },
  {
   "attachments": {},
   "cell_type": "markdown",
   "id": "f1c7f6c6",
   "metadata": {},
   "source": [
    "# Benchmarking"
   ]
  },
  {
   "cell_type": "code",
   "execution_count": null,
   "id": "e440aeea",
   "metadata": {},
   "outputs": [],
   "source": []
  }
 ],
 "metadata": {
  "kernelspec": {
   "display_name": "Python 3 (ipykernel)",
   "language": "python",
   "name": "python3"
  },
  "language_info": {
   "codemirror_mode": {
    "name": "ipython",
    "version": 3
   },
   "file_extension": ".py",
   "mimetype": "text/x-python",
   "name": "python",
   "nbconvert_exporter": "python",
   "pygments_lexer": "ipython3",
   "version": "3.10.10"
  }
 },
 "nbformat": 4,
 "nbformat_minor": 5
}
