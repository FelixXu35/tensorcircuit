{
 "cells": [
  {
   "attachments": {},
   "cell_type": "markdown",
   "id": "6ddb8a88-779a-43f7-ae14-115463bd87f5",
   "metadata": {},
   "source": [
    "# Solving portfolio optimization as QUBO problem with QAOA\n",
    "\n",
    "## Overview\n",
    "\n",
    "Here we show how to solve a quadratic unconstrained binary optimization (QUBO) problem using QAOA.  Later on below we will extend this to show how to solve binary Markowitz portfolio optimization problems."
   ]
  },
  {
   "attachments": {},
   "cell_type": "markdown",
   "id": "77db924e",
   "metadata": {},
   "source": [
    "## QUBO problem\n",
    "\n",
    "### what is QUBO?\n",
    "\n",
    "Quadratic unconstrained binary optimization (QUBO) is a type of problem that aims to optimize a quadratic objective function using binary variables. In a QUBO problem, the objective is to find the binary variable assignments that minimize or maximize the quadratic objective function. These variables represent choices or decision variables that can be either selected (1) or not selected (0). The objective function reflects the associated costs, benefits, or constraints linked to these decisions.\n",
    "\n",
    "QUBO is a NP-hard problem.\n",
    "\n",
    "### An example\n",
    "\n",
    "We illustrate the QUBO problem with a simple example. Consider minimizing the following 2x2 QUBO objective function:\n",
    "\n",
    "$\\begin{pmatrix}x_1 & x_2\\end{pmatrix}\\begin{pmatrix}-5& -2 \\\\-2 & 6\\end{pmatrix}\\begin{pmatrix}x_1\\\\x_2\\end{pmatrix} = -5x_1^2 -4x_1x_2 +6x_2^2$\n",
    "\n",
    "Clearly this is minimized at $(x_1,x_2) = (1,0)$, with corresponding objective function value of $-5$\n",
    "\n",
    "We first convert this to an Ising Hamiltonian by mapping $x_i\\rightarrow \\frac{I-Z_i}{2}$\n",
    "\n",
    "This gives\n",
    "\n",
    "$$-\\frac{5}{4}(I-Z_1)^2 -\\frac{4}{4}(I-Z_1)(I-Z_2) + \\frac{6}{4}(I-Z_2)^2 $$\n",
    "\n",
    "which simplifies to\n",
    "\n",
    "$$-\\frac{1}{2}I +\\frac{7}{2}Z_1   -2Z_2 -Z_1Z_2$$ \n",
    "\n",
    "The $-I/2$ term is simply a constant offset, so we can solve the problem by finding the minimum of \n",
    "\n",
    "$$\\langle \\psi | \\frac{7}{2}Z_1 -2Z_2 -Z_1Z_2 |\\psi\\rangle$$ \n",
    "\n",
    "Note that the minimum should correspond to the computational basis state $|10\\rangle$, and the corresponding true objective function value should be $-4.5$ (ignoring the offset value of $-1/2$)"
   ]
  },
  {
   "attachments": {},
   "cell_type": "markdown",
   "id": "8176aa81",
   "metadata": {},
   "source": [
    "## Setup"
   ]
  },
  {
   "cell_type": "code",
   "execution_count": 4,
   "id": "45964c1f",
   "metadata": {},
   "outputs": [
    {
     "name": "stderr",
     "output_type": "stream",
     "text": [
      "No module named 'cirq'\n",
      "Therefore some functionality in tensorcircuit.applications.layers may not work\n",
      "name 'cirq' is not defined\n",
      "cirq layer generation disabled\n",
      "No module named 'cirq'\n",
      "Therefore some functionality in tensorcircuit.applications.vags may not work\n",
      "name 'sympy' is not defined\n",
      "tfq related vags disabled due to missing packages\n"
     ]
    }
   ],
   "source": [
    "import tensorcircuit as tc\n",
    "from tensorcircuit.applications.vags import cvar\n",
    "import numpy as np\n",
    "import tensorflow as tf\n",
    "import matplotlib.pyplot as plt\n",
    "from IPython.display import clear_output\n",
    "from functools import partial\n",
    "import time\n",
    "import scipy.optimize as optimize"
   ]
  },
  {
   "cell_type": "code",
   "execution_count": 5,
   "id": "4006848a-1a2f-407a-9f80-63e75ea0d3a4",
   "metadata": {},
   "outputs": [],
   "source": [
    "K = tc.set_backend(\"tensorflow\")\n",
    "\n",
    "nlayers = 2\n",
    "states = []\n",
    "for i in range(4):\n",
    "    states.append(f\"{bin(i)[2:]:0>{2}}\")\n",
    "\n",
    "# see below for a function to generate the pauli terms and weights from the QUBO matrix"
   ]
  },
  {
   "attachments": {},
   "cell_type": "markdown",
   "id": "4ddb548e",
   "metadata": {},
   "source": [
    "### Convert the Q-matrix to Ising Hamiltonian"
   ]
  },
  {
   "cell_type": "code",
   "execution_count": 6,
   "id": "a01ab8a2-d8cd-440d-ad70-7444e8b6a009",
   "metadata": {},
   "outputs": [],
   "source": [
    "def QUBO_to_Ising(Q):\n",
    "    # input is n-by-n symmetric numpy array corresponding to Q-matrix\n",
    "    # output is the components of Ising Hamiltonian\n",
    "\n",
    "    n = Q.shape[0]\n",
    "\n",
    "    offset = np.triu(Q, 0).sum() / 2\n",
    "    pauli_terms = []\n",
    "    weights = -np.sum(Q, axis=1) / 2\n",
    "\n",
    "    for i in range(n):\n",
    "        term = np.zeros(n)\n",
    "        term[i] = 1\n",
    "        pauli_terms.append(term)\n",
    "\n",
    "    for i in range(n - 1):\n",
    "        for j in range(i + 1, n):\n",
    "            term = np.zeros(n)\n",
    "            term[i] = 1\n",
    "            term[j] = 1\n",
    "            pauli_terms.append(term)\n",
    "\n",
    "            weight = Q[i][j] / 2\n",
    "            weights = np.concatenate((weights, weight), axis=None)\n",
    "\n",
    "    return pauli_terms, weights, offset\n"
   ]
  },
  {
   "cell_type": "code",
   "execution_count": 7,
   "id": "1f396a77",
   "metadata": {},
   "outputs": [
    {
     "name": "stdout",
     "output_type": "stream",
     "text": [
      "The pauli terms in this QUBO problem are:  [array([1., 0.]), array([0., 1.]), array([1., 1.])]\n",
      "and correspond weights are: [ 3.5 -2.  -1. ]\n",
      "the offset is: -0.5\n"
     ]
    }
   ],
   "source": [
    "Q = np.array([[-5, -2], [-2, 6]])\n",
    "pauli_terms, weights, offset = QUBO_to_Ising(Q)\n",
    "print(\"The pauli terms in this QUBO problem are: \", pauli_terms)\n",
    "print(\"and correspond weights are:\", weights)\n",
    "print(\"the offset is:\", offset)"
   ]
  },
  {
   "attachments": {},
   "cell_type": "markdown",
   "id": "b56b04c7",
   "metadata": {},
   "source": [
    "The results are consistent with our analysis."
   ]
  },
  {
   "attachments": {},
   "cell_type": "markdown",
   "id": "710ed2f7",
   "metadata": {},
   "source": [
    "### Ansatz"
   ]
  },
  {
   "cell_type": "code",
   "execution_count": 8,
   "id": "d197cf4a-1bad-4470-a846-998bfe68ba3c",
   "metadata": {},
   "outputs": [],
   "source": [
    "# Now we define the QAOA ansatz of depth nlayers\n",
    "def QAOA_from_Ising(params, nlayers, pauli_terms, weights):\n",
    "    nqubits = len(pauli_terms[0])\n",
    "    c = tc.Circuit(nqubits)\n",
    "    for i in range(nqubits):\n",
    "        c.h(i)\n",
    "    for j in range(nlayers):\n",
    "        # cost term\n",
    "        for k in range(len(pauli_terms)):\n",
    "            term = pauli_terms[k]\n",
    "            index_of_ones = []\n",
    "            for l in range(len(term)):\n",
    "                if term[l] == 1:\n",
    "                    index_of_ones.append(l)\n",
    "            if len(index_of_ones) == 1:\n",
    "                c.rz(index_of_ones[0], theta=2 * weights[k] * params[2 * j])\n",
    "            elif len(index_of_ones) == 2:\n",
    "                c.exp1(\n",
    "                    index_of_ones[0],\n",
    "                    index_of_ones[1],\n",
    "                    unitary=tc.gates._zz_matrix,\n",
    "                    theta=weights[k] * params[2 * j],\n",
    "                )\n",
    "            else:\n",
    "                raise ValueError(\"Invalid number of Z terms\")\n",
    "\n",
    "        for i in range(nqubits):\n",
    "            c.rx(i, theta=params[2 * j + 1])  # mixing terms\n",
    "    return c\n"
   ]
  },
  {
   "attachments": {},
   "cell_type": "markdown",
   "id": "ac05fccb",
   "metadata": {},
   "source": [
    "### Loss function"
   ]
  },
  {
   "attachments": {},
   "cell_type": "markdown",
   "id": "cb38c120-500a-44cc-96ec-fb5ceb11032d",
   "metadata": {},
   "source": [
    "For a general state that is the output of a quantum circuit c, we first define the corresponding loss with respect to the Ising Hamiltonian."
   ]
  },
  {
   "cell_type": "code",
   "execution_count": 9,
   "id": "88cec9cf-3ab6-4a4c-b743-ed95ee8c3817",
   "metadata": {},
   "outputs": [],
   "source": [
    "def Ising_loss(c, pauli_terms, weights):\n",
    "    loss = 0.0\n",
    "    for k in range(len(pauli_terms)):\n",
    "        term = pauli_terms[k]\n",
    "        index_of_ones = []\n",
    "\n",
    "        for l in range(len(term)):\n",
    "            if term[l] == 1:\n",
    "                index_of_ones.append(l)\n",
    "\n",
    "        if len(index_of_ones) == 1:\n",
    "            delta_loss = weights[k] * c.expectation_ps(z=[index_of_ones[0]])\n",
    "\n",
    "        else:\n",
    "            delta_loss = weights[k] * c.expectation_ps(\n",
    "                z=[index_of_ones[0], index_of_ones[1]]\n",
    "            )\n",
    "\n",
    "        loss += delta_loss\n",
    "\n",
    "    return K.real(loss)\n"
   ]
  },
  {
   "cell_type": "code",
   "execution_count": 10,
   "id": "a15fc14f",
   "metadata": {},
   "outputs": [],
   "source": [
    "def Ising_loss_Q(c, Q):\n",
    "    n_qubits = c._nqubits\n",
    "    prob = c.probability()\n",
    "    loss = 0.0\n",
    "    for i in range(len(prob)):\n",
    "        state = f\"{bin(i)[2:]:0>{n_qubits}}\"\n",
    "        x = np.array([int(bit) for bit in state])\n",
    "        loss += np.dot(x, np.dot(Q, x)) * prob[i]\n",
    "        print(loss)\n",
    "    return K.real(loss)"
   ]
  },
  {
   "attachments": {},
   "cell_type": "markdown",
   "id": "30a3aa96-7823-4337-9b2f-5170502bb893",
   "metadata": {},
   "source": [
    "For the particular case of a circuit corresponding to a QAOA ansatz this is:"
   ]
  },
  {
   "cell_type": "code",
   "execution_count": 11,
   "id": "26e4bec2-ce5b-4d0d-9e06-c80fda20619f",
   "metadata": {},
   "outputs": [],
   "source": [
    "def QAOA_loss(nlayers, pauli_terms, weights, params):\n",
    "    c = QAOA_from_Ising(params, nlayers, pauli_terms, weights)\n",
    "    return Ising_loss(c, pauli_terms, weights)\n"
   ]
  },
  {
   "cell_type": "code",
   "execution_count": 12,
   "id": "6f3bb173",
   "metadata": {},
   "outputs": [],
   "source": [
    "def QAOA_loss_Q(nlayers, pauli_terms, weights, Q, params):\n",
    "    c = QAOA_from_Ising(params, nlayers, pauli_terms, weights)\n",
    "    return Ising_loss_Q(c, Q)\n"
   ]
  },
  {
   "cell_type": "code",
   "execution_count": 13,
   "id": "cd3a1732",
   "metadata": {},
   "outputs": [],
   "source": [
    "def QUBO_QAOA(Q, ansatz, nlayers, iterations):\n",
    "    pauli_terms, weights, offset = QUBO_to_Ising(Q)\n",
    "    learning_rate = 1e-2\n",
    "\n",
    "    loss_val_grad = K.value_and_grad(partial(ansatz, nlayers, pauli_terms, weights))\n",
    "    loss_val_grad_jit = K.jit(loss_val_grad)\n",
    "\n",
    "    opt = K.optimizer(tf.keras.optimizers.Adam(learning_rate))\n",
    "\n",
    "    params = K.implicit_randn(shape=[2 * nlayers], stddev=0.5)\n",
    "    params = tf.cast(params, tf.float32)\n",
    "    for i in range(iterations):\n",
    "        loss, grads = loss_val_grad_jit(params)\n",
    "        params = opt.update(grads, params)\n",
    "\n",
    "    return params"
   ]
  },
  {
   "attachments": {},
   "cell_type": "markdown",
   "id": "192d6c47",
   "metadata": {},
   "source": [
    "### Results"
   ]
  },
  {
   "cell_type": "code",
   "execution_count": 14,
   "id": "2bc533da-b4f2-4ffb-b486-c65880a30a6d",
   "metadata": {
    "tags": []
   },
   "outputs": [
    {
     "name": "stdout",
     "output_type": "stream",
     "text": [
      "time consumed: 5.5602 s\n"
     ]
    }
   ],
   "source": [
    "iterations = 5#00\n",
    "time_start = time.time()\n",
    "final_params = QUBO_QAOA(Q, QAOA_loss, nlayers, iterations)\n",
    "clear_output(wait=True)\n",
    "time_end = time.time()\n",
    "print(\"time consumed:\", round(time_end - time_start, 4), \"s\")"
   ]
  },
  {
   "cell_type": "code",
   "execution_count": 15,
   "id": "fb6a8579",
   "metadata": {},
   "outputs": [
    {
     "name": "stdout",
     "output_type": "stream",
     "text": [
      "\n",
      "-------------------------------------\n",
      "    selection\t  |\tprobability\n",
      "-------------------------------------\n",
      "        10\t  |\t  0.2783\n",
      "        11\t  |\t  0.2734\n",
      "        00\t  |\t  0.2523\n",
      "        01\t  |\t  0.1959\n",
      "-------------------------------------\n"
     ]
    }
   ],
   "source": [
    "c = QAOA_from_Ising(final_params, nlayers, pauli_terms, weights)\n",
    "probs = K.numpy(c.probability()).round(decimals=4)\n",
    "# prob_dict = {states[i]: probs[i] for i in range(4)}\n",
    "# prob_sorted = dict(sorted(prob_dict.items(), key=lambda item: item[1], reverse=True))\n",
    "sorted_indices = np.argsort(probs)[::-1]\n",
    "state_sorted = np.array(states)[sorted_indices]\n",
    "prob_sorted = np.array(probs)[sorted_indices]\n",
    "\n",
    "print(\"\\n-------------------------------------\")\n",
    "print(\"    selection\\t  |\\tprobability\")\n",
    "print(\"-------------------------------------\")\n",
    "for i in range(len(states)):\n",
    "    print(\"%10s\\t  |\\t  %.4f\" % (state_sorted[i], prob_sorted[i]))\n",
    "print(\"-------------------------------------\")"
   ]
  },
  {
   "attachments": {},
   "cell_type": "markdown",
   "id": "e93d8cbe-2884-4f0a-80f8-3b600194927b",
   "metadata": {},
   "source": [
    "We note that for nlayers=2 and 500 iterations, the objective function does not in this case (although it depends on the initial parameters) converge to the true value of $-4.5$.  However, the we see below that the final wavefunction does have large overlap with the desired state $|10\\rangle$, so measuring the output of the QAOA algorithm will, with high probability, output the correct answer."
   ]
  },
  {
   "cell_type": "code",
   "execution_count": 16,
   "id": "294ea9ce-5064-4176-94d0-8dbb7d1707f8",
   "metadata": {},
   "outputs": [],
   "source": [
    "def print_output(c):\n",
    "    n = c._nqubits\n",
    "    N = 2**n\n",
    "    x_label = r\"$\\left|{0:0\" + str(n) + r\"b}\\right>$\"\n",
    "    labels = [x_label.format(i) for i in range(N)]\n",
    "    plt.bar(range(N), c.probability())\n",
    "    plt.xticks(range(N), labels, rotation=70)"
   ]
  },
  {
   "cell_type": "code",
   "execution_count": 17,
   "id": "fc1353ab-7a7a-4cdc-931c-3b90417c4961",
   "metadata": {
    "tags": []
   },
   "outputs": [
    {
     "data": {
      "image/png": "[encoded data removed]",
      "text/plain": [
       "<Figure size 640x480 with 1 Axes>"
      ]
     },
     "metadata": {},
     "output_type": "display_data"
    }
   ],
   "source": [
    "print_output(c)\n"
   ]
  },
  {
   "attachments": {},
   "cell_type": "markdown",
   "id": "d155c5e5-5843-4bba-9edc-595a18cb0c9a",
   "metadata": {},
   "source": [
    "## General Case\n",
    "\n",
    "For the general QUBO case, we wish to minimize\n",
    "\n",
    "$$ x^T Q x$$\n",
    "\n",
    "where $x\\in\\{0,1\\}^n$ and $Q\\in\\mathbb{R}^{n\\times n}$ is a real symmetric matrix.\n",
    "\n",
    "This maps to an Ising Hamiltonian \n",
    "\n",
    "$$\\frac{1}{2}\\left(\\sum_{i=1}^n C_{ii} + \\sum_{i<j}C_{ij}\\right) I - \\frac{1}{2}\\sum_{i=1}^n \\left(\\sum_{j=1}^n C_{ij} \\right)Z_i +\\frac{1}{2}\\sum_{i<j}C_{ij}Z_iZ_j$$\n",
    "\n",
    "Below is a simple function which can perform this mapping:"
   ]
  },
  {
   "attachments": {},
   "cell_type": "markdown",
   "id": "88546c96",
   "metadata": {},
   "source": [
    "## Portfolio problem"
   ]
  },
  {
   "attachments": {},
   "cell_type": "markdown",
   "id": "c3819ca0",
   "metadata": {},
   "source": [
    "Consider a scenario: Xiaoming, a wise individual, has an amount of money denoted as $B$, and he intends to invest it in the stock market. The market consists of $n$ shares from which he can choose (assuming all shares have the same price). Naturally, Xiaoming aims to maximize returns while minimizing risk. Additionally, it's important to note that individuals have varying levels of risk tolerance. Xiaoming's risk tolerance is denoted as $p$. Given these factors, which shares should Xiaoming select to construct his portfolio?\n",
    "\n"
   ]
  },
  {
   "attachments": {},
   "cell_type": "markdown",
   "id": "b4c49427-8555-4fb8-aad7-3e374d75659c",
   "metadata": {},
   "source": [
    "### Solving portfolio optimization problems with QAOA"
   ]
  },
  {
   "attachments": {},
   "cell_type": "markdown",
   "id": "1744c60e-3914-4c92-a653-735052ce8453",
   "metadata": {},
   "source": [
    "In a simple boolean Markowitz portfolio optimization problem, we wish to solve \n",
    "\n",
    "$$\\min_{x\\in\\{0,1\\}^n}\\quad q x^T \\Sigma x - \\mu^T x$$\n",
    "\n",
    "subject to \n",
    "\n",
    "$$ 1^T x = B$$\n",
    "\n",
    "where \n",
    "* $n$: number of assets under consideration\n",
    "* $q > 0 $: risk-appetite\n",
    "* $\\Sigma \\in \\mathbb{R}^{n\\times n}$: covariance matrix of the assets\n",
    "* $\\mu\\in\\mathbb{R}^n$: mean return of the assets\n",
    "* $B$: budget (i.e., total number of assets out of $n$ that can be selected)\n",
    "\n",
    "Our first step is to convert this constrained quadratic programming problem into a QUBO.  We do this by adding a penalty factor $t$ and consider the alternative problem:\n",
    "\n",
    "$$ \\min_{x\\in\\{0,1\\}^n}\\quad q x^T \\Sigma x - \\mu^Tx  + t(1^Tx-B)^2$$\n",
    "\n",
    "The variables in the linear terms $\\mu^Tx = \\mu_1 x_1 + \\mu_2 x_2+\\ldots$ can all be squared (since they are boolean variables), i.e. we can consider\n",
    "\n",
    "$$\\min_{x\\in\\{0,1\\}^n}\\quad q x^T \\Sigma x - \\sum_{i=1}^n\\mu_i x_i^2  + t(1^Tx-B)^2$$\n",
    "\n",
    "which is a QUBO defined by the matrix $Q$ \n",
    "\n",
    "$$ Q = q\\Sigma -\\mu\\begin{pmatrix}1 & \\\\ & 1\\\\ & & \\ddots\\end{pmatrix} + t\\begin{pmatrix}1 -2B & 1 & \\ldots & 1 \\\\\n",
    "1 & 1-2B & 1 & \\ldots \\\\1 & 1 & 1-2B \\\\\n",
    "\\vdots\\end{pmatrix}$$\n",
    "\n",
    "i.e., we wish to mimimize\n",
    "\n",
    "$$ x^T Q X + tB^2$$\n",
    "\n",
    "and we ignore the constant term $t B^2$.\n",
    "We can now solve this by QAOA as above.\n",
    "\n",
    "Let us first define a function to convert portfolio data into a QUBO matrix:"
   ]
  },
  {
   "cell_type": "code",
   "execution_count": 18,
   "id": "be849a72",
   "metadata": {},
   "outputs": [
    {
     "name": "stdout",
     "output_type": "stream",
     "text": [
      "[ 0.01528439 -0.00078095  0.00051792  0.00087001]\n",
      "[[ 2.54138859e-03  7.34022167e-05  1.28600531e-04 -9.98612132e-05]\n",
      " [ 7.34022167e-05  2.58486713e-04  5.30427595e-05  4.44816208e-05]\n",
      " [ 1.28600531e-04  5.30427595e-05  7.91504681e-04 -1.23887382e-04]\n",
      " [-9.98612132e-05  4.44816208e-05 -1.23887382e-04  1.97892585e-04]]\n"
     ]
    }
   ],
   "source": [
    "import datetime\n",
    "from qiskit_finance.data_providers import RandomDataProvider\n",
    "num_assets = 4\n",
    "seed = 123\n",
    "\n",
    "# Generate expected return and covariance matrix from (random) time-series\n",
    "stocks = [(\"TICKER%s\" % i) for i in range(num_assets)]\n",
    "data = RandomDataProvider(\n",
    "    tickers=stocks,\n",
    "    start=datetime.datetime(2016, 1, 1),\n",
    "    end=datetime.datetime(2016, 1, 30),\n",
    "    seed=seed,\n",
    ")\n",
    "data.run()\n",
    "\n",
    "mu = data.get_period_return_mean_vector()\n",
    "sigma = data.get_period_return_covariance_matrix()\n",
    "print(mu)\n",
    "print(sigma)"
   ]
  },
  {
   "cell_type": "code",
   "execution_count": 19,
   "id": "9580416a",
   "metadata": {},
   "outputs": [],
   "source": [
    "class StockData:\n",
    "    \"\"\"convert real-world stock data to annualized covariance matrix, annualized return and penalty factor\n",
    "    input: a list of continuous stock data in the same time span (risk preference & budget for penalty factor)\n",
    "    output: annualized convariance matrix and return\n",
    "    \"\"\"\n",
    "\n",
    "    def __init__(self, data):\n",
    "        self.data = data  # add data\n",
    "        self.n_stocks = len(data)  # num of stocks\n",
    "\n",
    "        # check the number of days\n",
    "        n_days = [len(i) for i in data]\n",
    "        if max(n_days) != (sum(n_days) / len(n_days)):\n",
    "            raise Exception(\"timespan of stocks should be the same\")\n",
    "        self.n_days = len(data[1])\n",
    "\n",
    "        # calculate the daily percentage price change\n",
    "        self.daily_change = []  # daily percentage price change\n",
    "        for i in range(self.n_stocks):\n",
    "            each_stcok = []\n",
    "            for j in range(self.n_days - 1):\n",
    "                each_stcok.append((data[i][j + 1] - data[i][j]) / data[i][j])\n",
    "            self.daily_change.append(each_stcok)\n",
    "\n",
    "    # calculate annualized return (mu)\n",
    "    def get_return(self):\n",
    "        change = [[i + 1 for i in j] for j in self.daily_change]  # daily_change + 1\n",
    "        ret = [np.prod(i) ** (252 / self.n_days) for i in change]\n",
    "        return ret\n",
    "\n",
    "    # calculate annualized covariance matrix (sigma)\n",
    "    def get_covariance(self):\n",
    "        mean_change = [\n",
    "            [i - np.mean(j) for i in j] for j in self.data\n",
    "        ]  # daily_change - mean(daily_change)\n",
    "        cov = 252 / self.n_days * np.dot(mean_change, np.transpose(mean_change))\n",
    "        return cov\n",
    "\n",
    "    def get_penalty(self, cov, ret, risk_pre, budget):\n",
    "        # get all fesible and unfeasible states\n",
    "        self.f_state = []  # feasible states (num of '1's equal to budge)\n",
    "        self.uf_state = []  # unfeasible states\n",
    "        self.all_state = []\n",
    "        for i in range(2**self.n_stocks):\n",
    "            state = f\"{bin(i)[2:]:0>{self.n_stocks}}\"\n",
    "            n_ones = 0\n",
    "            for j in state:\n",
    "                if j == \"1\":\n",
    "                    n_ones += 1\n",
    "            self.all_state.append(state)\n",
    "            if n_ones == budget:\n",
    "                self.f_state.append(state)\n",
    "            else:\n",
    "                self.uf_state.append(state)\n",
    "\n",
    "        # determine the penalty factor\n",
    "        # follow this paper: https://doi.org/10.1007/s11128-022-03766-5 \n",
    "        mark = False\n",
    "        penalty = 0  # initial value\n",
    "        while mark == False:\n",
    "            R = np.diag(ret)\n",
    "            S = np.ones((self.n_stocks, self.n_stocks)) - 2 * budget * np.diag(\n",
    "                np.ones(self.n_stocks)\n",
    "            )\n",
    "            Q = risk_pre * cov - R + penalty * S\n",
    "            F = []\n",
    "            for state in self.f_state:\n",
    "                x = np.array([int(bit) for bit in state])\n",
    "                F.append(np.dot(x, np.dot(Q, x)) + penalty*budget**2)\n",
    "            Fmin = np.amin(F)\n",
    "            Fbar = np.mean(F)\n",
    "            F = []\n",
    "            for state in self.uf_state:\n",
    "                x = np.array([int(bit) for bit in state])\n",
    "                F.append(np.dot(x, np.dot(Q, x)) + penalty*budget**2)\n",
    "            Fmin_uf = np.amin(F)\n",
    "            location = np.where(F == Fmin_uf)[0][0]\n",
    "            if Fmin_uf < 0.5 * (Fmin + Fbar):\n",
    "                n_ones = 0\n",
    "                for j in self.uf_state[location]:\n",
    "                    if j == \"1\":\n",
    "                        n_ones += 1\n",
    "                penalty += (0.5 * (Fmin + Fbar) - Fmin_uf) / (n_ones - budget) ** 2\n",
    "            else:\n",
    "                mark = True  # ready to return the penalty\n",
    "        return penalty"
   ]
  },
  {
   "cell_type": "code",
   "execution_count": 20,
   "id": "54e00613",
   "metadata": {},
   "outputs": [
    {
     "data": {
      "text/plain": [
       "2"
      ]
     },
     "execution_count": 20,
     "metadata": {},
     "output_type": "execute_result"
    }
   ],
   "source": [
    "a = [1, 2, 3]\n",
    "p = np.max(a)\n",
    "np.nonzero(a == p)[0][0]"
   ]
  },
  {
   "cell_type": "code",
   "execution_count": 21,
   "id": "a7eb3a74",
   "metadata": {},
   "outputs": [],
   "source": [
    "# real-world stock data, calculated using the functions above\n",
    "# stock name: aapl, amzn, meta, msft, qcom, sbux\n",
    "# from 10/06/2022 to 09/06/2023\n",
    "mu = [\n",
    "    0.4571994114695688,\n",
    "    0.41041212627281065,\n",
    "    1.1642126120700402,\n",
    "    1.9833591772807886,\n",
    "    1.7411375568887029,\n",
    "    0.7113494810370135,\n",
    "]\n",
    "sigma = np.array(\n",
    "    [\n",
    "        [\n",
    "            44153.50197136,\n",
    "            16427.86899847,\n",
    "            17925.90406014,\n",
    "            12591.01917775,\n",
    "            5243.16167421,\n",
    "            1734.98958898,\n",
    "        ],\n",
    "        [\n",
    "            16427.86899847,\n",
    "            30484.04551246,\n",
    "            31296.89782714,\n",
    "            16693.96263967,\n",
    "            17870.1769762,\n",
    "            381.2127035,\n",
    "        ],\n",
    "        [\n",
    "            17925.90406014,\n",
    "            31296.89782714,\n",
    "            168080.73099969,\n",
    "            31466.58363902,\n",
    "            39030.04232952,\n",
    "            754.80389469,\n",
    "        ],\n",
    "        [\n",
    "            12591.01917775,\n",
    "            16693.96263967,\n",
    "            31466.58363902,\n",
    "            119234.81518309,\n",
    "            43426.60861475,\n",
    "            -388.64584922,\n",
    "        ],\n",
    "        [\n",
    "            5243.16167421,\n",
    "            17870.1769762,\n",
    "            39030.04232952,\n",
    "            43426.60861475,\n",
    "            35809.54588731,\n",
    "            -791.57350614,\n",
    "        ],\n",
    "        [\n",
    "            1734.98958898,\n",
    "            381.2127035,\n",
    "            754.80389469,\n",
    "            -388.64584922,\n",
    "            -791.57350614,\n",
    "            1970.16654172,\n",
    "        ],\n",
    "    ]\n",
    ")"
   ]
  },
  {
   "cell_type": "code",
   "execution_count": 22,
   "id": "3080b901-fb6c-4bda-8348-c96540cbc39a",
   "metadata": {},
   "outputs": [],
   "source": [
    "def QUBO_from_portfolio(cov, mean, q, B, t):\n",
    "    \"\"\"convert portfolio parameters to a Q-matrix\n",
    "    cov: n-by-n covariance numpy array\n",
    "    mean: numpy array of means\n",
    "    q: the risk preference of investor\n",
    "    B: budget\n",
    "    t: penalty factor\n",
    "    \"\"\"\n",
    "    n = cov.shape[0]\n",
    "    R = np.diag(mean)\n",
    "    S = np.ones((n, n)) - 2 * B * np.diag(np.ones(n))\n",
    "\n",
    "    Q = q * cov - R + t * S\n",
    "    return Q"
   ]
  },
  {
   "attachments": {},
   "cell_type": "markdown",
   "id": "b4cdcb0e-15a2-461c-b487-084488486c67",
   "metadata": {},
   "source": [
    "We can test this using the qiskit_finance package to generate some stock covariance and mean data:\n",
    "\n",
    "*Note that this was tested with qiskit version 0.39.3 and qiskit-finance version 0.3.4.*"
   ]
  },
  {
   "attachments": {},
   "cell_type": "markdown",
   "id": "f6dc53d4-7ed0-436d-aa1f-8674c56e756e",
   "metadata": {},
   "source": [
    "Using this mean and covariance data, we can now define our portfolio optimization problem, convert it to a QUBO matrix, and then extract the pauli terms and weights"
   ]
  },
  {
   "cell_type": "code",
   "execution_count": 23,
   "id": "3f6edcd5-3c10-49fc-86ea-160fc6d3187e",
   "metadata": {},
   "outputs": [],
   "source": [
    "q = 0.5 # the risk preference of investor\n",
    "budget = 3  # Note that in this example, there are 6 assets, but a budget of only 3\n",
    "penalty = 80299.22578764349 # calculated using the function above\n",
    "\n",
    "#Q = QUBO_from_portfolio(sigma, mu, q, budget, penalty)\n",
    "Q = QUBO_from_portfolio(sigma, mu, q, budget, penalty)\n",
    "portfolio_pauli_terms, portfolio_weights, portfolio_offset = QUBO_to_Ising(Q)"
   ]
  },
  {
   "cell_type": "code",
   "execution_count": 24,
   "id": "40d8fba9",
   "metadata": {},
   "outputs": [
    {
     "data": {
      "text/plain": [
       "96906.4227712305"
      ]
     },
     "execution_count": 24,
     "metadata": {},
     "output_type": "execute_result"
    }
   ],
   "source": [
    "Fbar = 146662.570242461\n",
    "Fmin = 47150.2753\n",
    "0.5*(Fbar+Fmin)"
   ]
  },
  {
   "cell_type": "code",
   "execution_count": 25,
   "id": "48dfc02e",
   "metadata": {},
   "outputs": [
    {
     "name": "stdout",
     "output_type": "stream",
     "text": [
      "['000000', '000001', '000010', '000011', '000100', '000101', '000110', '000111', '001000', '001001', '001010', '001011', '001100', '001101', '001110', '001111', '010000', '010001', '010010', '010011', '010100', '010101', '010110', '010111', '011000', '011001', '011010', '011011', '011100', '011101', '011110', '011111', '100000', '100001', '100010', '100011', '100100', '100101', '100110', '100111', '101000', '101001', '101010', '101011', '101100', '101101', '101110', '101111', '110000', '110001', '110010', '110011', '110100', '110101', '110110', '110111', '111000', '111001', '111010', '111011', '111100', '111101', '111110', '111111']\n"
     ]
    }
   ],
   "source": [
    "states = []\n",
    "for i in range(2**6):\n",
    "    a = f\"{bin(i)[2:]:0>{6}}\"\n",
    "    n_ones = 0\n",
    "    for j in a:\n",
    "        if j == '1':\n",
    "            n_ones += 1\n",
    "    if True:#n_ones != budget:\n",
    "        states.append(a)\n",
    "print(states)"
   ]
  },
  {
   "cell_type": "code",
   "execution_count": 26,
   "id": "809b90fa-7047-4c88-b862-355da4f58a50",
   "metadata": {},
   "outputs": [
    {
     "name": "stdout",
     "output_type": "stream",
     "text": [
      "\n",
      "-------------------------------------\n",
      "    selection\t  |\t  cost\n",
      "-------------------------------------\n",
      "    100011\t  |\t-675542.7568\n",
      "    010011\t  |\t-671104.1998\n",
      "    110001\t  |\t-665846.6827\n",
      "    010101\t  |\t-630165.0941\n",
      "    110010\t  |\t-627930.8865\n",
      "    100101\t  |\t-626079.5792\n",
      "    010001\t  |\t-625786.6093\n",
      "    000011\t  |\t-624297.9761\n",
      "    100001\t  |\t-617598.1510\n",
      "    000111\t  |\t-601943.8149\n",
      "    100010\t  |\t-597171.3190\n",
      "    101001\t  |\t-595177.4676\n",
      "    010010\t  |\t-591378.9852\n",
      "    011001\t  |\t-589994.9321\n",
      "    110000\t  |\t-588648.0312\n",
      "    000101\t  |\t-582182.6560\n",
      "    001011\t  |\t-580773.1544\n",
      "    110100\t  |\t-580046.8509\n",
      "    100110\t  |\t-561837.4928\n",
      "    001001\t  |\t-556615.4292\n",
      "    010110\t  |\t-551942.2155\n",
      "    010100\t  |\t-550842.8071\n",
      "    100100\t  |\t-548111.0691\n",
      "    001101\t  |\t-546221.2930\n",
      "    110011\t  |\t-545322.6600\n",
      "    101010\t  |\t-536475.3971\n",
      "    111000\t  |\t-535685.2538\n",
      "    000110\t  |\t-521448.7416\n",
      "    101000\t  |\t-518352.4072\n",
      "    011010\t  |\t-517312.0695\n",
      "    011000\t  |\t-511816.0948\n",
      "    001010\t  |\t-501421.5309\n",
      "    110101\t  |\t-497035.6968\n",
      "    101100\t  |\t-494978.6059\n",
      "    011100\t  |\t-484339.3501\n",
      "    100111\t  |\t-479999.1249\n",
      "    010111\t  |\t-471457.6244\n",
      "    001100\t  |\t-467272.5971\n",
      "    101011\t  |\t-453493.5795\n",
      "    111001\t  |\t-451530.6499\n",
      "    001110\t  |\t-447212.1402\n",
      "    011011\t  |\t-435684.0287\n",
      "    110110\t  |\t-415304.6461\n",
      "    101101\t  |\t-411593.8606\n",
      "    011101\t  |\t-402308.3817\n",
      "    000001\t  |\t-400511.7570\n",
      "    010000\t  |\t-386254.5166\n",
      "    000010\t  |\t-383593.0971\n",
      "    100000\t  |\t-379419.8352\n",
      "    111010\t  |\t-375339.6152\n",
      "    001111\t  |\t-366353.9579\n",
      "    000100\t  |\t-341880.7047\n",
      "    111100\t  |\t-335019.0383\n",
      "    001000\t  |\t-317456.9277\n",
      "    101110\t  |\t-309076.5357\n",
      "    011110\t  |\t-285810.2646\n",
      "    110111\t  |\t-172486.6138\n",
      "    111011\t  |\t-131378.1332\n",
      "    111101\t  |\t-90654.6287\n",
      "    101111\t  |\t-65884.9123\n",
      "    011111\t  |\t-43972.4181\n",
      "    000000\t  |\t0.0000\n",
      "    111110\t  |\t29351.6605\n",
      "    111111\t  |\t433522.9481\n",
      "-------------------------------------\n"
     ]
    }
   ],
   "source": [
    "# Brutely search over classical results for comparison before we run QAOA\n",
    "# the results are sorted with cost\n",
    "cost_dict = {}\n",
    "i = 0\n",
    "for selection in states:\n",
    "    x = np.array([int(bit) for bit in selection])\n",
    "    cost_dict[selection] = np.dot(x, np.dot(Q, x))\n",
    "    i += 1\n",
    "cost_sorted = dict(sorted(cost_dict.items(), key=lambda item: item[1]))\n",
    "print(\"\\n-------------------------------------\")\n",
    "print(\"    selection\\t  |\\t  cost\")\n",
    "print(\"-------------------------------------\")\n",
    "for k, v in cost_sorted.items():\n",
    "    print(\"%10s\\t  |\\t%.4f\" % (k, v))\n",
    "print(\"-------------------------------------\")"
   ]
  },
  {
   "attachments": {},
   "cell_type": "markdown",
   "id": "b5e69a34-87dc-47b4-aeb2-3b9a03fd0974",
   "metadata": {},
   "source": [
    "We see that, due to the penalty, the lowest energy solutions correspond to 0111, 1011, 1101, 1110, i.e. the portfolios with only 3 assets."
   ]
  },
  {
   "cell_type": "code",
   "execution_count": 27,
   "id": "80c1de6c-d3a4-4ea5-922a-bffb59dd1ea3",
   "metadata": {},
   "outputs": [
    {
     "name": "stdout",
     "output_type": "stream",
     "text": [
      "time consumed: 32.5925 s\n"
     ]
    }
   ],
   "source": [
    "iterations = 1#000\n",
    "nlayers = 10\n",
    "time_start = time.time()\n",
    "final_params = QUBO_QAOA(Q, QAOA_loss, nlayers, iterations)\n",
    "clear_output(wait=True)\n",
    "time_end = time.time()\n",
    "print(\"time consumed:\", round(time_end - time_start, 4), \"s\")"
   ]
  },
  {
   "cell_type": "code",
   "execution_count": 28,
   "id": "f725ea52",
   "metadata": {},
   "outputs": [
    {
     "name": "stdout",
     "output_type": "stream",
     "text": [
      "\n",
      "-------------------------------------\n",
      "    selection\t  |\tprobability\n",
      "-------------------------------------\n",
      "    101110\t  |\t  0.0859\n",
      "    100111\t  |\t  0.0625\n",
      "    100011\t  |\t  0.0481\n",
      "    111011\t  |\t  0.0439\n",
      "    110011\t  |\t  0.0367\n",
      "    011011\t  |\t  0.0358\n",
      "    010100\t  |\t  0.0357\n",
      "    110110\t  |\t  0.0356\n",
      "    110001\t  |\t  0.0350\n",
      "    100010\t  |\t  0.0348\n",
      "    011101\t  |\t  0.0297\n",
      "    000000\t  |\t  0.0278\n",
      "    101001\t  |\t  0.0220\n",
      "    011000\t  |\t  0.0219\n",
      "    001000\t  |\t  0.0213\n",
      "    010011\t  |\t  0.0209\n",
      "    010110\t  |\t  0.0187\n",
      "    010000\t  |\t  0.0185\n",
      "    110100\t  |\t  0.0184\n",
      "    101111\t  |\t  0.0180\n",
      "    111101\t  |\t  0.0176\n",
      "    000010\t  |\t  0.0171\n",
      "    011100\t  |\t  0.0170\n",
      "    100100\t  |\t  0.0167\n",
      "    001010\t  |\t  0.0150\n",
      "    010111\t  |\t  0.0147\n",
      "    100000\t  |\t  0.0141\n",
      "    001110\t  |\t  0.0139\n",
      "    111000\t  |\t  0.0134\n",
      "    000101\t  |\t  0.0127\n",
      "    000001\t  |\t  0.0122\n",
      "    000011\t  |\t  0.0121\n",
      "    010001\t  |\t  0.0114\n",
      "    001011\t  |\t  0.0104\n",
      "    100001\t  |\t  0.0100\n",
      "    011111\t  |\t  0.0093\n",
      "    001100\t  |\t  0.0092\n",
      "    101010\t  |\t  0.0082\n",
      "    110010\t  |\t  0.0077\n",
      "    101101\t  |\t  0.0076\n",
      "    110000\t  |\t  0.0071\n",
      "    010010\t  |\t  0.0070\n",
      "    001101\t  |\t  0.0063\n",
      "    101000\t  |\t  0.0054\n",
      "    110101\t  |\t  0.0053\n",
      "    101100\t  |\t  0.0051\n",
      "    000100\t  |\t  0.0051\n",
      "    000110\t  |\t  0.0049\n",
      "    011010\t  |\t  0.0048\n",
      "    111110\t  |\t  0.0044\n",
      "    111010\t  |\t  0.0043\n",
      "    000111\t  |\t  0.0042\n",
      "    111111\t  |\t  0.0024\n",
      "    111001\t  |\t  0.0024\n",
      "    001001\t  |\t  0.0020\n",
      "    100101\t  |\t  0.0018\n",
      "    100110\t  |\t  0.0017\n",
      "    001111\t  |\t  0.0010\n",
      "    011001\t  |\t  0.0008\n",
      "    110111\t  |\t  0.0007\n",
      "    010101\t  |\t  0.0006\n",
      "    101011\t  |\t  0.0005\n",
      "    111100\t  |\t  0.0004\n",
      "    011110\t  |\t  0.0003\n",
      "-------------------------------------\n"
     ]
    }
   ],
   "source": [
    "c_final = QAOA_from_Ising(\n",
    "    final_params, nlayers, portfolio_pauli_terms, portfolio_weights\n",
    ")\n",
    "states = []\n",
    "for i in range(2**6):\n",
    "    a = f\"{bin(i)[2:]:0>{6}}\"\n",
    "    states.append(a)\n",
    "probs = K.numpy(c_final.probability()).round(decimals=6)\n",
    "sorted_indices = np.argsort(probs)[::-1]\n",
    "state_sorted = np.array(states)[sorted_indices]\n",
    "prob_sorted = np.array(probs)[sorted_indices]\n",
    "\n",
    "print(\"\\n-------------------------------------\")\n",
    "print(\"    selection\\t  |\\tprobability\")\n",
    "print(\"-------------------------------------\")\n",
    "for i in range(len(states)):\n",
    "    print(\"%10s\\t  |\\t  %.4f\" % (state_sorted[i], prob_sorted[i]))\n",
    "print(\"-------------------------------------\")\n"
   ]
  },
  {
   "cell_type": "code",
   "execution_count": 29,
   "id": "8a9064e3-0c61-4d2d-baf9-bdf120c0331d",
   "metadata": {},
   "outputs": [
    {
     "data": {
      "image/png": "[encoded data removed]",
      "text/plain": [
       "<Figure size 640x480 with 1 Axes>"
      ]
     },
     "metadata": {},
     "output_type": "display_data"
    }
   ],
   "source": [
    "print_output(c_final)\n"
   ]
  },
  {
   "attachments": {},
   "cell_type": "markdown",
   "id": "09cae74d",
   "metadata": {},
   "source": [
    "### Influence of different mixers"
   ]
  },
  {
   "cell_type": "code",
   "execution_count": 30,
   "id": "4a5a8120",
   "metadata": {},
   "outputs": [],
   "source": [
    "# difine an universal QAOA ansatz\n",
    "def QAOA_ansatz(params, nlayers, pauli_terms, weights, mixer=\"standard\"):\n",
    "    nqubits = len(pauli_terms[0])\n",
    "    c = tc.Circuit(nqubits)\n",
    "    for i in range(nqubits):\n",
    "        c.h(i)\n",
    "    for j in range(nlayers):\n",
    "        # cost term\n",
    "        for k in range(len(pauli_terms)):\n",
    "            term = pauli_terms[k]\n",
    "            index_of_ones = []\n",
    "            for l in range(len(term)):\n",
    "                if term[l] == 1:\n",
    "                    index_of_ones.append(l)\n",
    "            if len(index_of_ones) == 1:\n",
    "                c.rz(index_of_ones[0], theta=2 * weights[k] * params[2 * j])\n",
    "            elif len(index_of_ones) == 2:\n",
    "                c.exp1(\n",
    "                    index_of_ones[0],\n",
    "                    index_of_ones[1],\n",
    "                    unitary=tc.gates._zz_matrix,\n",
    "                    theta=weights[k] * params[2 * j],\n",
    "                )\n",
    "            else:\n",
    "                raise ValueError(\"Invalid number of Z terms\")\n",
    "\n",
    "        # standard mixer term\n",
    "        if mixer == \"normal\":\n",
    "            for i in range(nqubits):\n",
    "                c.rx(i, theta=params[2 * j + 1])\n",
    "\n",
    "        # ring mixer\n",
    "        if mixer == \"ring\":\n",
    "            for i in range(nqubits - 1):\n",
    "                c.exp1(\n",
    "                    index_of_ones[i],\n",
    "                    index_of_ones[i + 1],\n",
    "                    unitary=tc.gates._xx_matrix,\n",
    "                    theta=params[2 * j + 1],\n",
    "                )\n",
    "            c.exp1(\n",
    "                index_of_ones[-1],\n",
    "                index_of_ones[0],\n",
    "                unitary=tc.gates._xx_matrix,\n",
    "                theta=params[2 * j + 1],\n",
    "            )\n",
    "\n",
    "        # parity ring mixer\n",
    "        if mixer == \"par_ring\":\n",
    "            half = int(nqubits / 2)\n",
    "            for i in range(half + 1):  # even\n",
    "                c.exp1(\n",
    "                    index_of_ones[2 * i - 1],\n",
    "                    index_of_ones[2 * i],\n",
    "                    unitary=tc.gates._xx_matrix,\n",
    "                    theta=params[2 * j + 1],\n",
    "                )\n",
    "            for i in range(half - 1):  # odd\n",
    "                c.exp1(\n",
    "                    index_of_ones[2 * i],\n",
    "                    index_of_ones[2 * i + 1],\n",
    "                    unitary=tc.gates._xx_matrix,\n",
    "                    theta=params[2 * j + 1 + half],\n",
    "                )\n",
    "            if 2 * half < nqubits:\n",
    "                c.exp1(\n",
    "                    index_of_ones[2 * half],\n",
    "                    index_of_ones[2 * half + 1],\n",
    "                    unitary=tc.gates._xx_matrix,\n",
    "                    theta=params[2 * j + 1 + half],\n",
    "                )\n",
    "\n",
    "        # full mixer\n",
    "        if mixer == \"full\":\n",
    "            pass\n",
    "        #\n",
    "        if mixer == \"QAMPA\":\n",
    "            pass\n",
    "    return c"
   ]
  },
  {
   "attachments": {},
   "cell_type": "markdown",
   "id": "ee973af9",
   "metadata": {},
   "source": [
    "### Use CVaR"
   ]
  },
  {
   "cell_type": "code",
   "execution_count": 31,
   "id": "96578bd2",
   "metadata": {},
   "outputs": [],
   "source": [
    "def cvar_value(r, p, percent):\n",
    "    rs = sorted(\n",
    "        [(i, j) for i, j in enumerate(r)], key=lambda s: -s[1]\n",
    "    )  # larger to smaller\n",
    "    sump = 0.0  # the sum of probability\n",
    "    count = 0\n",
    "    cvar_result = 0.0\n",
    "    while sump < percent:\n",
    "        if round(sump + p[rs[count][0]], 7) >= percent:\n",
    "            cvar_result += rs[count][1] * (percent - sump)\n",
    "            count += 1\n",
    "            break\n",
    "        else:\n",
    "            sump += p[rs[count][0]]\n",
    "            cvar_result += rs[count][1] * p[rs[count][0]]\n",
    "            count += 1\n",
    "\n",
    "    cvar_result /= percent\n",
    "    return K.real(cvar_result)"
   ]
  },
  {
   "cell_type": "code",
   "execution_count": 32,
   "id": "153cc99d",
   "metadata": {},
   "outputs": [],
   "source": [
    "def cvar_from_circuit(circuit, num_samples, Q, alpha):\n",
    "    s = circuit.state()\n",
    "    results = tc.quantum.measurement_results(\n",
    "        s, counts=num_samples, format=\"count_dict_bin\"\n",
    "    )  # get readouts\n",
    "    results = {k: v / num_samples for k, v in results.items()}\n",
    "    values = []  # passed to cvar\n",
    "    probability = []  # passed to cvar\n",
    "    for k, v in results.items():\n",
    "        x = np.array([int(bit) for bit in k])\n",
    "        values.append(np.dot(x, np.dot(Q, x)))\n",
    "        probability.append(v)\n",
    "    cvar_result = cvar_value(values, probability, alpha)\n",
    "    return cvar_result"
   ]
  },
  {
   "cell_type": "code",
   "execution_count": 33,
   "id": "d8bd4244",
   "metadata": {},
   "outputs": [
    {
     "name": "stdout",
     "output_type": "stream",
     "text": [
      "tf.Tensor(-452574.0296917448, shape=(), dtype=float64)\n"
     ]
    }
   ],
   "source": [
    "cvar_result = cvar_from_circuit(c_final, 1000, Q, 1)\n",
    "print(cvar_result)\n"
   ]
  },
  {
   "cell_type": "code",
   "execution_count": 34,
   "id": "78455c36",
   "metadata": {},
   "outputs": [],
   "source": [
    "def cvar_loss(nlayers, Q, pauli_terms, weights, percent, params):\n",
    "    c = QAOA_from_Ising(params, nlayers, pauli_terms, weights)\n",
    "    return cvar_from_circuit(c, 1000, Q, percent)\n"
   ]
  },
  {
   "cell_type": "code",
   "execution_count": 37,
   "id": "0e89a5be",
   "metadata": {},
   "outputs": [],
   "source": [
    "def QUBO_CVaR(Q, nlayers, alpha):\n",
    "    pauli_terms, weights, offset = QUBO_to_Ising(Q)\n",
    "    learning_rate = 1e-2\n",
    "\n",
    "    loss = partial(cvar_loss, nlayers, Q, pauli_terms, weights, alpha)\n",
    "    # value, COBYLA\n",
    "    \n",
    "    f_scipy = tc.interfaces.scipy_interface(loss, shape=[2 * nlayers], jit=False, gradient=False)\n",
    "    params = K.implicit_randn(shape=[2 * nlayers], stddev=0.5)\n",
    "    r = optimize.minimize(f_scipy, params, method=\"COBYLA\")\n",
    "\n",
    "    return r"
   ]
  },
  {
   "cell_type": "code",
   "execution_count": 45,
   "id": "dfc8f55c",
   "metadata": {},
   "outputs": [
    {
     "name": "stdout",
     "output_type": "stream",
     "text": [
      "time consumed: 138.1176 s\n"
     ]
    }
   ],
   "source": [
    "#iterations = 500\n",
    "time_start = time.time()\n",
    "final_params = QUBO_CVaR(Q, nlayers, 0.1)\n",
    "clear_output(wait=True)\n",
    "time_end = time.time()\n",
    "print(\"time consumed:\", round(time_end - time_start, 4), \"s\")"
   ]
  },
  {
   "cell_type": "code",
   "execution_count": 44,
   "id": "b0cc6622",
   "metadata": {},
   "outputs": [
    {
     "name": "stdout",
     "output_type": "stream",
     "text": [
      "\n",
      "-------------------------------------\n",
      "    selection\t  |\tprobability\n",
      "-------------------------------------\n",
      "    100000\t  |\t  0.0930\n",
      "    101010\t  |\t  0.0652\n",
      "    001111\t  |\t  0.0599\n",
      "    110100\t  |\t  0.0535\n",
      "    001000\t  |\t  0.0485\n",
      "    100011\t  |\t  0.0441\n",
      "    011100\t  |\t  0.0398\n",
      "    000101\t  |\t  0.0344\n",
      "    011000\t  |\t  0.0336\n",
      "    010000\t  |\t  0.0318\n",
      "    011011\t  |\t  0.0286\n",
      "    101011\t  |\t  0.0271\n",
      "    001110\t  |\t  0.0227\n",
      "    000110\t  |\t  0.0209\n",
      "    011101\t  |\t  0.0205\n",
      "    001100\t  |\t  0.0204\n",
      "    011010\t  |\t  0.0198\n",
      "    001101\t  |\t  0.0190\n",
      "    100101\t  |\t  0.0188\n",
      "    010110\t  |\t  0.0186\n",
      "    101110\t  |\t  0.0160\n",
      "    100010\t  |\t  0.0148\n",
      "    000000\t  |\t  0.0139\n",
      "    101001\t  |\t  0.0136\n",
      "    010011\t  |\t  0.0124\n",
      "    000010\t  |\t  0.0114\n",
      "    110101\t  |\t  0.0112\n",
      "    110011\t  |\t  0.0111\n",
      "    000011\t  |\t  0.0107\n",
      "    000111\t  |\t  0.0106\n",
      "    111101\t  |\t  0.0098\n",
      "    011110\t  |\t  0.0095\n",
      "    010111\t  |\t  0.0092\n",
      "    111111\t  |\t  0.0083\n",
      "    111100\t  |\t  0.0079\n",
      "    110000\t  |\t  0.0079\n",
      "    010101\t  |\t  0.0078\n",
      "    000001\t  |\t  0.0078\n",
      "    110001\t  |\t  0.0074\n",
      "    001010\t  |\t  0.0068\n",
      "    101111\t  |\t  0.0068\n",
      "    111110\t  |\t  0.0063\n",
      "    100100\t  |\t  0.0057\n",
      "    111011\t  |\t  0.0049\n",
      "    011111\t  |\t  0.0046\n",
      "    010010\t  |\t  0.0045\n",
      "    111001\t  |\t  0.0042\n",
      "    100111\t  |\t  0.0041\n",
      "    001011\t  |\t  0.0040\n",
      "    110110\t  |\t  0.0038\n",
      "    100001\t  |\t  0.0038\n",
      "    110010\t  |\t  0.0036\n",
      "    011001\t  |\t  0.0032\n",
      "    101000\t  |\t  0.0030\n",
      "    101100\t  |\t  0.0021\n",
      "    000100\t  |\t  0.0021\n",
      "    111010\t  |\t  0.0012\n",
      "    110111\t  |\t  0.0011\n",
      "    101101\t  |\t  0.0010\n",
      "    010001\t  |\t  0.0010\n",
      "    100110\t  |\t  0.0006\n",
      "    001001\t  |\t  0.0004\n",
      "    010100\t  |\t  0.0001\n",
      "    111000\t  |\t  0.0000\n",
      "-------------------------------------\n"
     ]
    }
   ],
   "source": [
    "final_params.x\n",
    "c_final = QAOA_from_Ising(\n",
    "    final_params.x, nlayers, portfolio_pauli_terms, portfolio_weights\n",
    ")\n",
    "states = []\n",
    "for i in range(2**6):\n",
    "    a = f\"{bin(i)[2:]:0>{6}}\"\n",
    "    states.append(a)\n",
    "probs = K.numpy(c_final.probability()).round(decimals=6)\n",
    "sorted_indices = np.argsort(probs)[::-1]\n",
    "state_sorted = np.array(states)[sorted_indices]\n",
    "prob_sorted = np.array(probs)[sorted_indices]\n",
    "\n",
    "print(\"\\n-------------------------------------\")\n",
    "print(\"    selection\\t  |\\tprobability\")\n",
    "print(\"-------------------------------------\")\n",
    "for i in range(len(states)):\n",
    "    print(\"%10s\\t  |\\t  %.4f\" % (state_sorted[i], prob_sorted[i]))\n",
    "print(\"-------------------------------------\")"
   ]
  }
 ],
 "metadata": {
  "kernelspec": {
   "display_name": "Python 3 (ipykernel)",
   "language": "python",
   "name": "python3"
  },
  "language_info": {
   "codemirror_mode": {
    "name": "ipython",
    "version": 3
   },
   "file_extension": ".py",
   "mimetype": "text/x-python",
   "name": "python",
   "nbconvert_exporter": "python",
   "pygments_lexer": "ipython3",
   "version": "3.10.10"
  }
 },
 "nbformat": 4,
 "nbformat_minor": 5
}
