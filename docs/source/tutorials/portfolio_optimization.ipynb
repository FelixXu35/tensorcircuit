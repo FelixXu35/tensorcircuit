{
 "cells": [
  {
   "attachments": {},
   "cell_type": "markdown",
   "id": "6ddb8a88-779a-43f7-ae14-115463bd87f5",
   "metadata": {},
   "source": [
    "# Portfolio Optimization\n",
    "\n",
    "## Introduction\n",
    "\n",
    "Consider the following scenario: Xiaoming, an astute individual, possesses a sum of money represented by $B$ and is contemplating investing it in the stock market. The market comprises of $n$ shares, each having an identical price. Xiaoming's objective is to maximize returns while minimizing risk, taking into account the varying levels of risk tolerance among individuals. Xiaoming's personal risk tolerance is represented by $p$. In light of these considerations, the question arises: which shares should Xiaoming choose to construct an optimal portfolio?\n",
    "\n",
    "Xiaoming's predicament falls under the purview of portfolio optimization problems. These problems are classified as Quadratic Unconstrained Binary Optimization (QUBO) problems, wherein binary numbers are utilized to represent decisions. In this case, \"1\" signifies selection, while \"0\" denotes the opposite. To address the challenge of portfolio optimization, the Quantum Approximate Optimization Algorithm (QAOA) is employed.\n",
    "\n",
    "## Solving portfolio optimization problems with QAOA\n",
    "\n",
    "In a simple boolean Markowitz portfolio optimization problem, we wish to solve \n",
    "\n",
    "$$\\min_{x\\in\\{0,1\\}^n}\\quad q x^T \\Sigma x - \\mu^T x$$\n",
    "\n",
    "subject to a constraint\n",
    "\n",
    "$$ 1^T x = B$$\n",
    "\n",
    "where \n",
    "* $n$: number of assets under consideration\n",
    "* $q > 0 $: risk-appetite\n",
    "* $\\Sigma \\in \\mathbb{R}^{n\\times n}$: covariance matrix of the assets\n",
    "* $\\mu\\in\\mathbb{R}^n$: mean return of the assets\n",
    "* $B$: budget (i.e., total number of assets out of $n$ that can be selected)\n",
    "\n",
    "Our first step is to convert this constrained quadratic programming problem into a QUBO.  We do this by adding a penalty factor $t$ and consider the alternative problem:\n",
    "\n",
    "$$ \\min_{x\\in\\{0,1\\}^n}\\quad q x^T \\Sigma x - \\mu^Tx  + t(1^Tx-B)^2$$\n",
    "\n",
    "The variables in the linear terms $\\mu^Tx = \\mu_1 x_1 + \\mu_2 x_2+\\ldots$ can all be written in a squared form, since all boolean variables $0^2=0,\\ 1^2=1$. The same trick is applied on the middle term of $t(1^Tx-B)^2$. Then the function is written as\n",
    "\n",
    "$$\\min_{x\\in\\{0,1\\}^n}\\quad q x^T \\Sigma x - \\sum_{i=1}^n\\mu_i x_i^2  + t(1^Tx-B)^2$$\n",
    "\n",
    "which is a QUBO problem\n",
    "\n",
    "$$\\min_{x\\in\\{0,1\\}^n}\\quad x^T Q X + tB^2$$\n",
    "\n",
    "where matrix $Q$ is\n",
    "\n",
    "$$ Q = q\\Sigma -\\mu\\begin{pmatrix}1 & \\\\ & 1\\\\ & & \\ddots\\end{pmatrix} + t\\begin{pmatrix}1 -2B & 1 & \\ldots & 1 \\\\\n",
    "1 & 1-2B & 1 & \\ldots \\\\1 & 1 & 1-2B \\\\\n",
    "\\vdots\\end{pmatrix}$$\n",
    "\n",
    "and we ignore the constant term $t B^2$. We can now solve this by QAOA as above.\n",
    "\n",
    "Define the python class `StockData` to convert real-world stocks data into the annualized return vector and annualized covariance matrix."
   ]
  },
  {
   "cell_type": "code",
   "execution_count": 1,
   "id": "0fbc7d11",
   "metadata": {},
   "outputs": [],
   "source": [
    "## Ready to delete\n",
    "from typing import List\n",
    "from QAOA_funcs import QUBO_to_Ising, print_result_cost, print_result_prob\n",
    "from QAOA_funcs import print_Q_cost"
   ]
  },
  {
   "cell_type": "code",
   "execution_count": 2,
   "id": "4f4feab6",
   "metadata": {},
   "outputs": [],
   "source": [
    "import tensorcircuit as tc\n",
    "import numpy as np\n",
    "import tensorflow as tf\n",
    "import matplotlib.pyplot as plt\n",
    "from IPython.display import clear_output\n",
    "from functools import partial\n",
    "import time\n",
    "import scipy.optimize as optimize\n",
    "\n",
    "K = tc.set_backend(\"tensorflow\")\n",
    "tf.compat.v1.logging.set_verbosity(tf.compat.v1.logging.ERROR)"
   ]
  },
  {
   "cell_type": "code",
   "execution_count": 3,
   "id": "9580416a",
   "metadata": {},
   "outputs": [],
   "source": [
    "class StockData:\n",
    "    '''convert real-world stock data to annualized covariance matrix and annualized return\n",
    "    input: a list of continuous stock data in the same time span\n",
    "    output: annualized convariance matrix and return\n",
    "    '''\n",
    "\n",
    "    def __init__(self, data):\n",
    "        self.data = data  # add data\n",
    "        self.n_stocks = len(data)  # num of stocks\n",
    "\n",
    "        # check the number of days\n",
    "        n_days = [len(i) for i in data]\n",
    "        if max(n_days) != (sum(n_days) / len(n_days)):\n",
    "            raise Exception(\"timespan of stocks should be the same\")\n",
    "        self.n_days = len(data[1])\n",
    "\n",
    "        # calculate the daily percentage price change\n",
    "        self.daily_change = []  # daily percentage price change\n",
    "        for i in range(self.n_stocks):\n",
    "            each_stcok = []\n",
    "            for j in range(self.n_days - 1):\n",
    "                each_stcok.append((data[i][j + 1] - data[i][j]) / data[i][j])\n",
    "            self.daily_change.append(each_stcok)\n",
    "\n",
    "    # calculate annualized return (mu)\n",
    "    def get_return(self):\n",
    "        ret = np.mean(self.daily_change, axis=1)\n",
    "        return ret\n",
    "\n",
    "    # calculate annualized covariance matrix (sigma)\n",
    "    def get_covariance(self):\n",
    "        return np.cov(self.daily_change)\n",
    "\n",
    "    def get_pentalty(self, cov, ret, risk_pre, budget):\n",
    "        # get all fesible and unfeasible states\n",
    "        self.f_state = []  # feasible states (num of '1's equal to budge)\n",
    "        self.uf_state = []  # unfeasible states\n",
    "        self.all_state = []\n",
    "        for i in range(2**self.n_stocks):\n",
    "            state = f\"{bin(i)[2:]:0>{self.n_stocks}}\"\n",
    "            n_ones = 0\n",
    "            for j in state:\n",
    "                if j == \"1\":\n",
    "                    n_ones += 1\n",
    "            self.all_state.append(state)\n",
    "            if n_ones == budget:\n",
    "                self.f_state.append(state)\n",
    "            else:\n",
    "                self.uf_state.append(state)\n",
    "\n",
    "        # determine the penalty factor\n",
    "        mark = False\n",
    "        penalty = 0  # initial value\n",
    "        while mark == False:\n",
    "            R = np.diag(ret)\n",
    "            S = np.ones((self.n_stocks, self.n_stocks)) - 2 * budget * np.diag(\n",
    "                np.ones(self.n_stocks)\n",
    "            )\n",
    "            Q = risk_pre * cov - R + penalty * S\n",
    "            F = []\n",
    "            for state in self.f_state:\n",
    "                x = np.array([int(bit) for bit in state])\n",
    "                F.append(np.dot(x, np.dot(Q, x)) + penalty * budget**2)\n",
    "            Fmin = np.amin(F)\n",
    "            Fbar = np.mean(F)\n",
    "            F = []\n",
    "            for state in self.uf_state:\n",
    "                x = np.array([int(bit) for bit in state])\n",
    "                F.append(np.dot(x, np.dot(Q, x)) + penalty * budget**2)\n",
    "            Fmin_uf = np.amin(F)\n",
    "            location = np.where(F == Fmin_uf)[0][0]\n",
    "            if Fmin_uf < 0.5 * (Fmin + Fbar):\n",
    "                n_ones = 0\n",
    "                for j in self.uf_state[location]:\n",
    "                    if j == \"1\":\n",
    "                        n_ones += 1\n",
    "                penalty += (0.5 * (Fmin + Fbar) - Fmin_uf) / (n_ones - budget) ** 2\n",
    "                # mark = True\n",
    "            else:\n",
    "                mark = True  # ready to return the penalty\n",
    "        return penalty"
   ]
  },
  {
   "cell_type": "code",
   "execution_count": 4,
   "id": "a7eb3a74",
   "metadata": {},
   "outputs": [],
   "source": [
    "# real-world stock data, calculated using the functions above\n",
    "# stock name: aapl, amzn, meta, msft, qcom, sbux\n",
    "# from 10/06/2022 to 09/06/2023\n",
    "mu = [-1.1734e-03, 1.2696e00, 4.3733e-01, 7.6221e-02, 2.3281e-02, 8.1355e-01]\n",
    "sigma = np.array(\n",
    "    [\n",
    "        [3.8891e-03, -3.0224e-02, 2.0261e-03, 5.6387e-04, 8.3185e-03, 1.9666e-02],\n",
    "        [-3.0224e-02, 1.0839e02, 1.3541e01, -2.3283e-01, -2.0257e-01, 1.4126e01],\n",
    "        [2.0261e-03, 1.3541e01, 1.2007e01, -9.7126e-02, -4.4600e-02, 4.3367e00],\n",
    "        [5.6387e-04, -2.3283e-01, -9.7126e-02, 1.4255e00, 1.6567e-02, -5.6537e-02],\n",
    "        [8.3185e-03, -2.0257e-01, -4.4600e-02, 1.6567e-02, 5.3393e-02, -1.8909e-02],\n",
    "        [1.9666e-02, 1.4126e01, 4.3367e00, -5.6537e-02, -1.8909e-02, 3.0492e01],\n",
    "    ]\n",
    ")"
   ]
  },
  {
   "cell_type": "code",
   "execution_count": 5,
   "id": "3080b901-fb6c-4bda-8348-c96540cbc39a",
   "metadata": {},
   "outputs": [],
   "source": [
    "def QUBO_from_portfolio(cov, mean, q, B, t):\n",
    "    \"\"\"convert portfolio parameters to a Q-matrix\n",
    "    cov: n-by-n covariance numpy array\n",
    "    mean: numpy array of means\n",
    "    q: the risk preference of investor\n",
    "    B: budget\n",
    "    t: penalty factor\n",
    "    \"\"\"\n",
    "    n = cov.shape[0]\n",
    "    R = np.diag(mean)\n",
    "    S = np.ones((n, n)) - 2 * B * np.diag(np.ones(n))\n",
    "\n",
    "    Q = q * cov - R + t * S\n",
    "    return Q"
   ]
  },
  {
   "attachments": {},
   "cell_type": "markdown",
   "id": "b4cdcb0e-15a2-461c-b487-084488486c67",
   "metadata": {},
   "source": [
    "We can test this using the qiskit_finance package to generate some stock covariance and mean data:\n",
    "\n",
    "*Note that this was tested with qiskit version 0.39.3 and qiskit-finance version 0.3.4.*"
   ]
  },
  {
   "attachments": {},
   "cell_type": "markdown",
   "id": "f6dc53d4-7ed0-436d-aa1f-8674c56e756e",
   "metadata": {},
   "source": [
    "Using this mean and covariance data, we can now define our portfolio optimization problem, convert it to a QUBO matrix, and then extract the pauli terms and weights"
   ]
  },
  {
   "cell_type": "code",
   "execution_count": 6,
   "id": "3f6edcd5-3c10-49fc-86ea-160fc6d3187e",
   "metadata": {},
   "outputs": [],
   "source": [
    "q = 0.5 # the risk preference of investor\n",
    "budget = 3  # Note that in this example, there are 6 assets, but a budget of only 3\n",
    "penalty = 21.848849746478102#80299.22578764349 # calculated using the function above\n",
    "penalty1 = 2\n",
    "\n",
    "#Q = QUBO_from_portfolio(sigma, mu, q, budget, penalty)\n",
    "Q = QUBO_from_portfolio(sigma, mu, q, budget, penalty)\n",
    "portfolio_pauli_terms, portfolio_weights, portfolio_offset = QUBO_to_Ising(Q)"
   ]
  },
  {
   "cell_type": "code",
   "execution_count": 7,
   "id": "6a9d41c9",
   "metadata": {},
   "outputs": [
    {
     "name": "stdout",
     "output_type": "stream",
     "text": [
      "\n",
      "-------------------------------------\n",
      "    selection\t  |\t  cost\n",
      "-------------------------------------\n",
      "    100110\t  |\t-195.9711\n",
      "    101010\t  |\t-191.1012\n",
      "    001110\t  |\t-190.5587\n",
      "    101100\t  |\t-190.5284\n",
      "    100011\t  |\t-182.1916\n",
      "    000111\t  |\t-181.6261\n",
      "    100101\t  |\t-181.6039\n",
      "    100010\t  |\t-174.7759\n",
      "-------------------------------------\n"
     ]
    }
   ],
   "source": [
    "print_Q_cost(Q, wrap=True)"
   ]
  },
  {
   "cell_type": "code",
   "execution_count": null,
   "id": "48dfc02e",
   "metadata": {},
   "outputs": [],
   "source": [
    "states = []\n",
    "for i in range(2**n_stocks):\n",
    "    a = f\"{bin(i)[2:]:0>{n_stocks}}\"\n",
    "    n_ones = 0\n",
    "    for j in a:\n",
    "        if j == '1':\n",
    "            n_ones += 1\n",
    "    if True:#n_ones != budget:\n",
    "        states.append(a)\n",
    "print(states)"
   ]
  },
  {
   "cell_type": "code",
   "execution_count": null,
   "id": "809b90fa-7047-4c88-b862-355da4f58a50",
   "metadata": {},
   "outputs": [],
   "source": [
    "# Brutely search over classical results for comparison before we run QAOA\n",
    "# the results are sorted with cost\n",
    "cost_dict = {}\n",
    "for selection in states:\n",
    "    x = np.array([int(bit) for bit in selection])\n",
    "    cost_dict[selection] = np.dot(x, np.dot(Q, x))\n",
    "cost_sorted = dict(sorted(cost_dict.items(), key=lambda item: item[1]))\n",
    "print(\"\\n-------------------------------------\")\n",
    "print(\"    selection\\t  |\\t  cost\")\n",
    "print(\"-------------------------------------\")\n",
    "for k, v in cost_sorted.items():\n",
    "    print(\"%10s\\t  |\\t%.4f\" % (k, v))\n",
    "print(\"-------------------------------------\")"
   ]
  },
  {
   "attachments": {},
   "cell_type": "markdown",
   "id": "c34f3398",
   "metadata": {},
   "source": [
    "### use vvage"
   ]
  },
  {
   "cell_type": "code",
   "execution_count": null,
   "id": "9249ea96",
   "metadata": {},
   "outputs": [],
   "source": [
    "iterations = 2000\n",
    "nlayers = 7\n",
    "time_start = time.time()\n",
    "final_params = QUBO_QAOA(Q, QAOA_loss, nlayers, iterations, vvag=True, ncircuits=1000)\n",
    "clear_output(wait=True)\n",
    "time_end = time.time()\n",
    "print(\"time consumed:\", round(time_end - time_start, 4), \"s\")"
   ]
  },
  {
   "cell_type": "code",
   "execution_count": null,
   "id": "2911d44e",
   "metadata": {},
   "outputs": [],
   "source": [
    "rank = []\n",
    "for single_params in final_params:\n",
    "    c_final = QAOA_from_Ising(\n",
    "        single_params, nlayers, portfolio_pauli_terms, portfolio_weights\n",
    "    )\n",
    "    probs = K.numpy(c_final.probability()).round(decimals=6)\n",
    "    sorted_indices = np.argsort(probs)[::-1]\n",
    "    rank.append(np.where(sorted_indices==38)[0][0])\n",
    "print(rank)"
   ]
  },
  {
   "cell_type": "code",
   "execution_count": null,
   "id": "d576248a",
   "metadata": {},
   "outputs": [],
   "source": [
    "good_results = [i for i in rank if i < 8]\n",
    "print('the probability that the best combination shows up in top 8 is:', len(good_results)/len(rank)*100, '%')"
   ]
  },
  {
   "cell_type": "code",
   "execution_count": null,
   "id": "cb8edd08",
   "metadata": {},
   "outputs": [],
   "source": [
    "import pandas as pd\n",
    "df = pd.DataFrame(rank)\n",
    "df.to_csv('vvag.csv')"
   ]
  },
  {
   "cell_type": "code",
   "execution_count": null,
   "id": "19cb5117",
   "metadata": {},
   "outputs": [],
   "source": [
    "plt.plot(rank)"
   ]
  },
  {
   "cell_type": "code",
   "execution_count": null,
   "id": "037b4155",
   "metadata": {},
   "outputs": [],
   "source": []
  },
  {
   "attachments": {},
   "cell_type": "markdown",
   "id": "b5e69a34-87dc-47b4-aeb2-3b9a03fd0974",
   "metadata": {},
   "source": [
    "We see that, due to the penalty, the lowest energy solutions correspond to 0111, 1011, 1101, 1110, i.e. the portfolios with only 3 assets."
   ]
  },
  {
   "cell_type": "code",
   "execution_count": null,
   "id": "80c1de6c-d3a4-4ea5-922a-bffb59dd1ea3",
   "metadata": {},
   "outputs": [],
   "source": [
    "iterations = 1000\n",
    "nlayers = 10\n",
    "time_start = time.time()\n",
    "final_params = QUBO_QAOA(Q, QAOA_loss, nlayers, iterations)\n",
    "clear_output(wait=True)\n",
    "time_end = time.time()\n",
    "print(\"time consumed:\", round(time_end - time_start, 4), \"s\")"
   ]
  },
  {
   "cell_type": "code",
   "execution_count": null,
   "id": "f725ea52",
   "metadata": {},
   "outputs": [],
   "source": [
    "c_final = QAOA_from_Ising(\n",
    "    final_params, nlayers, portfolio_pauli_terms, portfolio_weights\n",
    ")\n",
    "states = []\n",
    "for i in range(2**n_stocks):\n",
    "    a = f\"{bin(i)[2:]:0>{n_stocks}}\"\n",
    "    states.append(a)\n",
    "probs = K.numpy(c_final.probability()).round(decimals=6)\n",
    "sorted_indices = np.argsort(probs)[::-1]\n",
    "state_sorted = np.array(states)[sorted_indices]\n",
    "prob_sorted = np.array(probs)[sorted_indices]\n",
    "\n",
    "print(\"\\n-------------------------------------\")\n",
    "print(\"    selection\\t  |\\tprobability\")\n",
    "print(\"-------------------------------------\")\n",
    "for i in range(len(states)):\n",
    "    print(\"%10s\\t  |\\t  %.4f\" % (state_sorted[i], prob_sorted[i]))\n",
    "print(\"-------------------------------------\")\n"
   ]
  },
  {
   "cell_type": "code",
   "execution_count": null,
   "id": "8a9064e3-0c61-4d2d-baf9-bdf120c0331d",
   "metadata": {},
   "outputs": [],
   "source": [
    "print_output(c_final)\n"
   ]
  },
  {
   "attachments": {},
   "cell_type": "markdown",
   "id": "09cae74d",
   "metadata": {},
   "source": [
    "### Influence of different mixers"
   ]
  },
  {
   "cell_type": "code",
   "execution_count": null,
   "id": "4a5a8120",
   "metadata": {},
   "outputs": [],
   "source": [
    "# difine an universal QAOA ansatz\n",
    "def QAOA_ansatz_mixer(params, nlayers, pauli_terms, weights, mixer=\"standard\", gap=5):\n",
    "    nqubits = len(pauli_terms[0])\n",
    "    c = tc.Circuit(nqubits)\n",
    "    for i in range(nqubits):\n",
    "        c.h(i)\n",
    "    for j in range(nlayers):\n",
    "        # cost term\n",
    "        for k in range(len(pauli_terms)):\n",
    "            term = pauli_terms[k]\n",
    "            index_of_ones = []\n",
    "            for l in range(len(term)):\n",
    "                if term[l] == 1:\n",
    "                    index_of_ones.append(l)\n",
    "            if len(index_of_ones) == 1:\n",
    "                c.rz(index_of_ones[0], theta=2 * weights[k] * params[2 * j])\n",
    "            elif len(index_of_ones) == 2:\n",
    "                c.exp1(\n",
    "                    index_of_ones[0],\n",
    "                    index_of_ones[1],\n",
    "                    unitary=tc.gates._zz_matrix,\n",
    "                    theta=weights[k] * params[2 * j],\n",
    "                )\n",
    "            else:\n",
    "                raise ValueError(\"Invalid number of Z terms\")\n",
    "\n",
    "        # standard mixer term\n",
    "        if mixer == \"standard\":\n",
    "            for i in range(nqubits):\n",
    "                c.rx(i, theta=params[2 * j + 1])\n",
    "\n",
    "        # XY mixer\n",
    "        elif mixer == \"ring\":\n",
    "            for i in range(nqubits - 1):\n",
    "                c.exp1(i, i + 1, unitary=tc.gates._xx_matrix, theta=params[2 * j + 1])\n",
    "                c.exp1(i, i + 1, unitary=tc.gates._yy_matrix, theta=params[2 * j + 1])\n",
    "            c.exp1(nqubits - 1, 0, unitary=tc.gates._xx_matrix, theta=params[2 * j + 1])\n",
    "            c.exp1(nqubits - 1, 0, unitary=tc.gates._yy_matrix, theta=params[2 * j + 1])\n",
    "\n",
    "        # parity ring mixer\n",
    "        elif mixer == \"par_ring\":\n",
    "            half = int(np.floor(nqubits / 2))\n",
    "            if 2 * half < nqubits:\n",
    "                end = half\n",
    "            else:\n",
    "                end = half - 1\n",
    "            for i in range(half):  # even\n",
    "                c.exp1(2 * i, 2 * i + 1, unitary=tc.gates._xx_matrix, theta=params[2 * j + 1])\n",
    "                c.exp1(2 * i, 2 * i + 1, unitary=tc.gates._yy_matrix, theta=params[2 * j + 1])\n",
    "            for i in range(end):  # odd\n",
    "                c.exp1(2 * i + 1, 2 * i + 2, unitary=tc.gates._xx_matrix, theta=params[2 * j + 1])\n",
    "                c.exp1(2 * i + 1, 2 * i + 2, unitary=tc.gates._yy_matrix, theta=params[2 * j + 1])\n",
    "\n",
    "        # full mixer\n",
    "        elif mixer == \"full\":\n",
    "            for i in range(nqubits - gap):\n",
    "                c.exp1(i, i + gap, unitary=tc.gates._xx_matrix, theta=params[2 * j + 1])\n",
    "                c.exp1(i, i + gap, unitary=tc.gates._yy_matrix, theta=params[2 * j + 1])\n",
    "            for i in range(gap):\n",
    "                c.exp1(nqubits - gap - 1 + i, 1 + gap, unitary=tc.gates._xx_matrix, theta=params[2 * j + 1])\n",
    "                c.exp1(nqubits - gap - 1 + i, 1 + gap, unitary=tc.gates._yy_matrix, theta=params[2 * j + 1])\n",
    "        #\n",
    "        elif mixer == \"QAMPA\":\n",
    "            pass\n",
    "\n",
    "        else:\n",
    "            raise RuntimeError(\"Invalid mixer name\")\n",
    "    return c"
   ]
  },
  {
   "cell_type": "code",
   "execution_count": null,
   "id": "0d88ca56",
   "metadata": {},
   "outputs": [],
   "source": [
    "def QAOA_loss_mixer(nlayers, pauli_terms, weights, params):\n",
    "    c = QAOA_ansatz_mixer(params, nlayers, pauli_terms, weights, 'par_ring')\n",
    "    return Ising_loss(c, pauli_terms, weights)"
   ]
  },
  {
   "cell_type": "code",
   "execution_count": null,
   "id": "8f7c71b9",
   "metadata": {},
   "outputs": [],
   "source": [
    "iterations = 500\n",
    "time_start = time.time()\n",
    "final_params = QUBO_QAOA(Q, QAOA_loss_mixer, nlayers, iterations)\n",
    "clear_output(wait=True)\n",
    "time_end = time.time()\n",
    "print(\"time consumed:\", round(time_end - time_start, 4), \"s\")"
   ]
  },
  {
   "attachments": {},
   "cell_type": "markdown",
   "id": "ee973af9",
   "metadata": {},
   "source": [
    "### Use CVaR"
   ]
  },
  {
   "cell_type": "code",
   "execution_count": null,
   "id": "96578bd2",
   "metadata": {},
   "outputs": [],
   "source": [
    "def cvar_value(r, p, percent):\n",
    "    rs = sorted(\n",
    "        [(i, j) for i, j in enumerate(r)], key=lambda s: -s[1]\n",
    "    )  # larger to smaller\n",
    "    sump = 0.0  # the sum of probability\n",
    "    count = 0\n",
    "    cvar_result = 0.0\n",
    "    while sump < percent:\n",
    "        if round(sump + p[rs[count][0]], 7) >= percent:\n",
    "            cvar_result += rs[count][1] * (percent - sump)\n",
    "            count += 1\n",
    "            break\n",
    "        else:\n",
    "            sump += p[rs[count][0]]\n",
    "            cvar_result += rs[count][1] * p[rs[count][0]]\n",
    "            count += 1\n",
    "\n",
    "    cvar_result /= percent\n",
    "    return K.real(cvar_result)"
   ]
  },
  {
   "cell_type": "code",
   "execution_count": null,
   "id": "153cc99d",
   "metadata": {},
   "outputs": [],
   "source": [
    "def cvar_from_circuit(circuit, num_samples, Q, alpha):\n",
    "    s = circuit.state()\n",
    "    results = tc.quantum.measurement_results(\n",
    "        s, counts=num_samples, format=\"count_dict_bin\"\n",
    "    )  # get readouts\n",
    "    results = {k: v / num_samples for k, v in results.items()}\n",
    "    values = []  # passed to cvar\n",
    "    probability = []  # passed to cvar\n",
    "    for k, v in results.items():\n",
    "        x = np.array([int(bit) for bit in k])\n",
    "        values.append(np.dot(x, np.dot(Q, x)))\n",
    "        probability.append(v)\n",
    "    cvar_result = cvar_value(values, probability, alpha)\n",
    "    return cvar_result"
   ]
  },
  {
   "cell_type": "code",
   "execution_count": null,
   "id": "d8bd4244",
   "metadata": {},
   "outputs": [],
   "source": [
    "cvar_result = cvar_from_circuit(c_final, 1000, Q, 1)\n",
    "print(cvar_result)\n"
   ]
  },
  {
   "cell_type": "code",
   "execution_count": null,
   "id": "78455c36",
   "metadata": {},
   "outputs": [],
   "source": [
    "def cvar_loss(nlayers, Q, pauli_terms, weights, percent, params):\n",
    "    c = QAOA_from_Ising(params, nlayers, pauli_terms, weights)\n",
    "    return cvar_from_circuit(c, 1000, Q, percent)\n"
   ]
  },
  {
   "cell_type": "code",
   "execution_count": null,
   "id": "0e89a5be",
   "metadata": {},
   "outputs": [],
   "source": [
    "def QUBO_CVaR(Q, nlayers, alpha):\n",
    "    pauli_terms, weights, offset = QUBO_to_Ising(Q)\n",
    "    learning_rate = 1e-2\n",
    "\n",
    "    loss = partial(cvar_loss, nlayers, Q, pauli_terms, weights, alpha)\n",
    "    # value, COBYLA\n",
    "    \n",
    "    f_scipy = tc.interfaces.scipy_interface(loss, shape=[2 * nlayers], jit=False, gradient=False)\n",
    "    params = K.implicit_randn(shape=[2 * nlayers], stddev=0.5)\n",
    "    r = optimize.minimize(f_scipy, params, method=\"COBYLA\")\n",
    "\n",
    "    return r"
   ]
  },
  {
   "cell_type": "code",
   "execution_count": null,
   "id": "10d7c7ea",
   "metadata": {},
   "outputs": [],
   "source": [
    "def QUBO_CVaR_vvag(Q, nlayers, alpha):\n",
    "    pauli_terms, weights, offset = QUBO_to_Ising(Q)\n",
    "    learning_rate = 1e-2\n",
    "\n",
    "    cvar_vvag = tc.backend.vvag(cvar_loss, argnums=0, vectorized_argnums=0)\n",
    "    ncircuits = 3\n",
    "    params = K.implicit_randn(\n",
    "        shape=[ncircuits, 2 * nlayers], stddev=0.1\n",
    "    )  # initial parameters\n",
    "    loss = partial(cvar_vvag, nlayers, Q, pauli_terms, weights, alpha)\n",
    "    \n",
    "    f_scipy = tc.interfaces.scipy_interface(loss, shape=[ncircuits,2 * nlayers], jit=False, gradient=False)\n",
    "    #params = K.implicit_randn(shape=[2 * nlayers], stddev=0.5)\n",
    "    r = optimize.minimize(f_scipy, params, method=\"COBYLA\")\n",
    "\n",
    "    return r"
   ]
  },
  {
   "cell_type": "code",
   "execution_count": null,
   "id": "dfc8f55c",
   "metadata": {},
   "outputs": [],
   "source": [
    "# iterations = 500\n",
    "time_start = time.time()\n",
    "nlayers = 20\n",
    "final_params = QUBO_CVaR(Q, nlayers, 0.6)\n",
    "clear_output(wait=True)\n",
    "time_end = time.time()\n",
    "print(\"time consumed:\", round(time_end - time_start, 4), \"s\")"
   ]
  },
  {
   "attachments": {},
   "cell_type": "markdown",
   "id": "e8e3e66a",
   "metadata": {},
   "source": [
    "# probabilities"
   ]
  },
  {
   "cell_type": "code",
   "execution_count": null,
   "id": "a3f4f730",
   "metadata": {},
   "outputs": [],
   "source": [
    "prob = [[]]\n",
    "last_prob = 0\n",
    "single_prob = []\n",
    "for j in range(2):\n",
    "    clear_output(wait=True)\n",
    "    print('times', j)\n",
    "    print('last prob', last_prob)\n",
    "    iterations = 1000\n",
    "    nlayers = 10\n",
    "    time_start = time.time()\n",
    "    final_params = QUBO_QAOA(Q, QAOA_loss, nlayers, iterations)\n",
    "    c_final = QAOA_from_Ising(\n",
    "        final_params, nlayers, portfolio_pauli_terms, portfolio_weights\n",
    "    )\n",
    "    probs = K.numpy(c_final.probability()).round(decimals=6)\n",
    "    single_prob.append(probs[38])\n",
    "    last_prob = probs[38]\n",
    "    print(single_prob)\n",
    "prob.append(single_prob)\n",
    "clear_output(wait=True)\n",
    "print(prob)"
   ]
  },
  {
   "attachments": {},
   "cell_type": "markdown",
   "id": "b1cec17e",
   "metadata": {},
   "source": [
    "# rankings"
   ]
  },
  {
   "cell_type": "code",
   "execution_count": null,
   "id": "e0a12290",
   "metadata": {},
   "outputs": [],
   "source": [
    "alpha = [0.1, 0.2, 0.3, 0.4, 0.5, 0.6, 0.7, 0.8, 0.9]\n",
    "total_rank = [[]]\n",
    "last_rank = 0\n",
    "n_layers = 15\n",
    "for i in alpha:\n",
    "    rank = []\n",
    "    for j in range(20):\n",
    "        clear_output(wait=True)\n",
    "        print('alpha', i)\n",
    "        print('times', j)\n",
    "        print('rank', rank)\n",
    "        print(\"total\", total_rank)\n",
    "        result = QUBO_CVaR(Q, nlayers, i)\n",
    "        c_final = QAOA_from_Ising(\n",
    "            result.x, nlayers, portfolio_pauli_terms, portfolio_weights\n",
    "        )\n",
    "        probs = K.numpy(c_final.probability()).round(decimals=6)\n",
    "        prob35 = probs[35]\n",
    "        loc = np.where(np.sort(probs)==prob35)\n",
    "        rank.append(loc[0][0])\n",
    "    total_rank.append(rank)\n",
    "clear_output(wait=True)\n",
    "print(\"total\", total_rank)"
   ]
  },
  {
   "cell_type": "code",
   "execution_count": null,
   "id": "4abb404f",
   "metadata": {},
   "outputs": [],
   "source": [
    "import pandas as pd\n",
    "name = ['1', '2', '3', '4', '5', '6', '7', '8', '9']\n",
    "df = pd.DataFrame(total_rank[1:])\n",
    "df.to_csv('rank.csv')"
   ]
  },
  {
   "cell_type": "code",
   "execution_count": null,
   "id": "c8c621fd",
   "metadata": {},
   "outputs": [],
   "source": [
    "prob5 = [[round(j, 5) for j in i] for i in prob]\n",
    "print(prob5)"
   ]
  },
  {
   "cell_type": "code",
   "execution_count": null,
   "id": "b0cc6622",
   "metadata": {},
   "outputs": [],
   "source": [
    "final_params.x\n",
    "c_final = QAOA_from_Ising(\n",
    "    final_params.x, nlayers, portfolio_pauli_terms, portfolio_weights\n",
    ")\n",
    "states = []\n",
    "for i in range(2**n_stocks):\n",
    "    a = f\"{bin(i)[2:]:0>{n_stocks}}\"\n",
    "    states.append(a)\n",
    "probs = K.numpy(c_final.probability()).round(decimals=6)\n",
    "sorted_indices = np.argsort(probs)[::-1]\n",
    "state_sorted = np.array(states)[sorted_indices]\n",
    "prob_sorted = np.array(probs)[sorted_indices]\n",
    "\n",
    "print(\"\\n-------------------------------------\")\n",
    "print(\"    selection\\t  |\\tprobability\")\n",
    "print(\"-------------------------------------\")\n",
    "for i in range(len(states)):\n",
    "    print(\"%10s\\t  |\\t  %.4f\" % (state_sorted[i], prob_sorted[i]))\n",
    "print(\"-------------------------------------\")"
   ]
  },
  {
   "attachments": {},
   "cell_type": "markdown",
   "id": "a078a2db",
   "metadata": {},
   "source": [
    "# Rewrite with Qiskit"
   ]
  },
  {
   "cell_type": "code",
   "execution_count": null,
   "id": "9a480633",
   "metadata": {},
   "outputs": [],
   "source": []
  },
  {
   "cell_type": "code",
   "execution_count": null,
   "id": "632e5d7f",
   "metadata": {},
   "outputs": [],
   "source": [
    "from qiskit import QuantumCircuit\n",
    "\n",
    "ansatz = "
   ]
  },
  {
   "attachments": {},
   "cell_type": "markdown",
   "id": "f1c7f6c6",
   "metadata": {},
   "source": [
    "# Benchmarking"
   ]
  },
  {
   "cell_type": "code",
   "execution_count": null,
   "id": "e440aeea",
   "metadata": {},
   "outputs": [],
   "source": []
  }
 ],
 "metadata": {
  "kernelspec": {
   "display_name": "Python 3 (ipykernel)",
   "language": "python",
   "name": "python3"
  },
  "language_info": {
   "codemirror_mode": {
    "name": "ipython",
    "version": 3
   },
   "file_extension": ".py",
   "mimetype": "text/x-python",
   "name": "python",
   "nbconvert_exporter": "python",
   "pygments_lexer": "ipython3",
   "version": "3.10.10"
  }
 },
 "nbformat": 4,
 "nbformat_minor": 5
}
